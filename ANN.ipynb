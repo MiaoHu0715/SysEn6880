{
 "cells": [
  {
   "cell_type": "code",
   "execution_count": 19,
   "metadata": {},
   "outputs": [],
   "source": [
    "import numpy as np\n",
    "import matplotlib.pyplot as plt\n",
    "from tensorflow import keras"
   ]
  },
  {
   "cell_type": "markdown",
   "metadata": {},
   "source": [
    "Function: [***Datasets***](https://keras.io/api/datasets/) in Keras"
   ]
  },
  {
   "cell_type": "code",
   "execution_count": 20,
   "metadata": {
    "scrolled": true
   },
   "outputs": [
    {
     "name": "stdout",
     "output_type": "stream",
     "text": [
      "\n",
      "This is one of the handwriting digits of \u001b[1m6:\n",
      "\n"
     ]
    },
    {
     "data": {
      "image/png": "[encoded data removed]",
      "text/plain": [
       "<Figure size 432x288 with 1 Axes>"
      ]
     },
     "metadata": {
      "needs_background": "light"
     },
     "output_type": "display_data"
    }
   ],
   "source": [
    "# Load MNIST dataset \n",
    "(x_train , y_train), (x_test , y_test) = keras.datasets.mnist.load_data()\n",
    "\n",
    "# Standardize the data to have a spread of 1\n",
    "x_train, x_test = x_train / 255, x_test / 255\n",
    "\n",
    "# Pick a random integer/digit within the training set\n",
    "random_digit = np.random.randint(0, len(x_train)-1)\n",
    "\n",
    "# Plot the image of this digit for visualization and comparison after training\n",
    "print(\"\\nThis is one of the handwriting digits of \\033[1m\"+str(y_train[random_digit])+\":\\n\")\n",
    "plt.imshow(x_train[random_digit])\n",
    "plt.show()"
   ]
  },
  {
   "cell_type": "markdown",
   "metadata": {},
   "source": [
    "## Fully-Connected ANN"
   ]
  },
  {
   "cell_type": "markdown",
   "metadata": {},
   "source": [
    "Sequential Class: [***Sequential***](https://keras.io/api/models/sequential/) in Keras\n",
    "\n",
    "Summary Method: [***Summary***](https://keras.io/api/models/model/) in Keras\n",
    "\n",
    "\n",
    "#### Layers\n",
    "\n",
    "Layers  Class: [***Layers***](https://keras.io/api/layers/) in Keras\n",
    "\n",
    "Flatten Layer: [***Flatten layer***](https://keras.io/api/layers/reshaping_layers/flatten/) in Keras\n",
    "\n",
    "Dense Layer: [***Dense layer***](https://keras.io/api/layers/core_layers/dense/) in Keras\n",
    "\n",
    "\n",
    "#### Layer Activation\n",
    "\n",
    "Layer Activation: [***Layer activation functions***](https://keras.io/api/layers/activations/) in Keras\n",
    "\n",
    "ReLU function: [***ReLU***](https://keras.io/api/layers/activations/) in Keras\n",
    "\n",
    "Softmax function: [***Softmax***](https://keras.io/api/layers/activations/) in Keras\n",
    "\n"
   ]
  },
  {
   "cell_type": "code",
   "execution_count": 21,
   "metadata": {},
   "outputs": [
    {
     "name": "stdout",
     "output_type": "stream",
     "text": [
      "Model: \"sequential_3\"\n",
      "_________________________________________________________________\n",
      "Layer (type)                 Output Shape              Param #   \n",
      "=================================================================\n",
      "flatten_3 (Flatten)          (None, 784)               0         \n",
      "_________________________________________________________________\n",
      "dense_6 (Dense)              (None, 12)                9420      \n",
      "_________________________________________________________________\n",
      "dense_7 (Dense)              (None, 10)                130       \n",
      "=================================================================\n",
      "Total params: 9,550\n",
      "Trainable params: 9,550\n",
      "Non-trainable params: 0\n",
      "_________________________________________________________________\n"
     ]
    }
   ],
   "source": [
    "# Define the network\n",
    "model = keras.Sequential([\n",
    "    keras.layers.Flatten(input_shape=(28,28)),\n",
    "    keras.layers.Dense(12, activation='relu'),\n",
    "    keras.layers.Dense(10, activation='softmax')\n",
    "])\n",
    "model.summary()"
   ]
  },
  {
   "cell_type": "code",
   "execution_count": 22,
   "metadata": {
    "scrolled": true
   },
   "outputs": [
    {
     "ename": "TypeError",
     "evalue": "object of type 'Tensor' has no len()",
     "output_type": "error",
     "traceback": [
      "\u001b[1;31m---------------------------------------------------------------------------\u001b[0m",
      "\u001b[1;31mTypeError\u001b[0m                                 Traceback (most recent call last)",
      "\u001b[1;32m<ipython-input-22-17403e296a96>\u001b[0m in \u001b[0;36m<module>\u001b[1;34m\u001b[0m\n\u001b[0;32m      3\u001b[0m \u001b[1;33m\u001b[0m\u001b[0m\n\u001b[0;32m      4\u001b[0m \u001b[1;31m# Plot the predicted probability distribution\u001b[0m\u001b[1;33m\u001b[0m\u001b[1;33m\u001b[0m\u001b[1;33m\u001b[0m\u001b[0m\n\u001b[1;32m----> 5\u001b[1;33m \u001b[0mlabel\u001b[0m \u001b[1;33m=\u001b[0m \u001b[0mnp\u001b[0m\u001b[1;33m.\u001b[0m\u001b[0marange\u001b[0m\u001b[1;33m(\u001b[0m\u001b[1;36m0\u001b[0m\u001b[1;33m,\u001b[0m \u001b[0mlen\u001b[0m\u001b[1;33m(\u001b[0m\u001b[0mpred\u001b[0m\u001b[1;33m[\u001b[0m\u001b[1;36m0\u001b[0m\u001b[1;33m]\u001b[0m\u001b[1;33m)\u001b[0m\u001b[1;33m)\u001b[0m\u001b[1;33m\u001b[0m\u001b[1;33m\u001b[0m\u001b[0m\n\u001b[0m\u001b[0;32m      6\u001b[0m \u001b[0mplt\u001b[0m\u001b[1;33m.\u001b[0m\u001b[0mbar\u001b[0m\u001b[1;33m(\u001b[0m\u001b[0mlabel\u001b[0m\u001b[1;33m,\u001b[0m \u001b[0mpred\u001b[0m\u001b[1;33m[\u001b[0m\u001b[1;36m0\u001b[0m\u001b[1;33m]\u001b[0m\u001b[1;33m)\u001b[0m\u001b[1;33m\u001b[0m\u001b[1;33m\u001b[0m\u001b[0m\n\u001b[0;32m      7\u001b[0m \u001b[0mplt\u001b[0m\u001b[1;33m.\u001b[0m\u001b[0mxticks\u001b[0m\u001b[1;33m(\u001b[0m\u001b[0mlabel\u001b[0m\u001b[1;33m)\u001b[0m\u001b[1;33m\u001b[0m\u001b[1;33m\u001b[0m\u001b[0m\n",
      "\u001b[1;31mTypeError\u001b[0m: object of type 'Tensor' has no len()"
     ]
    }
   ],
   "source": [
    "# Calculate the model prediction \"before\" training\n",
    "pred = model(np.array(x_train[random_digit:random_digit+1], dtype=np.float32))\n",
    "\n",
    "# Plot the predicted probability distribution\n",
    "label = np.arange(0, len(pred[0]))\n",
    "plt.bar(label, pred[0]) \n",
    "plt.xticks(label) \n",
    "plt.xlabel('Digit Classification')\n",
    "plt.ylabel('Probability')\n",
    "plt.show()"
   ]
  },
  {
   "cell_type": "markdown",
   "metadata": {},
   "source": [
    "Compile Method: [***Compile***](https://keras.io/api/models/model_training_apis/) in Keras\n",
    "\n",
    "Fit Method: [***Fit***](https://keras.io/api/models/model_training_apis/) in Keras\n",
    "\n",
    "Metrics arguments: [***Metrics***](https://keras.io/api/metrics/) in Keras\n",
    "\n",
    "Accuracy arguments: [***Accuracy***](https://keras.io/api/metrics/accuracy_metrics/#accuracy-class) in Keras\n",
    "\n",
    "Losses classes: [***Losses***](https://keras.io/api/losses/) in Keras\n",
    "\n",
    "Sparse Categorical Crossentropy class: [***SparseCategoricalCrossentropy***](https://keras.io/api/losses/probabilistic_losses/#sparsecategoricalcrossentropy-class) in Keras"
   ]
  },
  {
   "cell_type": "code",
   "execution_count": 24,
   "metadata": {
    "scrolled": true
   },
   "outputs": [
    {
     "name": "stdout",
     "output_type": "stream",
     "text": [
      "Train on 60000 samples, validate on 10000 samples\n",
      "Epoch 1/30\n",
      "60000/60000 [==============================] - 4s 59us/sample - loss: 0.4574 - acc: 0.8700 - val_loss: 0.2746 - val_acc: 0.9227\n",
      "Epoch 2/30\n",
      "60000/60000 [==============================] - 3s 50us/sample - loss: 0.2628 - acc: 0.9245 - val_loss: 0.2396 - val_acc: 0.9313\n",
      "Epoch 3/30\n",
      "60000/60000 [==============================] - 3s 45us/sample - loss: 0.2335 - acc: 0.9336 - val_loss: 0.2264 - val_acc: 0.9353\n",
      "Epoch 4/30\n",
      "60000/60000 [==============================] - 3s 42us/sample - loss: 0.2161 - acc: 0.9385 - val_loss: 0.2141 - val_acc: 0.9372\n",
      "Epoch 5/30\n",
      "60000/60000 [==============================] - 2s 42us/sample - loss: 0.2031 - acc: 0.9426 - val_loss: 0.2033 - val_acc: 0.9412\n",
      "Epoch 6/30\n",
      "60000/60000 [==============================] - 2s 39us/sample - loss: 0.1941 - acc: 0.9452 - val_loss: 0.2022 - val_acc: 0.9421\n",
      "Epoch 7/30\n",
      "60000/60000 [==============================] - 2s 40us/sample - loss: 0.1871 - acc: 0.9461 - val_loss: 0.1962 - val_acc: 0.9431\n",
      "Epoch 8/30\n",
      "60000/60000 [==============================] - 2s 40us/sample - loss: 0.1824 - acc: 0.9476 - val_loss: 0.1920 - val_acc: 0.9450\n",
      "Epoch 9/30\n",
      "60000/60000 [==============================] - 2s 40us/sample - loss: 0.1764 - acc: 0.9497 - val_loss: 0.1945 - val_acc: 0.9418\n",
      "Epoch 10/30\n",
      "60000/60000 [==============================] - 2s 39us/sample - loss: 0.1728 - acc: 0.9508 - val_loss: 0.1924 - val_acc: 0.9417\n",
      "Epoch 11/30\n",
      "60000/60000 [==============================] - 2s 40us/sample - loss: 0.1689 - acc: 0.9520 - val_loss: 0.1873 - val_acc: 0.9442\n",
      "Epoch 12/30\n",
      "60000/60000 [==============================] - 2s 39us/sample - loss: 0.1661 - acc: 0.9524 - val_loss: 0.1919 - val_acc: 0.9428\n",
      "Epoch 13/30\n",
      "60000/60000 [==============================] - 2s 40us/sample - loss: 0.1640 - acc: 0.9535 - val_loss: 0.1916 - val_acc: 0.9444\n",
      "Epoch 14/30\n",
      "60000/60000 [==============================] - 2s 40us/sample - loss: 0.1612 - acc: 0.9532 - val_loss: 0.1947 - val_acc: 0.9429\n",
      "Epoch 15/30\n",
      "60000/60000 [==============================] - 2s 40us/sample - loss: 0.1586 - acc: 0.9543 - val_loss: 0.1941 - val_acc: 0.9445\n",
      "Epoch 16/30\n",
      "60000/60000 [==============================] - 2s 39us/sample - loss: 0.1569 - acc: 0.9549 - val_loss: 0.1891 - val_acc: 0.9451\n",
      "Epoch 17/30\n",
      "60000/60000 [==============================] - 2s 39us/sample - loss: 0.1542 - acc: 0.9556 - val_loss: 0.1904 - val_acc: 0.9452\n",
      "Epoch 18/30\n",
      "60000/60000 [==============================] - 2s 40us/sample - loss: 0.1529 - acc: 0.9554 - val_loss: 0.1964 - val_acc: 0.9436\n",
      "Epoch 19/30\n",
      "60000/60000 [==============================] - 2s 40us/sample - loss: 0.1516 - acc: 0.9559 - val_loss: 0.1951 - val_acc: 0.9438\n",
      "Epoch 20/30\n",
      "60000/60000 [==============================] - 2s 40us/sample - loss: 0.1506 - acc: 0.9562 - val_loss: 0.1859 - val_acc: 0.9461\n",
      "Epoch 21/30\n",
      "60000/60000 [==============================] - 2s 39us/sample - loss: 0.1493 - acc: 0.9566 - val_loss: 0.1897 - val_acc: 0.9462\n",
      "Epoch 22/30\n",
      "60000/60000 [==============================] - 2s 40us/sample - loss: 0.1469 - acc: 0.9576 - val_loss: 0.1898 - val_acc: 0.9463\n",
      "Epoch 23/30\n",
      "60000/60000 [==============================] - 2s 40us/sample - loss: 0.1456 - acc: 0.9578 - val_loss: 0.1925 - val_acc: 0.9442\n",
      "Epoch 24/30\n",
      "60000/60000 [==============================] - 3s 43us/sample - loss: 0.1451 - acc: 0.9580 - val_loss: 0.1939 - val_acc: 0.9432\n",
      "Epoch 25/30\n",
      "60000/60000 [==============================] - 2s 40us/sample - loss: 0.1440 - acc: 0.9575 - val_loss: 0.1901 - val_acc: 0.9469\n",
      "Epoch 26/30\n",
      "60000/60000 [==============================] - 2s 38us/sample - loss: 0.1427 - acc: 0.9586 - val_loss: 0.1921 - val_acc: 0.9453\n",
      "Epoch 27/30\n",
      "60000/60000 [==============================] - 2s 41us/sample - loss: 0.1416 - acc: 0.9591 - val_loss: 0.1930 - val_acc: 0.9458\n",
      "Epoch 28/30\n",
      "60000/60000 [==============================] - 2s 40us/sample - loss: 0.1409 - acc: 0.9590 - val_loss: 0.1921 - val_acc: 0.9448\n",
      "Epoch 29/30\n",
      "60000/60000 [==============================] - 2s 40us/sample - loss: 0.1397 - acc: 0.9587 - val_loss: 0.1922 - val_acc: 0.9461\n",
      "Epoch 30/30\n",
      "60000/60000 [==============================] - 2s 41us/sample - loss: 0.1384 - acc: 0.9595 - val_loss: 0.1922 - val_acc: 0.9461\n"
     ]
    }
   ],
   "source": [
    "# Compile the model\n",
    "model.compile(optimizer='adam',\n",
    "              loss=keras.losses.SparseCategoricalCrossentropy(),\n",
    "              metrics=['accuracy'])\n",
    "\n",
    "# Train the model and record the history\n",
    "history = model.fit(x_train, y_train, validation_data=(x_test, y_test), epochs=30, batch_size=32)"
   ]
  },
  {
   "cell_type": "code",
   "execution_count": 25,
   "metadata": {},
   "outputs": [
    {
     "ename": "KeyError",
     "evalue": "'accuracy'",
     "output_type": "error",
     "traceback": [
      "\u001b[1;31m---------------------------------------------------------------------------\u001b[0m",
      "\u001b[1;31mKeyError\u001b[0m                                  Traceback (most recent call last)",
      "\u001b[1;32m<ipython-input-25-05b48545aa76>\u001b[0m in \u001b[0;36m<module>\u001b[1;34m\u001b[0m\n\u001b[0;32m      3\u001b[0m \u001b[0max1\u001b[0m\u001b[1;33m.\u001b[0m\u001b[0mset_xlabel\u001b[0m\u001b[1;33m(\u001b[0m\u001b[1;34m'Epoch'\u001b[0m\u001b[1;33m,\u001b[0m \u001b[0mfontsize\u001b[0m\u001b[1;33m=\u001b[0m\u001b[1;36m15\u001b[0m\u001b[1;33m)\u001b[0m\u001b[1;33m\u001b[0m\u001b[1;33m\u001b[0m\u001b[0m\n\u001b[0;32m      4\u001b[0m \u001b[0max1\u001b[0m\u001b[1;33m.\u001b[0m\u001b[0mset_ylabel\u001b[0m\u001b[1;33m(\u001b[0m\u001b[1;34m'Accuracy'\u001b[0m\u001b[1;33m,\u001b[0m \u001b[0mcolor\u001b[0m\u001b[1;33m=\u001b[0m\u001b[1;34m'g'\u001b[0m\u001b[1;33m,\u001b[0m \u001b[0mfontsize\u001b[0m\u001b[1;33m=\u001b[0m\u001b[1;36m15\u001b[0m\u001b[1;33m)\u001b[0m\u001b[1;33m\u001b[0m\u001b[1;33m\u001b[0m\u001b[0m\n\u001b[1;32m----> 5\u001b[1;33m \u001b[0max1\u001b[0m\u001b[1;33m.\u001b[0m\u001b[0mplot\u001b[0m\u001b[1;33m(\u001b[0m\u001b[0mhistory\u001b[0m\u001b[1;33m.\u001b[0m\u001b[0mhistory\u001b[0m\u001b[1;33m[\u001b[0m\u001b[1;34m'accuracy'\u001b[0m\u001b[1;33m]\u001b[0m\u001b[1;33m,\u001b[0m \u001b[1;34m'g--'\u001b[0m\u001b[1;33m,\u001b[0m \u001b[0mlabel\u001b[0m\u001b[1;33m=\u001b[0m\u001b[1;34m'Training Accuracy'\u001b[0m\u001b[1;33m)\u001b[0m\u001b[1;33m\u001b[0m\u001b[1;33m\u001b[0m\u001b[0m\n\u001b[0m\u001b[0;32m      6\u001b[0m \u001b[0max1\u001b[0m\u001b[1;33m.\u001b[0m\u001b[0mtick_params\u001b[0m\u001b[1;33m(\u001b[0m\u001b[0maxis\u001b[0m\u001b[1;33m=\u001b[0m\u001b[1;34m'y'\u001b[0m\u001b[1;33m,\u001b[0m \u001b[0mlabelcolor\u001b[0m\u001b[1;33m=\u001b[0m\u001b[1;34m'g'\u001b[0m\u001b[1;33m)\u001b[0m\u001b[1;33m\u001b[0m\u001b[1;33m\u001b[0m\u001b[0m\n\u001b[0;32m      7\u001b[0m \u001b[1;33m\u001b[0m\u001b[0m\n",
      "\u001b[1;31mKeyError\u001b[0m: 'accuracy'"
     ]
    },
    {
     "data": {
      "image/png": "[encoded data removed]",
      "text/plain": [
       "<Figure size 432x288 with 1 Axes>"
      ]
     },
     "metadata": {
      "needs_background": "light"
     },
     "output_type": "display_data"
    }
   ],
   "source": [
    "# Plot the accuracy based on the training/optimization history\n",
    "fig, ax1 = plt.subplots()\n",
    "ax1.set_xlabel('Epoch', fontsize=15)\n",
    "ax1.set_ylabel('Accuracy', color='g', fontsize=15)\n",
    "ax1.plot(history.history['accuracy'], 'g--', label='Training Accuracy')\n",
    "ax1.tick_params(axis='y', labelcolor='g')\n",
    "\n",
    "# also plot the loss\n",
    "ax2 = ax1.twinx()  # instantiate a second axes that shares the same x-axis\n",
    "ax2.set_ylabel('Loss', color='b', fontsize=15) \n",
    "ax2.plot(history.history['loss'], 'b:',label='Loss')\n",
    "ax2.tick_params(axis='y', labelcolor='b')\n",
    "\n",
    "fig.legend(loc='center', fontsize=13)\n",
    "plt.show()"
   ]
  },
  {
   "cell_type": "code",
   "execution_count": null,
   "metadata": {},
   "outputs": [],
   "source": [
    "# Calculate the model prediction \"before\" training\n",
    "pred = model(np.array(x_train[random_digit:random_digit+1], dtype=np.float32))\n",
    "\n",
    "# Plot the predicted probability distribution\n",
    "plt.bar(label, pred[0]) \n",
    "plt.xticks(label) \n",
    "plt.xlabel('Digit Classification')\n",
    "plt.ylabel('Probability')\n",
    "plt.show()"
   ]
  },
  {
   "cell_type": "markdown",
   "metadata": {},
   "source": [
    "## Compare Optimizers for Training"
   ]
  },
  {
   "cell_type": "code",
   "execution_count": null,
   "metadata": {},
   "outputs": [],
   "source": [
    "def build_compile(optimizer):\n",
    "    \n",
    "    # Use the same network topology as last week\n",
    "    model = keras.Sequential([ keras.layers.Flatten(input_shape=(28, 28)), \n",
    "                          keras.layers.Dense(128, activation='relu'),\n",
    "                          keras.layers.Dense(10, activation='softmax')])\n",
    "\n",
    "    # compile the model with a cross-entropy loss and specify the given optimizer\n",
    "    model.compile(optimizer=optimizer, loss=keras.losses.SparseCategoricalCrossentropy(),metrics=['accuracy'])\n",
    "    return model"
   ]
  },
  {
   "cell_type": "markdown",
   "metadata": {},
   "source": [
    "#### Optimizers\n",
    "\n",
    "Optimizers arguments: [***Optimizers***](https://keras.io/api/optimizers/) in Keras\n",
    "\n",
    "SGD Class: [***SGD***](https://keras.io/api/models/model_training_apis/) in Keras\n",
    "\n",
    "SGD Class: [***Nesterov***](https://keras.io/api/models/model_training_apis/) in Keras\n",
    "\n",
    "RMSprop Class: [***RMSprop***](https://keras.io/api/models/model_training_apis/) in Keras\n",
    "\n",
    "Adam Class: [***Adam***](https://keras.io/api/models/model_training_apis/) in Keras\n",
    "\n",
    "Adadelta Class: [***Adadelta***](https://keras.io/api/models/model_training_apis/) in Keras\n",
    "\n",
    "Adagrad Class: [***Adagrad***](https://keras.io/api/models/model_training_apis/) in Keras\n",
    "\n",
    "Adamax Class: [***Adamax***](https://keras.io/api/models/model_training_apis/) in Keras\n",
    "\n",
    "Nadam Class: [***Nadam***](https://keras.io/api/models/model_training_apis/) in Keras\n",
    "\n",
    "Ftrl Class: [***Ftrl***](https://keras.io/api/models/model_training_apis/) in Keras\n"
   ]
  },
  {
   "cell_type": "code",
   "execution_count": null,
   "metadata": {},
   "outputs": [],
   "source": [
    "# Generate an array of the different optimizers to iterate over in a for loop\n",
    "optimizer_names = ['SGD','Momentum','Nesterov', 'RMSprop','Adagrad','Adam','NAdam']\n",
    "optimizer_list = ['SGD',keras.optimizers.SGD(learning_rate=0.01, momentum=0.5, nesterov=False),keras.optimizers.SGD(learning_rate=0.01, momentum=0.5, nesterov=True), 'RMSprop','Adagrad','Adam','NAdam']\n",
    "\n",
    "# Arrays for training and validation performance\n",
    "hist_acc = []\n",
    "hist_val_acc = []\n",
    "hist_loss = []\n",
    "hist_val_loss = []\n",
    "\n",
    "# Iterate over optimizers and train the network, using x_test and y_test as a validation set in each epoch\n",
    "for name,item in zip(optimizer_names, optimizer_list):\n",
    "    print(\"----------------------------------------------------------------------------------\")\n",
    "    print(\"Training the ANN with %s optimizer\" %str(name))\n",
    "    \n",
    "    # Get the model from our function above\n",
    "    model = build_compile(item)\n",
    "    \n",
    "    # Train the model\n",
    "    seqModel = model.fit(x_train, y_train, epochs=30, batch_size=32, validation_data=(x_test, y_test))\n",
    "    \n",
    "    # Store the performance\n",
    "    hist_acc.append(seqModel.history['accuracy'])\n",
    "    hist_val_acc.append(seqModel.history['val_accuracy'])\n",
    "    hist_loss.append(seqModel.history['loss'])\n",
    "    hist_val_loss.append(seqModel.history['val_loss'])    "
   ]
  },
  {
   "cell_type": "code",
   "execution_count": null,
   "metadata": {},
   "outputs": [],
   "source": [
    "plt.figure(figsize=(20,12))\n",
    "\n",
    "# summarize history for accuracy on training set\n",
    "plt.subplot(221)\n",
    "for i in range(len(optimizer_list)):\n",
    "    plt.plot(hist_acc[i],'-o',label=str(optimizer_names[i]))\n",
    "plt.title('model accuracy on training set')\n",
    "plt.ylabel('accuracy')\n",
    "plt.xlabel('epoch')\n",
    "plt.legend(loc='lower right')\n",
    "\n",
    "# summarize history for accuracy on test set\n",
    "plt.subplot(222)\n",
    "for i in range(len(optimizer_list)):\n",
    "    plt.plot(hist_val_acc[i],'-o', label=str(optimizer_names[i]))\n",
    "plt.title('model accuracy on testing set')\n",
    "plt.ylabel('accuracy')\n",
    "plt.xlabel('epoch')\n",
    "plt.legend(loc='lower right')\n",
    "\n",
    "# summarize history for loss on training set\n",
    "plt.subplot(223)\n",
    "for i in range(len(optimizer_list)):\n",
    "    plt.plot(hist_loss[i],'-o',label=str(optimizer_names[i]))\n",
    "plt.title('model loss on training set')\n",
    "plt.ylabel('loss')\n",
    "plt.xlabel('epoch')\n",
    "plt.legend(loc='upper right')\n",
    "\n",
    "# summarize history for loss on test set\n",
    "plt.subplot(224)\n",
    "for i in range(len(optimizer_list)):\n",
    "    plt.plot(hist_val_loss[i],'-o', label=str(optimizer_names[i]))\n",
    "plt.title('model loss on testing set')\n",
    "plt.ylabel('loss')\n",
    "plt.xlabel('epoch')\n",
    "plt.legend(loc='upper right')\n",
    "\n",
    "plt.show()"
   ]
  },
  {
   "cell_type": "markdown",
   "metadata": {},
   "source": [
    "## Early Stopping"
   ]
  },
  {
   "cell_type": "markdown",
   "metadata": {},
   "source": [
    "Callbacks API: [***Callbacks***](https://keras.io/api/callbacks/) in Keras\n",
    "\n",
    "EarlyStopping Class: [***EarlyStopping***](https://keras.io/api/callbacks/early_stopping/) in Keras"
   ]
  },
  {
   "cell_type": "code",
   "execution_count": null,
   "metadata": {},
   "outputs": [],
   "source": [
    "# Build the model with early stopping\n",
    "model_es = keras.Sequential([keras.layers.Flatten(input_shape=(28, 28)), \n",
    "                      keras.layers.Dense(128, activation='relu'),\n",
    "                      keras.layers.Dense(10, activation='softmax')])\n",
    "\n",
    "# Compile the model and optimize with adam\n",
    "es = keras.callbacks.EarlyStopping(monitor='val_loss', mode='min', verbose=1)\n",
    "model_es.compile(optimizer='Adam', loss=keras.losses.SparseCategoricalCrossentropy(),metrics=['accuracy'])\n",
    "\n",
    "# Fit the model to the data while providing a validation set for each epoch\n",
    "history_es = model_es.fit(x_train, y_train, epochs=30, batch_size=32, validation_data=(x_test, y_test), callbacks=[es])"
   ]
  },
  {
   "cell_type": "markdown",
   "metadata": {},
   "source": [
    "## Ridge (L2) Regularization"
   ]
  },
  {
   "cell_type": "markdown",
   "metadata": {},
   "source": [
    "Layer weight regularizers: [***Layer weight regularizers***](https://keras.io/api/layers/regularizers/) in Keras\n",
    "\n",
    "L2 Class: [***L2 class***](https://keras.io/api/layers/regularizers/#L2class) in Keras"
   ]
  },
  {
   "cell_type": "code",
   "execution_count": null,
   "metadata": {},
   "outputs": [],
   "source": [
    "# Build the model with an L2 regularization added to all weights\n",
    "\n",
    "model_l2 = keras.Sequential([keras.layers.Flatten(input_shape=(28, 28)), \n",
    "                      keras.layers.Dense(128, activation='relu',kernel_regularizer=keras.regularizers.l2(0.001)),\n",
    "                      keras.layers.Dense(10, activation='softmax',kernel_regularizer=keras.regularizers.l2(0.001))])\n",
    "\n",
    "model_l2.summary()\n",
    "\n",
    "# Compile the model and optimize with adam\n",
    "model_l2.compile(optimizer='Adam', loss=keras.losses.SparseCategoricalCrossentropy(),metrics=['accuracy'])\n",
    "\n",
    "# Fit the model to the data while providing a validation set for each epoch\n",
    "history_l2 = model_l2.fit(x_train, y_train, epochs=30, batch_size=32, validation_data=(x_test, y_test))"
   ]
  },
  {
   "cell_type": "markdown",
   "metadata": {},
   "source": [
    "## Dropout"
   ]
  },
  {
   "cell_type": "markdown",
   "metadata": {},
   "source": [
    "Dropout Layer: [***Dropout***](https://keras.io/api/layers/regularization_layers/dropout/) in Keras"
   ]
  },
  {
   "cell_type": "code",
   "execution_count": null,
   "metadata": {},
   "outputs": [],
   "source": [
    "# Dropout\n",
    "\n",
    "# Build the model with dropout\n",
    "model_dropout = keras.Sequential([keras.layers.Flatten(input_shape=(28, 28)), \n",
    "                      keras.layers.Dense(128, activation='relu'),\n",
    "                      keras.layers.Dropout(.2),\n",
    "                      keras.layers.Dense(10, activation='softmax'),\n",
    "                      keras.layers.Dropout(.2)])\n",
    "\n",
    "model_dropout.summary()\n",
    "\n",
    "# Compile the model and optimize with adam\n",
    "model_dropout.compile(optimizer='Adam', loss=keras.losses.SparseCategoricalCrossentropy(),metrics=['accuracy'])\n",
    "\n",
    "# Fit the model to the data while providing a validation set for each epoch\n",
    "history_dropout = model_dropout.fit(x_train, y_train, epochs=30, batch_size=32, validation_data=(x_test, y_test))"
   ]
  },
  {
   "cell_type": "code",
   "execution_count": null,
   "metadata": {
    "scrolled": true
   },
   "outputs": [],
   "source": [
    "# plotting the accuracy curve for the cases of ridge regression, early stopping and dropout\n",
    "plt.figure(figsize=(10,6))\n",
    "plt.plot(hist_val_acc[0],'-o', label='Standard')\n",
    "plt.plot(history_l2.history['val_accuracy'],'-o', label=\"Ridge Regularization\")\n",
    "plt.plot(history_es.history['val_accuracy'],'-o', label=\"Early Stopping\")\n",
    "plt.plot(history_dropout.history['val_accuracy'],'-o', label=\"Dropout\")\n",
    "plt.title('model accuracy on test')\n",
    "plt.ylabel('accuracy')\n",
    "plt.xlabel('epoch')\n",
    "plt.legend(loc='lower right')\n",
    "plt.show()"
   ]
  }
 ],
 "metadata": {
  "kernelspec": {
   "display_name": "Python 3",
   "language": "python",
   "name": "python3"
  },
  "language_info": {
   "codemirror_mode": {
    "name": "ipython",
    "version": 3
   },
   "file_extension": ".py",
   "mimetype": "text/x-python",
   "name": "python",
   "nbconvert_exporter": "python",
   "pygments_lexer": "ipython3",
   "version": "3.7.3"
  }
 },
 "nbformat": 4,
 "nbformat_minor": 5
}
