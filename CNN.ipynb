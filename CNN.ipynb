{
 "cells": [
  {
   "cell_type": "code",
   "execution_count": 1,
   "id": "narrow-white",
   "metadata": {},
   "outputs": [
    {
     "name": "stderr",
     "output_type": "stream",
     "text": [
      "Using TensorFlow backend.\n"
     ]
    }
   ],
   "source": [
    "import numpy as np\n",
    "import matplotlib.pyplot as plt\n",
    "\n",
    "from tensorflow import keras\n",
    "from keras.models import Sequential\n",
    "from keras.layers import Dense, Dropout, Flatten, Conv2D, MaxPool2D\n",
    "from keras.preprocessing.image import ImageDataGenerator\n",
    "from keras.callbacks import ReduceLROnPlateau\n",
    "\n",
    "from sklearn.model_selection import train_test_split"
   ]
  },
  {
   "cell_type": "markdown",
   "id": "registered-publisher",
   "metadata": {},
   "source": [
    "## Load the MNIST Dataset"
   ]
  },
  {
   "cell_type": "code",
   "execution_count": 2,
   "id": "enabling-solution",
   "metadata": {},
   "outputs": [
    {
     "name": "stdout",
     "output_type": "stream",
     "text": [
      "x_train.shape = (50000, 28, 28, 1)\n",
      "y_train.shape = (50000,)\n",
      "x_val.shape = (10000, 28, 28, 1)\n",
      "y_val.shape = (10000,)\n",
      "x_test.shape = (10000, 28, 28, 1)\n",
      "y_test.shape = (10000,)\n"
     ]
    }
   ],
   "source": [
    "(x_train, y_train),(x_test, y_test) = keras.datasets.mnist.load_data()\n",
    "x_train, x_test = x_train / 255.0, x_test / 255.0  \n",
    "\n",
    "x_train = x_train.reshape(-1,28,28,1)\n",
    "x_test = x_test.reshape(-1,28,28,1)\n",
    "\n",
    "# Split the data into training and testing datasets\n",
    "x_train, x_val, y_train, y_val = train_test_split(\n",
    "\tx_train, y_train, test_size = 1/6, random_state=42)\n",
    "\n",
    "# Print the dataset sizes\n",
    "print('x_train.shape =', x_train.shape)\n",
    "print('y_train.shape =', y_train.shape)\n",
    "print('x_val.shape =', x_val.shape)\n",
    "print('y_val.shape =', y_val.shape)\n",
    "print('x_test.shape =', x_test.shape)\n",
    "print('y_test.shape =', y_test.shape)"
   ]
  },
  {
   "cell_type": "markdown",
   "id": "compatible-cloud",
   "metadata": {},
   "source": [
    "## Define and Train ConvNet and Simple ANN"
   ]
  },
  {
   "cell_type": "code",
   "execution_count": 3,
   "id": "distributed-integration",
   "metadata": {},
   "outputs": [],
   "source": [
    "# Define a function to generate and complie the ConvNet\n",
    "def make_conv_model():\n",
    "    model = Sequential()\n",
    "    \n",
    "    model.add(Conv2D(filters = 10, kernel_size = (5,5),padding = 'Same', \n",
    "                activation ='relu', input_shape = (28,28,1)))\n",
    "    model.add(Conv2D(filters = 10, kernel_size = (5,5),padding = 'Same', \n",
    "                activation ='relu'))\n",
    "    model.add(MaxPool2D(pool_size=(2,2)))\n",
    "    model.add(Flatten())\n",
    "    model.add(Dense(64, activation = \"relu\"))\n",
    "    model.add(Dropout(0.2))\n",
    "    model.add(Dense(10, activation = \"softmax\"))\n",
    "    \n",
    "    model.compile(optimizer=keras.optimizers.Adam(),\n",
    "                loss='sparse_categorical_crossentropy',\n",
    "                metrics=['accuracy'] ) \n",
    "    \n",
    "    model.summary()\n",
    "    return model\n",
    "\n",
    "# Define a function to generate and complie the ANN\n",
    "def make_dense_model():\n",
    "    model = Sequential()\n",
    "    \n",
    "    model.add(Flatten(input_shape = (28,28,1)))\n",
    "    model.add(Dense(512, activation = \"relu\"))\n",
    "    model.add(Dropout(0.2))\n",
    "    model.add(Dense(256, activation = \"relu\"))\n",
    "    model.add(Dropout(0.2))\n",
    "    model.add(Dense(10, activation = \"softmax\"))\n",
    "\n",
    "    model.compile(optimizer=keras.optimizers.Adam(),\n",
    "                loss='sparse_categorical_crossentropy',\n",
    "                metrics=['accuracy']  ) \n",
    "    \n",
    "    model.summary()\n",
    "    return model\n",
    "\n",
    "# Define the parameters for training the models\n",
    "epochs = 30\n",
    "batch_size = 86"
   ]
  },
  {
   "cell_type": "code",
   "execution_count": 4,
   "id": "aquatic-mainstream",
   "metadata": {},
   "outputs": [
    {
     "name": "stdout",
     "output_type": "stream",
     "text": [
      "Model: \"sequential_1\"\n",
      "_________________________________________________________________\n",
      "Layer (type)                 Output Shape              Param #   \n",
      "=================================================================\n",
      "conv2d_1 (Conv2D)            (None, 28, 28, 10)        260       \n",
      "_________________________________________________________________\n",
      "conv2d_2 (Conv2D)            (None, 28, 28, 10)        2510      \n",
      "_________________________________________________________________\n",
      "max_pooling2d_1 (MaxPooling2 (None, 14, 14, 10)        0         \n",
      "_________________________________________________________________\n",
      "flatten_1 (Flatten)          (None, 1960)              0         \n",
      "_________________________________________________________________\n",
      "dense_1 (Dense)              (None, 64)                125504    \n",
      "_________________________________________________________________\n",
      "dropout_1 (Dropout)          (None, 64)                0         \n",
      "_________________________________________________________________\n",
      "dense_2 (Dense)              (None, 10)                650       \n",
      "=================================================================\n",
      "Total params: 128,924\n",
      "Trainable params: 128,924\n",
      "Non-trainable params: 0\n",
      "_________________________________________________________________\n",
      "Train on 50000 samples, validate on 10000 samples\n",
      "Epoch 1/30\n",
      "50000/50000 [==============================] - 78s 2ms/step - loss: 0.2855 - accuracy: 0.9136 - val_loss: 0.0790 - val_accuracy: 0.9755\n",
      "Epoch 2/30\n",
      "50000/50000 [==============================] - 83s 2ms/step - loss: 0.0888 - accuracy: 0.9734 - val_loss: 0.0539 - val_accuracy: 0.9834\n",
      "Epoch 3/30\n",
      "50000/50000 [==============================] - 83s 2ms/step - loss: 0.0666 - accuracy: 0.9795 - val_loss: 0.0522 - val_accuracy: 0.9836\n",
      "Epoch 4/30\n",
      "50000/50000 [==============================] - 91s 2ms/step - loss: 0.0537 - accuracy: 0.9832 - val_loss: 0.0412 - val_accuracy: 0.9887\n",
      "Epoch 5/30\n",
      "50000/50000 [==============================] - 85s 2ms/step - loss: 0.0443 - accuracy: 0.9858 - val_loss: 0.0399 - val_accuracy: 0.9875\n",
      "Epoch 6/30\n",
      "50000/50000 [==============================] - 94s 2ms/step - loss: 0.0387 - accuracy: 0.9876 - val_loss: 0.0407 - val_accuracy: 0.9891\n",
      "Epoch 7/30\n",
      "50000/50000 [==============================] - 78s 2ms/step - loss: 0.0336 - accuracy: 0.9892 - val_loss: 0.0399 - val_accuracy: 0.9893\n",
      "Epoch 8/30\n",
      "50000/50000 [==============================] - 88s 2ms/step - loss: 0.0327 - accuracy: 0.9892 - val_loss: 0.0387 - val_accuracy: 0.9894\n",
      "Epoch 9/30\n",
      "50000/50000 [==============================] - 84s 2ms/step - loss: 0.0282 - accuracy: 0.9905 - val_loss: 0.0411 - val_accuracy: 0.9887\n",
      "Epoch 10/30\n",
      "50000/50000 [==============================] - 80s 2ms/step - loss: 0.0256 - accuracy: 0.9917 - val_loss: 0.0386 - val_accuracy: 0.9903\n",
      "Epoch 11/30\n",
      "50000/50000 [==============================] - 86s 2ms/step - loss: 0.0230 - accuracy: 0.9927 - val_loss: 0.0477 - val_accuracy: 0.9890\n",
      "Epoch 12/30\n",
      "50000/50000 [==============================] - 79s 2ms/step - loss: 0.0213 - accuracy: 0.9926 - val_loss: 0.0472 - val_accuracy: 0.9879\n",
      "Epoch 13/30\n",
      "50000/50000 [==============================] - 79s 2ms/step - loss: 0.0188 - accuracy: 0.9936 - val_loss: 0.0418 - val_accuracy: 0.9903\n",
      "Epoch 14/30\n",
      "50000/50000 [==============================] - 80s 2ms/step - loss: 0.0172 - accuracy: 0.9941 - val_loss: 0.0410 - val_accuracy: 0.9902\n",
      "Epoch 15/30\n",
      "50000/50000 [==============================] - 84s 2ms/step - loss: 0.0163 - accuracy: 0.9945 - val_loss: 0.0421 - val_accuracy: 0.9901\n",
      "Epoch 16/30\n",
      "50000/50000 [==============================] - 79s 2ms/step - loss: 0.0152 - accuracy: 0.9948 - val_loss: 0.0413 - val_accuracy: 0.9916\n",
      "Epoch 17/30\n",
      "50000/50000 [==============================] - 79s 2ms/step - loss: 0.0147 - accuracy: 0.9949 - val_loss: 0.0436 - val_accuracy: 0.9905\n",
      "Epoch 18/30\n",
      "50000/50000 [==============================] - 84s 2ms/step - loss: 0.0139 - accuracy: 0.9952 - val_loss: 0.0437 - val_accuracy: 0.9905\n",
      "Epoch 19/30\n",
      "50000/50000 [==============================] - 79s 2ms/step - loss: 0.0107 - accuracy: 0.9964 - val_loss: 0.0458 - val_accuracy: 0.9907\n",
      "Epoch 20/30\n",
      "50000/50000 [==============================] - 80s 2ms/step - loss: 0.0130 - accuracy: 0.9952 - val_loss: 0.0436 - val_accuracy: 0.9909\n",
      "Epoch 21/30\n",
      "50000/50000 [==============================] - 82s 2ms/step - loss: 0.0125 - accuracy: 0.9957 - val_loss: 0.0534 - val_accuracy: 0.9890\n",
      "Epoch 22/30\n",
      "50000/50000 [==============================] - 81s 2ms/step - loss: 0.0103 - accuracy: 0.9964 - val_loss: 0.0568 - val_accuracy: 0.9893\n",
      "Epoch 23/30\n",
      "50000/50000 [==============================] - 80s 2ms/step - loss: 0.0110 - accuracy: 0.9963 - val_loss: 0.0436 - val_accuracy: 0.9915\n",
      "Epoch 24/30\n",
      "50000/50000 [==============================] - 80s 2ms/step - loss: 0.0110 - accuracy: 0.9964 - val_loss: 0.0443 - val_accuracy: 0.9911\n",
      "Epoch 25/30\n",
      "50000/50000 [==============================] - 83s 2ms/step - loss: 0.0104 - accuracy: 0.9963 - val_loss: 0.0509 - val_accuracy: 0.9896\n",
      "Epoch 26/30\n",
      "50000/50000 [==============================] - 79s 2ms/step - loss: 0.0095 - accuracy: 0.9967 - val_loss: 0.0526 - val_accuracy: 0.9907\n",
      "Epoch 27/30\n",
      "50000/50000 [==============================] - 82s 2ms/step - loss: 0.0092 - accuracy: 0.9969 - val_loss: 0.0450 - val_accuracy: 0.9912\n",
      "Epoch 28/30\n",
      "50000/50000 [==============================] - 80s 2ms/step - loss: 0.0085 - accuracy: 0.9971 - val_loss: 0.0503 - val_accuracy: 0.9912\n",
      "Epoch 29/30\n",
      "50000/50000 [==============================] - 83s 2ms/step - loss: 0.0081 - accuracy: 0.9971 - val_loss: 0.0510 - val_accuracy: 0.9904\n",
      "Epoch 30/30\n",
      "50000/50000 [==============================] - 79s 2ms/step - loss: 0.0085 - accuracy: 0.9970 - val_loss: 0.0474 - val_accuracy: 0.9912\n",
      "10000/10000 [==============================] - 3s 310us/step\n"
     ]
    }
   ],
   "source": [
    "simple_conv_model = make_conv_model()\n",
    "simple_conv_history = simple_conv_model.fit(x_train, y_train, batch_size=batch_size, epochs=epochs, validation_data=(x_val, y_val), verbose=1)\n",
    "simple_conv_test_loss, simple_conv_test_acc = simple_conv_model.evaluate(x_test, y_test)"
   ]
  },
  {
   "cell_type": "code",
   "execution_count": 5,
   "id": "electrical-diving",
   "metadata": {},
   "outputs": [
    {
     "name": "stdout",
     "output_type": "stream",
     "text": [
      "Model: \"sequential_2\"\n",
      "_________________________________________________________________\n",
      "Layer (type)                 Output Shape              Param #   \n",
      "=================================================================\n",
      "flatten_2 (Flatten)          (None, 784)               0         \n",
      "_________________________________________________________________\n",
      "dense_3 (Dense)              (None, 512)               401920    \n",
      "_________________________________________________________________\n",
      "dropout_2 (Dropout)          (None, 512)               0         \n",
      "_________________________________________________________________\n",
      "dense_4 (Dense)              (None, 256)               131328    \n",
      "_________________________________________________________________\n",
      "dropout_3 (Dropout)          (None, 256)               0         \n",
      "_________________________________________________________________\n",
      "dense_5 (Dense)              (None, 10)                2570      \n",
      "=================================================================\n",
      "Total params: 535,818\n",
      "Trainable params: 535,818\n",
      "Non-trainable params: 0\n",
      "_________________________________________________________________\n",
      "Train on 50000 samples, validate on 10000 samples\n",
      "Epoch 1/30\n",
      "50000/50000 [==============================] - 5s 91us/step - loss: 0.2679 - accuracy: 0.9198 - val_loss: 0.1228 - val_accuracy: 0.9635\n",
      "Epoch 2/30\n",
      "50000/50000 [==============================] - 4s 86us/step - loss: 0.1143 - accuracy: 0.9655 - val_loss: 0.0897 - val_accuracy: 0.9726\n",
      "Epoch 3/30\n",
      "50000/50000 [==============================] - 4s 90us/step - loss: 0.0832 - accuracy: 0.9737 - val_loss: 0.0807 - val_accuracy: 0.9766\n",
      "Epoch 4/30\n",
      "50000/50000 [==============================] - 4s 85us/step - loss: 0.0656 - accuracy: 0.9791 - val_loss: 0.0697 - val_accuracy: 0.9790\n",
      "Epoch 5/30\n",
      "50000/50000 [==============================] - 4s 88us/step - loss: 0.0531 - accuracy: 0.9827 - val_loss: 0.0746 - val_accuracy: 0.9785\n",
      "Epoch 6/30\n",
      "50000/50000 [==============================] - 4s 85us/step - loss: 0.0420 - accuracy: 0.9858 - val_loss: 0.0595 - val_accuracy: 0.9826\n",
      "Epoch 7/30\n",
      "50000/50000 [==============================] - 4s 84us/step - loss: 0.0406 - accuracy: 0.9864 - val_loss: 0.0655 - val_accuracy: 0.9822\n",
      "Epoch 8/30\n",
      "50000/50000 [==============================] - 4s 85us/step - loss: 0.0345 - accuracy: 0.9884 - val_loss: 0.0691 - val_accuracy: 0.9820\n",
      "Epoch 9/30\n",
      "50000/50000 [==============================] - 4s 85us/step - loss: 0.0308 - accuracy: 0.9901 - val_loss: 0.0665 - val_accuracy: 0.9820\n",
      "Epoch 10/30\n",
      "50000/50000 [==============================] - 4s 88us/step - loss: 0.0263 - accuracy: 0.9907 - val_loss: 0.0771 - val_accuracy: 0.9791\n",
      "Epoch 11/30\n",
      "50000/50000 [==============================] - 4s 87us/step - loss: 0.0265 - accuracy: 0.9914 - val_loss: 0.0668 - val_accuracy: 0.9842\n",
      "Epoch 12/30\n",
      "50000/50000 [==============================] - 4s 88us/step - loss: 0.0252 - accuracy: 0.9917 - val_loss: 0.0731 - val_accuracy: 0.9819\n",
      "Epoch 13/30\n",
      "50000/50000 [==============================] - 4s 89us/step - loss: 0.0229 - accuracy: 0.9921 - val_loss: 0.0816 - val_accuracy: 0.9813\n",
      "Epoch 14/30\n",
      "50000/50000 [==============================] - 5s 93us/step - loss: 0.0202 - accuracy: 0.9935 - val_loss: 0.0772 - val_accuracy: 0.9838\n",
      "Epoch 15/30\n",
      "50000/50000 [==============================] - 5s 93us/step - loss: 0.0205 - accuracy: 0.9931 - val_loss: 0.0843 - val_accuracy: 0.9816\n",
      "Epoch 16/30\n",
      "50000/50000 [==============================] - 5s 100us/step - loss: 0.0184 - accuracy: 0.9941 - val_loss: 0.0843 - val_accuracy: 0.9835\n",
      "Epoch 17/30\n",
      "50000/50000 [==============================] - 6s 117us/step - loss: 0.0191 - accuracy: 0.9939 - val_loss: 0.0783 - val_accuracy: 0.9827\n",
      "Epoch 18/30\n",
      "50000/50000 [==============================] - 5s 103us/step - loss: 0.0204 - accuracy: 0.9936 - val_loss: 0.0847 - val_accuracy: 0.9819\n",
      "Epoch 19/30\n",
      "50000/50000 [==============================] - 5s 93us/step - loss: 0.0183 - accuracy: 0.9943 - val_loss: 0.0897 - val_accuracy: 0.9811\n",
      "Epoch 20/30\n",
      "50000/50000 [==============================] - 5s 94us/step - loss: 0.0157 - accuracy: 0.9949 - val_loss: 0.0787 - val_accuracy: 0.9843\n",
      "Epoch 21/30\n",
      "50000/50000 [==============================] - 4s 90us/step - loss: 0.0177 - accuracy: 0.9939 - val_loss: 0.0828 - val_accuracy: 0.9819\n",
      "Epoch 22/30\n",
      "50000/50000 [==============================] - 4s 87us/step - loss: 0.0157 - accuracy: 0.9944 - val_loss: 0.0947 - val_accuracy: 0.9822\n",
      "Epoch 23/30\n",
      "50000/50000 [==============================] - 4s 87us/step - loss: 0.0137 - accuracy: 0.9957 - val_loss: 0.0877 - val_accuracy: 0.9833\n",
      "Epoch 24/30\n",
      "50000/50000 [==============================] - 4s 87us/step - loss: 0.0153 - accuracy: 0.9951 - val_loss: 0.0807 - val_accuracy: 0.9837\n",
      "Epoch 25/30\n",
      "50000/50000 [==============================] - 4s 85us/step - loss: 0.0155 - accuracy: 0.9952 - val_loss: 0.0887 - val_accuracy: 0.9827\n",
      "Epoch 26/30\n",
      "50000/50000 [==============================] - 4s 84us/step - loss: 0.0119 - accuracy: 0.9960 - val_loss: 0.0832 - val_accuracy: 0.9839\n",
      "Epoch 27/30\n",
      "50000/50000 [==============================] - 4s 85us/step - loss: 0.0128 - accuracy: 0.9959 - val_loss: 0.0853 - val_accuracy: 0.9841\n",
      "Epoch 28/30\n",
      "50000/50000 [==============================] - 4s 86us/step - loss: 0.0163 - accuracy: 0.9952 - val_loss: 0.0964 - val_accuracy: 0.9839\n",
      "Epoch 29/30\n",
      "50000/50000 [==============================] - 4s 83us/step - loss: 0.0122 - accuracy: 0.9964 - val_loss: 0.0887 - val_accuracy: 0.9834\n",
      "Epoch 30/30\n",
      "50000/50000 [==============================] - 4s 84us/step - loss: 0.0130 - accuracy: 0.9961 - val_loss: 0.0901 - val_accuracy: 0.9839\n",
      "10000/10000 [==============================] - 1s 69us/step\n"
     ]
    }
   ],
   "source": [
    "dense_model = make_dense_model()\n",
    "dense_history = dense_model.fit(x_train, y_train, batch_size=batch_size, epochs=epochs, validation_data=(x_val, y_val),verbose=1)\n",
    "dense_test_loss, dense_test_acc = dense_model.evaluate(x_test, y_test)"
   ]
  },
  {
   "cell_type": "code",
   "execution_count": 6,
   "id": "specialized-specialist",
   "metadata": {},
   "outputs": [
    {
     "data": {
      "text/plain": [
       "<matplotlib.legend.Legend at 0x1f5fb684b08>"
      ]
     },
     "execution_count": 6,
     "metadata": {},
     "output_type": "execute_result"
    },
    {
     "data": {
      "image/png": "[encoded data removed]",
      "text/plain": [
       "<Figure size 432x288 with 1 Axes>"
      ]
     },
     "metadata": {
      "needs_background": "light"
     },
     "output_type": "display_data"
    }
   ],
   "source": [
    "# Plot the accuracy curves of both models for training, evaluation and testing data\n",
    "plt.plot(simple_conv_history.history[\"accuracy\"], \"g--\",label=\"simple conv training accuracy\")\n",
    "plt.plot(simple_conv_history.history[\"val_accuracy\"], \"g-\",label=\"simple conv val accuracy\")\n",
    "plt.axhline(simple_conv_test_acc,color=\"k\", linestyle=\"--\", label=\"simple conv test accuracy\")\n",
    "\n",
    "plt.plot(dense_history.history[\"accuracy\"], \"b--\",label=\"dense training accuracy\")\n",
    "plt.plot(dense_history.history[\"val_accuracy\"], \"b-\",label=\"dense val accuracy\")\n",
    "plt.axhline(dense_test_acc, color=\"k\", linestyle=\":\", label=\"dense test accuracy\")\n",
    "\n",
    "plt.xlabel(\"epochs\", fontsize=15)\n",
    "plt.ylabel(\"accuracy\", fontsize=15)\n",
    "plt.ylim(0.94, 1.005)\n",
    "plt.legend()"
   ]
  },
  {
   "cell_type": "markdown",
   "id": "biblical-cutting",
   "metadata": {},
   "source": [
    "## Data Augmentation"
   ]
  },
  {
   "cell_type": "code",
   "execution_count": 7,
   "id": "korean-durham",
   "metadata": {},
   "outputs": [],
   "source": [
    "# Perform data augmentation over the image datasets\n",
    "datagen = ImageDataGenerator(\n",
    "        # set input mean to 0 over the dataset\n",
    "        featurewise_center=False, \n",
    "         # set each sample mean to 0\n",
    "        samplewise_center=False, \n",
    "        # divide inputs by std of the dataset\n",
    "        featurewise_std_normalization=False, \n",
    "        # divide each input by its std\n",
    "        samplewise_std_normalization=False,\n",
    "        # apply ZCA whitening\n",
    "        zca_whitening=False,  \n",
    "        # randomly rotate images by degrees\n",
    "        rotation_range=10,  \n",
    "        # Randomly zoom image\n",
    "        zoom_range = 0.1,  \n",
    "        # randomly shift images horizontally \n",
    "        width_shift_range=0.1,  \n",
    "        # randomly shift images vertically \n",
    "        height_shift_range=0.1,  \n",
    "        # randomly flip images\n",
    "        horizontal_flip=False,  \n",
    "        # randomly flip images\n",
    "        vertical_flip=False)  \n",
    "\n",
    "datagen.fit(x_train.reshape(-1,28,28,1))"
   ]
  },
  {
   "cell_type": "code",
   "execution_count": 8,
   "id": "single-vocabulary",
   "metadata": {},
   "outputs": [
    {
     "name": "stdout",
     "output_type": "stream",
     "text": [
      "Model: \"sequential_3\"\n",
      "_________________________________________________________________\n",
      "Layer (type)                 Output Shape              Param #   \n",
      "=================================================================\n",
      "conv2d_3 (Conv2D)            (None, 28, 28, 10)        260       \n",
      "_________________________________________________________________\n",
      "conv2d_4 (Conv2D)            (None, 28, 28, 10)        2510      \n",
      "_________________________________________________________________\n",
      "max_pooling2d_2 (MaxPooling2 (None, 14, 14, 10)        0         \n",
      "_________________________________________________________________\n",
      "flatten_3 (Flatten)          (None, 1960)              0         \n",
      "_________________________________________________________________\n",
      "dense_6 (Dense)              (None, 64)                125504    \n",
      "_________________________________________________________________\n",
      "dropout_4 (Dropout)          (None, 64)                0         \n",
      "_________________________________________________________________\n",
      "dense_7 (Dense)              (None, 10)                650       \n",
      "=================================================================\n",
      "Total params: 128,924\n",
      "Trainable params: 128,924\n",
      "Non-trainable params: 0\n",
      "_________________________________________________________________\n",
      "Epoch 1/30\n",
      "581/581 [==============================] - 118s 203ms/step - loss: 0.5387 - accuracy: 0.8286 - val_loss: 0.1013 - val_accuracy: 0.9692\n",
      "Epoch 2/30\n",
      "581/581 [==============================] - 113s 195ms/step - loss: 0.2044 - accuracy: 0.9392 - val_loss: 0.0831 - val_accuracy: 0.9755\n",
      "Epoch 3/30\n",
      "581/581 [==============================] - 117s 201ms/step - loss: 0.1601 - accuracy: 0.9522 - val_loss: 0.0539 - val_accuracy: 0.9836\n",
      "Epoch 4/30\n",
      "581/581 [==============================] - 113s 195ms/step - loss: 0.1293 - accuracy: 0.9608 - val_loss: 0.0489 - val_accuracy: 0.9852\n",
      "Epoch 5/30\n",
      "581/581 [==============================] - 117s 202ms/step - loss: 0.1150 - accuracy: 0.9650 - val_loss: 0.0439 - val_accuracy: 0.9866\n",
      "Epoch 6/30\n",
      "581/581 [==============================] - 115s 198ms/step - loss: 0.1034 - accuracy: 0.9689 - val_loss: 0.0384 - val_accuracy: 0.9887\n",
      "Epoch 7/30\n",
      "581/581 [==============================] - 113s 195ms/step - loss: 0.0912 - accuracy: 0.9717 - val_loss: 0.0397 - val_accuracy: 0.9877s: 0.0910 - accuracy: 0.\n",
      "Epoch 8/30\n",
      "581/581 [==============================] - 117s 201ms/step - loss: 0.0896 - accuracy: 0.9730 - val_loss: 0.0382 - val_accuracy: 0.9878\n",
      "Epoch 9/30\n",
      "581/581 [==============================] - 113s 194ms/step - loss: 0.0825 - accuracy: 0.9750 - val_loss: 0.0319 - val_accuracy: 0.9900\n",
      "Epoch 10/30\n",
      "581/581 [==============================] - 118s 203ms/step - loss: 0.0774 - accuracy: 0.9769 - val_loss: 0.0338 - val_accuracy: 0.9895\n",
      "Epoch 11/30\n",
      "581/581 [==============================] - 111s 192ms/step - loss: 0.0760 - accuracy: 0.9763 - val_loss: 0.0371 - val_accuracy: 0.9885\n",
      "Epoch 12/30\n",
      "581/581 [==============================] - 114s 196ms/step - loss: 0.0717 - accuracy: 0.9784 - val_loss: 0.0338 - val_accuracy: 0.9901\n",
      "Epoch 13/30\n",
      "581/581 [==============================] - 114s 197ms/step - loss: 0.0707 - accuracy: 0.9790 - val_loss: 0.0303 - val_accuracy: 0.9911\n",
      "Epoch 14/30\n",
      "581/581 [==============================] - 115s 198ms/step - loss: 0.0656 - accuracy: 0.9798 - val_loss: 0.0297 - val_accuracy: 0.9910\n",
      "Epoch 15/30\n",
      "581/581 [==============================] - 116s 199ms/step - loss: 0.0674 - accuracy: 0.9794 - val_loss: 0.0397 - val_accuracy: 0.9881\n",
      "Epoch 16/30\n",
      "581/581 [==============================] - 114s 197ms/step - loss: 0.0648 - accuracy: 0.9805 - val_loss: 0.0304 - val_accuracy: 0.9908\n",
      "Epoch 17/30\n",
      "581/581 [==============================] - 223s 384ms/step - loss: 0.0607 - accuracy: 0.9817 - val_loss: 0.0293 - val_accuracy: 0.9915\n",
      "Epoch 18/30\n",
      "581/581 [==============================] - 169s 291ms/step - loss: 0.0607 - accuracy: 0.9815 - val_loss: 0.0406 - val_accuracy: 0.9878\n",
      "Epoch 19/30\n",
      "581/581 [==============================] - 168s 290ms/step - loss: 0.0592 - accuracy: 0.9829 - val_loss: 0.0269 - val_accuracy: 0.9912\n",
      "Epoch 20/30\n",
      "581/581 [==============================] - 169s 291ms/step - loss: 0.0577 - accuracy: 0.9823 - val_loss: 0.0287 - val_accuracy: 0.9911\n",
      "Epoch 21/30\n",
      "581/581 [==============================] - 169s 291ms/step - loss: 0.0550 - accuracy: 0.9830 - val_loss: 0.0303 - val_accuracy: 0.9903\n",
      "Epoch 22/30\n",
      "581/581 [==============================] - 169s 290ms/step - loss: 0.0526 - accuracy: 0.9841 - val_loss: 0.0314 - val_accuracy: 0.9905\n",
      "Epoch 23/30\n",
      "581/581 [==============================] - 123s 212ms/step - loss: 0.0525 - accuracy: 0.9843 - val_loss: 0.0280 - val_accuracy: 0.9920\n",
      "Epoch 24/30\n",
      "581/581 [==============================] - 103s 178ms/step - loss: 0.0530 - accuracy: 0.9841 - val_loss: 0.0248 - val_accuracy: 0.9927\n",
      "Epoch 25/30\n",
      "581/581 [==============================] - 104s 179ms/step - loss: 0.0516 - accuracy: 0.9846 - val_loss: 0.0278 - val_accuracy: 0.9909\n",
      "Epoch 26/30\n",
      "581/581 [==============================] - 108s 186ms/step - loss: 0.0525 - accuracy: 0.9838 - val_loss: 0.0292 - val_accuracy: 0.9915525 - accu\n",
      "Epoch 27/30\n",
      "581/581 [==============================] - 112s 193ms/step - loss: 0.0491 - accuracy: 0.9846 - val_loss: 0.0264 - val_accuracy: 0.9926\n",
      "Epoch 28/30\n",
      "581/581 [==============================] - 109s 187ms/step - loss: 0.0460 - accuracy: 0.9866 - val_loss: 0.0274 - val_accuracy: 0.9909\n",
      "Epoch 29/30\n",
      "581/581 [==============================] - 111s 191ms/step - loss: 0.0490 - accuracy: 0.9849 - val_loss: 0.0250 - val_accuracy: 0.9922\n",
      "Epoch 30/30\n",
      "581/581 [==============================] - 116s 200ms/step - loss: 0.0483 - accuracy: 0.9851 - val_loss: 0.0272 - val_accuracy: 0.9917\n",
      "10000/10000 [==============================] - 4s 402us/step\n"
     ]
    }
   ],
   "source": [
    "simple_conv_model = make_conv_model()\n",
    "\n",
    "simple_conv_aug_history = simple_conv_model.fit(\n",
    "    datagen.flow(x_train,y_train, batch_size=batch_size),\n",
    "    epochs = epochs, validation_data = (x_val,y_val),\n",
    "    steps_per_epoch=x_train.shape[0]//batch_size, verbose=1)\n",
    "\n",
    "simple_conv_aug_test_loss, simple_conv_aug_test_acc = simple_conv_model.evaluate(x_test, y_test)"
   ]
  },
  {
   "cell_type": "code",
   "execution_count": 9,
   "id": "spanish-clause",
   "metadata": {},
   "outputs": [
    {
     "data": {
      "text/plain": [
       "<matplotlib.legend.Legend at 0x1f5899e8088>"
      ]
     },
     "execution_count": 9,
     "metadata": {},
     "output_type": "execute_result"
    },
    {
     "data": {
      "image/png": "[encoded data removed]",
      "text/plain": [
       "<Figure size 432x288 with 1 Axes>"
      ]
     },
     "metadata": {
      "needs_background": "light"
     },
     "output_type": "display_data"
    }
   ],
   "source": [
    "plt.plot(simple_conv_aug_history.history[\"accuracy\"], \"g--\",label=\"simple conv aug training accuracy\")\n",
    "plt.plot(simple_conv_aug_history.history[\"val_accuracy\"], \"g-\",label=\"simple conv aug val accuracy\")\n",
    "plt.axhline(simple_conv_aug_test_acc,color=\"k\", linestyle=\"--\", label=\"simple conv aug test accuracy\")\n",
    "plt.axhline(simple_conv_test_acc,color=\"r\", linestyle=\"--\", label=\"simple conv test accuracy\")\n",
    "plt.xlabel(\"epochs\", fontsize=15)\n",
    "plt.ylabel(\"accuracy\", fontsize=15)\n",
    "plt.ylim(0.94, 1.005)\n",
    "plt.legend()"
   ]
  },
  {
   "cell_type": "code",
   "execution_count": null,
   "id": "angry-distance",
   "metadata": {},
   "outputs": [],
   "source": []
  }
 ],
 "metadata": {
  "kernelspec": {
   "display_name": "Python 3",
   "language": "python",
   "name": "python3"
  },
  "language_info": {
   "codemirror_mode": {
    "name": "ipython",
    "version": 3
   },
   "file_extension": ".py",
   "mimetype": "text/x-python",
   "name": "python",
   "nbconvert_exporter": "python",
   "pygments_lexer": "ipython3",
   "version": "3.7.9"
  }
 },
 "nbformat": 4,
 "nbformat_minor": 5
}
