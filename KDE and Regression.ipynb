{
 "cells": [
  {
   "cell_type": "markdown",
   "metadata": {},
   "source": [
    "# Kernel Density Estimation"
   ]
  },
  {
   "cell_type": "code",
   "execution_count": 1,
   "metadata": {},
   "outputs": [
    {
     "name": "stdout",
     "output_type": "stream",
     "text": [
      "This is the dataset:\n",
      " [ 1.62434536 -0.61175641 -0.52817175 -1.07296862  0.86540763 -2.3015387\n",
      "  1.74481176 -0.7612069   0.3190391  -0.24937038  1.46210794 -2.06014071\n",
      " -0.3224172  -0.38405435  1.13376944 -1.09989127 -0.17242821 -0.87785842\n",
      "  0.04221375  0.58281521 -1.10061918  1.14472371  0.90159072  0.50249434\n",
      "  0.90085595 -0.68372786 -0.12289023 -0.93576943 -0.26788808  0.53035547\n",
      "  4.30833925  4.60324647  4.3128273   4.15479436  4.32875387  4.9873354\n",
      "  3.88268965  5.2344157   6.65980218  5.74204416  4.80816445  4.11237104\n",
      "  4.25284171  6.6924546   5.05080775  4.36300435  5.19091548  7.10025514\n",
      "  5.12015895  5.61720311  5.30017032  4.64775015  3.8574818   4.65065728\n",
      "  4.79110577  5.58662319  5.83898341  5.93110208  5.28558733  5.88514116\n",
      "  4.24560206  6.25286816  5.51292982  4.70190716  5.48851815  4.92442829\n",
      "  6.13162939  6.51981682  7.18557541  3.60350366  3.55588619  4.49553414\n",
      "  5.16003707  5.87616892  5.31563495  2.97779878  4.69379599  5.82797464\n",
      "  5.23009474  5.76201118  4.77767186  4.79924193  5.18656139  5.41005165\n",
      "  5.19829972  5.11900865  4.32933771  5.37756379  5.12182127  6.12948391\n",
      "  6.19891788  5.18515642  4.62471505  4.36126959  5.42349435  5.07734007\n",
      "  4.65614632  5.04359686  4.37999916  5.69803203] \n",
      "\n"
     ]
    }
   ],
   "source": [
    "# import packages\n",
    "import numpy as np\n",
    "from scipy.stats import norm\n",
    "import matplotlib.pyplot as plt\n",
    "\n",
    "# randomly generate 100 data points at 1-D for KDE\n",
    "N = 100\n",
    "np.random.seed(1)\n",
    "Xkde = np.concatenate((np.random.normal(0, 1, int(0.3 * N)),\n",
    "                    np.random.normal(5, 1, int(0.7 * N))))[:, np.newaxis]\n",
    "\n",
    "# display the data for density estimation\n",
    "print(\"This is the dataset:\\n {} \\n\".format(Xkde.flatten()))"
   ]
  },
  {
   "cell_type": "markdown",
   "metadata": {},
   "source": [
    "### KDE using SK-Learn"
   ]
  },
  {
   "cell_type": "code",
   "execution_count": 2,
   "metadata": {},
   "outputs": [
    {
     "data": {
      "image/png": "[encoded data removed]",
      "text/plain": [
       "<Figure size 432x288 with 1 Axes>"
      ]
     },
     "metadata": {
      "needs_background": "light"
     },
     "output_type": "display_data"
    }
   ],
   "source": [
    "from sklearn.neighbors import KernelDensity\n",
    "\n",
    "# perform KDE\n",
    "kde = KernelDensity(kernel='gaussian', bandwidth=0.5).fit(Xkde)\n",
    "\n",
    "# prepare the grid\n",
    "X_plot = np.linspace(-5, 10, 1000)[:, np.newaxis]\n",
    "\n",
    "# evaluate the log density model on the data using the KDE \n",
    "log_dens = kde.score_samples(X_plot)\n",
    "\n",
    "# plot the data distribution and probability density function\n",
    "plt.plot(X_plot[:, 0], np.exp(log_dens), 'b--')\n",
    "plt.plot(Xkde[:, 0], np.zeros(Xkde.shape[0]), '+r')   \n",
    "plt.text(6, 0.25, \"N={0} points\".format(N), horizontalalignment='left' )\n",
    "plt.show()"
   ]
  },
  {
   "cell_type": "markdown",
   "metadata": {},
   "source": [
    "### Get the Probability Density Value at"
   ]
  },
  {
   "cell_type": "code",
   "execution_count": 3,
   "metadata": {},
   "outputs": [
    {
     "name": "stdout",
     "output_type": "stream",
     "text": [
      "\n",
      " The probability density function value at 5.2 is 0.2961\n"
     ]
    }
   ],
   "source": [
    "# Get the probability density value for a given datapoint xtest\n",
    "\n",
    "xtest = 5.2   # given datapoint\n",
    "\n",
    "# get the log-likelihood of the data samples from KDE\n",
    "log_dens = kde.score_samples(np.asarray(xtest).reshape(-1,1))\n",
    "\n",
    "# get PDF based on the log-likelihood \n",
    "pdf = np.exp(log_dens)\n",
    "print(\"\\n The probability density function value at {} is {:5.4f}\".format(xtest, pdf[-1]) )"
   ]
  },
  {
   "cell_type": "markdown",
   "metadata": {},
   "source": [
    "### Get the Cumulative Distribution Function Value"
   ]
  },
  {
   "cell_type": "code",
   "execution_count": 4,
   "metadata": {},
   "outputs": [
    {
     "name": "stdout",
     "output_type": "stream",
     "text": [
      "\n",
      " The cumulative density function value at 5.2 is 0.6837\n",
      "\n",
      " The probability density function value at 5.2 is 0.2962\n"
     ]
    }
   ],
   "source": [
    "# Compute cumulative distribution function (CDF) at a given datapoint\n",
    "\n",
    "xtest = 5.2   # given datapoint\n",
    "\n",
    "dx = 0.001  # define the step size\n",
    "\n",
    "# generate values in the range from -100 (a sufficiently small number) to the test point\n",
    "xgrid = np.arange(-100, xtest, dx).reshape(-1,1)   \n",
    "\n",
    "# get the log-likelihood of the data samples from KDE\n",
    "log_dens = kde.score_samples(xgrid)\n",
    "\n",
    "# get PDF based on the log-likelihood \n",
    "pdf = np.exp(log_dens)\n",
    "\n",
    "# approximate the integral of the PDF\n",
    "cdf = np.sum(pdf * dx)\n",
    "\n",
    "# print out the results\n",
    "print(\"\\n The cumulative density function value at {} is {:5.4f}\".format(xtest, cdf) )\n",
    "print(\"\\n The probability density function value at {} is {:5.4f}\".format(xtest, pdf[-1]) )"
   ]
  },
  {
   "cell_type": "code",
   "execution_count": 5,
   "metadata": {},
   "outputs": [
    {
     "name": "stdout",
     "output_type": "stream",
     "text": [
      "\n",
      " The cumulative density function value at 5.2 is 0.6854\n",
      "\n",
      " The probability density function value at 5.2 is 0.2961\n"
     ]
    }
   ],
   "source": [
    "# An alternative way to run integration from -inf to xtest to compute CDF\n",
    "\n",
    "xtest = 5.2   # given datapoint\n",
    "\n",
    "start = -100 # pick a sufficiently small number to approximate -inf\n",
    "Nsteps = 10000 # number of intervals between the \"start\" and the \"xtest\"\n",
    "\n",
    "step = (xtest - start) / (Nsteps - 1)  # calculates the step size\n",
    "xgrid = np.linspace(start, xtest, Nsteps)[:, np.newaxis]  # generate values in the range from -inf to the test point\n",
    "log_dens = kde.score_samples(xgrid)   # get the log-likelihood of the data samples from KDE\n",
    "pdf = np.exp(log_dens)  # get PDF values for each xgrid\n",
    "cdf = np.sum(pdf * step)  # approximate the integral of the PDF\n",
    "\n",
    "print(\"\\n The cumulative density function value at {} is {:5.4f}\".format(xtest, cdf) )\n",
    "print(\"\\n The probability density function value at {} is {:5.4f}\".format(xtest, pdf[-1]) )"
   ]
  },
  {
   "cell_type": "code",
   "execution_count": 6,
   "metadata": {},
   "outputs": [
    {
     "name": "stdout",
     "output_type": "stream",
     "text": [
      "\n",
      " The cumulative density function value at 5.2 is 0.6854, using SciPy integral function\n"
     ]
    }
   ],
   "source": [
    "# The integral could be performed by SciPy package scipy.integrate\n",
    "from scipy import integrate\n",
    "\n",
    "# define a function\n",
    "def func(x):\n",
    "    \"\"\"This function returns the probability density function value of a given query\"\"\"\n",
    "    x_arr = np.asarray(x).reshape(-1,1)\n",
    "    pdf = np.exp(kde.score_samples(x_arr))[0]\n",
    "    return pdf\n",
    "  \n",
    "# SciPy's Integrate func from a to b (possibly infinite interval) using a technique from the Fortran library QUADPACK.\n",
    "cfd_scipy, error = integrate.quad(func, -np.inf, xtest)\n",
    "\n",
    "print(\"\\n The cumulative density function value at {} is {:5.4f}, using SciPy integral function\".format(xtest, cdf) )"
   ]
  },
  {
   "cell_type": "markdown",
   "metadata": {},
   "source": [
    "### KDE using SciPy directly"
   ]
  },
  {
   "cell_type": "code",
   "execution_count": 7,
   "metadata": {},
   "outputs": [
    {
     "name": "stdout",
     "output_type": "stream",
     "text": [
      "[0.21479941]\n",
      "\n",
      " The cumulative density function value at 5.2 is 0.6717\n"
     ]
    }
   ],
   "source": [
    "import scipy.stats\n",
    "\n",
    "kde = scipy.stats.gaussian_kde(list(Xkde.flatten()) )\n",
    "\n",
    "print(kde.pdf(xtest))\n",
    "\n",
    "cdf = kde.integrate_box_1d(-100, xtest)\n",
    "\n",
    "print(\"\\n The cumulative density function value at {} is {:5.4f}\".format(xtest, cdf) )"
   ]
  },
  {
   "cell_type": "markdown",
   "metadata": {},
   "source": [
    "# Regression"
   ]
  },
  {
   "cell_type": "code",
   "execution_count": 8,
   "metadata": {},
   "outputs": [
    {
     "name": "stdout",
     "output_type": "stream",
     "text": [
      "This is the dataset:\n",
      " X =\n",
      " [[1 1]\n",
      " [1 2]\n",
      " [2 2]\n",
      " [2 3]] \n",
      " \n",
      " Y = [ 6  8  9 11] \n",
      "\n"
     ]
    }
   ],
   "source": [
    "import numpy as np\n",
    "from sklearn.linear_model import LinearRegression\n",
    "\n",
    "\n",
    "X = np.array([[1, 1], [1, 2], [2, 2], [2, 3]])\n",
    "Y = np.dot(X, np.array([1, 2])) + 3\n",
    "\n",
    "\n",
    "# display the data for density estimation\n",
    "print(\"This is the dataset:\\n X =\\n {} \\n \\n Y = {} \\n\".format(X, Y))"
   ]
  },
  {
   "cell_type": "markdown",
   "metadata": {},
   "source": [
    "### Linear Regression"
   ]
  },
  {
   "cell_type": "code",
   "execution_count": 9,
   "metadata": {},
   "outputs": [
    {
     "name": "stdout",
     "output_type": "stream",
     "text": [
      "1.0\n",
      "[1. 2.]\n",
      "3.0000000000000018\n",
      "\n",
      "The regressed model is Y =1.0X0 +2.0X1 +3.0 with a R2 score of 1.0 \n",
      "\n",
      "With the input of [[1 3]], the regression model predicts Y = 10.0\n"
     ]
    }
   ],
   "source": [
    "# Linear regression model\n",
    "\n",
    "lin_reg = LinearRegression().fit(X,Y)\n",
    "\n",
    "# output R^2 of the \n",
    "print(lin_reg.score(X, Y))\n",
    "# output the coefficients in the regression model\n",
    "print(lin_reg.coef_)\n",
    "# output the constant term \"b\" in the regression model\n",
    "print(lin_reg.intercept_)\n",
    "\n",
    "# to print out all these terms together \n",
    "print(\"\\nThe regressed model is Y ={:3.1f}X0 +{:3.1f}X1 +{:3.1f} with a R2 score of {} \\n\".format(lin_reg.coef_[0], \n",
    "                                                                                                  lin_reg.coef_[1], \n",
    "                                                                                                  lin_reg.intercept_,\n",
    "                                                                                                  lin_reg.score(X, Y)))\n",
    "\n",
    "# make a prediction on the new test data, xtest\n",
    "Xtest = np.array([[1, 3]])\n",
    "Ytest = lin_reg.predict(Xtest)\n",
    "\n",
    "print(\"With the input of {}, the regression model predicts Y = {}\".format(str(Xtest), Ytest[0])) "
   ]
  },
  {
   "cell_type": "markdown",
   "metadata": {},
   "source": [
    "### Ridge Regression"
   ]
  },
  {
   "cell_type": "code",
   "execution_count": 10,
   "metadata": {},
   "outputs": [
    {
     "data": {
      "text/plain": [
       "array([0.15470444])"
      ]
     },
     "execution_count": 10,
     "metadata": {},
     "output_type": "execute_result"
    }
   ],
   "source": [
    "# Ridge regression\n",
    "from sklearn.linear_model import Ridge\n",
    "\n",
    "# randomly generate the data; X is 10 x 3 matrix, and Y is a 10-dimensional vector\n",
    "Y = np.random.rand(10)\n",
    "X = np.random.rand(10, 3)\n",
    "\n",
    "# perform ridge regression using \\alpha, which is the regularization strength\n",
    "ridge_reg = Ridge(alpha=1.0).fit(X, Y)\n",
    "\n",
    "# make a prediction on the new test data, xtest\n",
    "Xtest = np.array([[1, 2, 3]])\n",
    "ridge_reg.predict(Xtest)"
   ]
  },
  {
   "cell_type": "markdown",
   "metadata": {},
   "source": [
    "### Gaussian Process"
   ]
  },
  {
   "cell_type": "code",
   "execution_count": 11,
   "metadata": {},
   "outputs": [
    {
     "name": "stdout",
     "output_type": "stream",
     "text": [
      "The Gaussian process regression value at 5.2 is 1.1669\n",
      "\n"
     ]
    },
    {
     "data": {
      "image/png": "[encoded data removed]",
      "text/plain": [
       "<Figure size 432x288 with 1 Axes>"
      ]
     },
     "metadata": {
      "needs_background": "light"
     },
     "output_type": "display_data"
    }
   ],
   "source": [
    "# Gaussian process\n",
    "from sklearn.gaussian_process import GaussianProcessRegressor\n",
    "from sklearn.gaussian_process.kernels import RBF\n",
    "\n",
    "# generate 1000 data randomly using a \"real\" function for X-Y mapping\n",
    "n = 1000\n",
    "X = np.linspace(-10, 10, num=n)\n",
    "Y = 1 + X*5E-2 + np.sin(X)/X + 0.2*np.random.rand(n)\n",
    "\n",
    "# fit a Gaussian process model using the default kernel\n",
    "gp_reg = GaussianProcessRegressor()\n",
    "gp_reg.fit(X.reshape(-1,1), Y)\n",
    "\n",
    "# given datapoint\n",
    "xtest = 5.2   \n",
    "# get the regression prediction value of this test data point\n",
    "ytest = gp_reg.predict(np.asarray(xtest).reshape(-1,1))\n",
    "print(\"The Gaussian process regression value at {} is {:5.4f}\\n\".format(xtest, ytest[0]) )\n",
    "\n",
    "# plot out the regressed value of the entire domain\n",
    "Ypred = gp_reg.predict(X.reshape(-1,1))\n",
    "plt.scatter(X,Y,s=0.5)\n",
    "plt.plot(X,Ypred,c='r')\n",
    "plt.show()\n"
   ]
  }
 ],
 "metadata": {
  "kernelspec": {
   "display_name": "Python 3",
   "language": "python",
   "name": "python3"
  },
  "language_info": {
   "codemirror_mode": {
    "name": "ipython",
    "version": 3
   },
   "file_extension": ".py",
   "mimetype": "text/x-python",
   "name": "python",
   "nbconvert_exporter": "python",
   "pygments_lexer": "ipython3",
   "version": "3.7.9"
  }
 },
 "nbformat": 4,
 "nbformat_minor": 4
}
