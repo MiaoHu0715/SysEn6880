{
 "cells": [
  {
   "cell_type": "markdown",
   "metadata": {},
   "source": [
    "# Kernel Density Estimation"
   ]
  },
  {
   "cell_type": "code",
   "execution_count": 1,
   "metadata": {},
   "outputs": [
    {
     "name": "stdout",
     "output_type": "stream",
     "text": [
      "This is the dataset:\n",
      " [ 1.62434536 -0.61175641 -0.52817175 -1.07296862  0.86540763 -2.3015387\n",
      "  1.74481176 -0.7612069   0.3190391  -0.24937038  1.46210794 -2.06014071\n",
      " -0.3224172  -0.38405435  1.13376944 -1.09989127 -0.17242821 -0.87785842\n",
      "  0.04221375  0.58281521 -1.10061918  1.14472371  0.90159072  0.50249434\n",
      "  0.90085595 -0.68372786 -0.12289023 -0.93576943 -0.26788808  0.53035547\n",
      "  4.30833925  4.60324647  4.3128273   4.15479436  4.32875387  4.9873354\n",
      "  3.88268965  5.2344157   6.65980218  5.74204416  4.80816445  4.11237104\n",
      "  4.25284171  6.6924546   5.05080775  4.36300435  5.19091548  7.10025514\n",
      "  5.12015895  5.61720311  5.30017032  4.64775015  3.8574818   4.65065728\n",
      "  4.79110577  5.58662319  5.83898341  5.93110208  5.28558733  5.88514116\n",
      "  4.24560206  6.25286816  5.51292982  4.70190716  5.48851815  4.92442829\n",
      "  6.13162939  6.51981682  7.18557541  3.60350366  3.55588619  4.49553414\n",
      "  5.16003707  5.87616892  5.31563495  2.97779878  4.69379599  5.82797464\n",
      "  5.23009474  5.76201118  4.77767186  4.79924193  5.18656139  5.41005165\n",
      "  5.19829972  5.11900865  4.32933771  5.37756379  5.12182127  6.12948391\n",
      "  6.19891788  5.18515642  4.62471505  4.36126959  5.42349435  5.07734007\n",
      "  4.65614632  5.04359686  4.37999916  5.69803203] \n",
      "\n"
     ]
    }
   ],
   "source": [
    "# import packages\n",
    "import numpy as np\n",
    "import matplotlib.pyplot as plt\n",
    "\n",
    "# randomly generate 100 data points at 1-D for KDE\n",
    "N = 100\n",
    "np.random.seed(1)\n",
    "Xkde = np.concatenate((np.random.normal(0, 1, int(0.3 * N)),\n",
    "                    np.random.normal(5, 1, int(0.7 * N))))[:, np.newaxis]\n",
    "\n",
    "# display the data for density estimation\n",
    "print(\"This is the dataset:\\n {} \\n\".format(Xkde.flatten()))"
   ]
  },
  {
   "cell_type": "markdown",
   "metadata": {},
   "source": [
    "### KDE using scikit-learn\n",
    "\n",
    "Function: [***KernelDensity***](https://scikit-learn.org/stable/modules/generated/sklearn.neighbors.KernelDensity.html) in scikit-learn"
   ]
  },
  {
   "cell_type": "code",
   "execution_count": 2,
   "metadata": {},
   "outputs": [
    {
     "data": {
      "image/png": "[encoded data removed]",
      "text/plain": [
       "<Figure size 432x288 with 1 Axes>"
      ]
     },
     "metadata": {
      "needs_background": "light"
     },
     "output_type": "display_data"
    }
   ],
   "source": [
    "from sklearn.neighbors import KernelDensity\n",
    "\n",
    "# perform KDE\n",
    "kde = KernelDensity(kernel='gaussian', bandwidth=0.5).fit(Xkde)\n",
    "\n",
    "# prepare the grid\n",
    "X_plot = np.linspace(-5, 10, 1000)[:, np.newaxis]\n",
    "\n",
    "# evaluate the log density model on the data using the KDE \n",
    "log_dens = kde.score_samples(X_plot)\n",
    "\n",
    "# plot the data distribution and probability density function\n",
    "plt.plot(X_plot[:, 0], np.exp(log_dens), 'b--')\n",
    "plt.plot(Xkde[:, 0], np.zeros(Xkde.shape[0]), '+r')   \n",
    "plt.text(6, 0.25, \"N={0} points\".format(N), horizontalalignment='left' )\n",
    "plt.show()"
   ]
  },
  {
   "cell_type": "markdown",
   "metadata": {},
   "source": [
    "#### Plot by seaborn\n",
    "\n",
    "Function: [***displot***](https://seaborn.pydata.org/generated/seaborn.displot.html) in seaborn"
   ]
  },
  {
   "cell_type": "code",
   "execution_count": 3,
   "metadata": {},
   "outputs": [
    {
     "data": {
      "image/png": "[encoded data removed]",
      "text/plain": [
       "<Figure size 360x360 with 1 Axes>"
      ]
     },
     "metadata": {
      "needs_background": "light"
     },
     "output_type": "display_data"
    }
   ],
   "source": [
    "# the KDE and density profile can also be plotted via the seaborn package\n",
    "\n",
    "import seaborn as sns\n",
    "sns.displot(Xkde.flatten(), kde=True, rug=True)\n",
    "plt.show()"
   ]
  },
  {
   "cell_type": "markdown",
   "metadata": {},
   "source": [
    "#### Get the Probability Density Value"
   ]
  },
  {
   "cell_type": "code",
   "execution_count": 4,
   "metadata": {},
   "outputs": [
    {
     "name": "stdout",
     "output_type": "stream",
     "text": [
      "\n",
      " The probability density function value at 5.2 is  0.29613\n"
     ]
    }
   ],
   "source": [
    "# Get the probability density value for a given datapoint xtest\n",
    "\n",
    "xtest = 5.2   # given datapoint\n",
    "\n",
    "# get the log-likelihood of the data samples from KDE\n",
    "log_dens = kde.score_samples(np.asarray(xtest).reshape(-1,1))\n",
    "\n",
    "# get PDF based on the log-likelihood \n",
    "pdf = np.exp(log_dens)\n",
    "print(\"\\n The probability density function value at {} is {:8.5f}\".format(xtest, pdf[-1]) )"
   ]
  },
  {
   "cell_type": "markdown",
   "metadata": {},
   "source": [
    "#### Get the Cumulative Distribution Function Value"
   ]
  },
  {
   "cell_type": "code",
   "execution_count": 5,
   "metadata": {},
   "outputs": [
    {
     "name": "stdout",
     "output_type": "stream",
     "text": [
      "\n",
      " The cumulative density function value at 5.2 is 0.6837\n",
      "\n",
      " The probability density function value at 5.2 is 0.2962\n"
     ]
    }
   ],
   "source": [
    "# Compute cumulative distribution function (CDF) at a given datapoint\n",
    "\n",
    "xtest = 5.2   # given datapoint\n",
    "\n",
    "dx = 0.001  # define the step size\n",
    "\n",
    "# generate values in the range from -100 (a sufficiently small number) to the test point\n",
    "xgrid = np.arange(-100, xtest, dx).reshape(-1,1)   \n",
    "\n",
    "# get the log-likelihood of the data samples from KDE\n",
    "log_dens = kde.score_samples(xgrid)\n",
    "\n",
    "# get PDF based on the log-likelihood \n",
    "pdf = np.exp(log_dens)\n",
    "\n",
    "# approximate the integral of the PDF\n",
    "cdf = np.sum(pdf * dx)\n",
    "\n",
    "# print out the results\n",
    "print(\"\\n The cumulative density function value at {} is {:5.4f}\".format(xtest, cdf) )\n",
    "print(\"\\n The probability density function value at {} is {:5.4f}\".format(xtest, pdf[-1]) )"
   ]
  },
  {
   "cell_type": "code",
   "execution_count": 6,
   "metadata": {},
   "outputs": [
    {
     "name": "stdout",
     "output_type": "stream",
     "text": [
      "\n",
      " The cumulative density function value at 5.2 is 0.6854\n",
      "\n",
      " The probability density function value at 5.2 is 0.2961\n"
     ]
    }
   ],
   "source": [
    "# An alternative way to run integration from -inf to xtest to compute CDF\n",
    "\n",
    "xtest = 5.2   # given datapoint\n",
    "\n",
    "start = -100 # pick a sufficiently small number to approximate -inf\n",
    "Nsteps = 10000 # number of intervals between the \"start\" and the \"xtest\"\n",
    "\n",
    "step = (xtest - start) / (Nsteps - 1)  # calculates the step size\n",
    "xgrid = np.linspace(start, xtest, Nsteps)[:, np.newaxis]  # generate values in the range from -inf to the test point\n",
    "log_dens = kde.score_samples(xgrid)   # get the log-likelihood of the data samples from KDE\n",
    "pdf = np.exp(log_dens)  # get PDF values for each xgrid\n",
    "cdf = np.sum(pdf * step)  # approximate the integral of the PDF\n",
    "\n",
    "print(\"\\n The cumulative density function value at {} is {:5.4f}\".format(xtest, cdf) )\n",
    "print(\"\\n The probability density function value at {} is {:5.4f}\".format(xtest, pdf[-1]) )"
   ]
  },
  {
   "cell_type": "markdown",
   "metadata": {},
   "source": [
    "### KDE using SciPy\n",
    "\n",
    "Function: [***integrate***](https://docs.scipy.org/doc/scipy/reference/integrate.html#module-scipy.integrate) in SciPy\n",
    "\n",
    "Function: [***gaussian_kde***](https://docs.scipy.org/doc/scipy/reference/generated/scipy.stats.gaussian_kde.html) in SciPy"
   ]
  },
  {
   "cell_type": "code",
   "execution_count": 7,
   "metadata": {},
   "outputs": [
    {
     "name": "stdout",
     "output_type": "stream",
     "text": [
      "\n",
      " The cumulative density function value at 5.2 is 0.6838, using SciPy integral function\n"
     ]
    }
   ],
   "source": [
    "# The integral could be performed by SciPy package scipy.integrate\n",
    "from scipy import integrate\n",
    "\n",
    "# define a function\n",
    "def func(x):\n",
    "    \"\"\"This function returns the probability density function value of a given query\"\"\"\n",
    "    x_arr = np.asarray(x).reshape(-1,1)\n",
    "    pdf = np.exp(kde.score_samples(x_arr))[0]\n",
    "    return pdf\n",
    "  \n",
    "# SciPy's Integrate func from a to b (possibly infinite interval) using a technique from the Fortran library QUADPACK.\n",
    "cfd_scipy, error = integrate.quad(func, -np.inf, xtest)\n",
    "\n",
    "print(\"\\n The cumulative density function value at {} is {:5.4f}, using SciPy integral function\".format(xtest, cfd_scipy) )"
   ]
  },
  {
   "cell_type": "code",
   "execution_count": 8,
   "metadata": {},
   "outputs": [
    {
     "name": "stdout",
     "output_type": "stream",
     "text": [
      "[0.21479941]\n",
      "\n",
      " The cumulative density function value at 5.2 is 0.6717\n"
     ]
    }
   ],
   "source": [
    "import scipy.stats\n",
    "\n",
    "kde = scipy.stats.gaussian_kde(list(Xkde.flatten()) )\n",
    "\n",
    "print(kde.pdf(xtest))\n",
    "\n",
    "cdf = kde.integrate_box_1d(-100, xtest)\n",
    "\n",
    "print(\"\\n The cumulative density function value at {} is {:5.4f}\".format(xtest, cdf) )"
   ]
  }
 ],
 "metadata": {
  "kernelspec": {
   "display_name": "Python 3",
   "language": "python",
   "name": "python3"
  },
  "language_info": {
   "codemirror_mode": {
    "name": "ipython",
    "version": 3
   },
   "file_extension": ".py",
   "mimetype": "text/x-python",
   "name": "python",
   "nbconvert_exporter": "python",
   "pygments_lexer": "ipython3",
   "version": "3.7.11"
  }
 },
 "nbformat": 4,
 "nbformat_minor": 4
}
