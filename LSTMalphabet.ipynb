{
 "cells": [
  {
   "cell_type": "code",
   "execution_count": 1,
   "id": "green-software",
   "metadata": {},
   "outputs": [],
   "source": [
    "import numpy as np\n",
    "import matplotlib.pyplot as plt\n",
    "from keras.models import Sequential\n",
    "from keras.layers import Dense\n",
    "from keras.layers import LSTM\n",
    "from keras.utils import np_utils"
   ]
  },
  {
   "cell_type": "markdown",
   "id": "18b83253",
   "metadata": {},
   "source": [
    "## LSTM Alphabet Example\n",
    "\n",
    "Module: [***Sequential***](https://keras.io/api/models/sequential/), [***Layers***](https://keras.io/api/layers/) in Keras"
   ]
  },
  {
   "cell_type": "code",
   "execution_count": 2,
   "id": "developed-internship",
   "metadata": {},
   "outputs": [],
   "source": [
    "# define the raw dataset\n",
    "alphabet = \"ABCDEFGHIJKLMNOPQRSTUVWXYZ\"\n",
    "\n",
    "# create mapping of characters to integers (0-25) and the reverse\n",
    "char_to_int = dict((c, i) for i, c in enumerate(alphabet))\n",
    "int_to_char = dict((i, c) for i, c in enumerate(alphabet))"
   ]
  },
  {
   "cell_type": "code",
   "execution_count": 3,
   "id": "intended-things",
   "metadata": {},
   "outputs": [
    {
     "name": "stdout",
     "output_type": "stream",
     "text": [
      "Training data: \n",
      "\n",
      "AB -> C\n",
      "BC -> D\n",
      "CD -> E\n",
      "DE -> F\n",
      "EF -> G\n",
      "FG -> H\n",
      "GH -> I\n",
      "HI -> J\n",
      "IJ -> K\n",
      "JK -> L\n",
      "KL -> M\n",
      "LM -> N\n",
      "MN -> O\n",
      "NO -> P\n",
      "OP -> Q\n",
      "PQ -> R\n",
      "QR -> S\n",
      "RS -> T\n",
      "ST -> U\n",
      "TU -> V\n",
      "UV -> W\n",
      "VW -> X\n",
      "WX -> Y\n",
      "XY -> Z\n"
     ]
    }
   ],
   "source": [
    "# prepare the dataset of input to output pairs encoded as integers\n",
    "seq_length = 2  # try setting the value to integer (e.g. 1, 2, 3), and check the differences\n",
    "\n",
    "# define the input and output sequence data\n",
    "dataX = []\n",
    "dataY = []\n",
    "\n",
    "print(\"Training data: \\n\" )\n",
    "\n",
    "for i in range(0, len(alphabet) - seq_length, 1):\n",
    "\tseq_in = alphabet[i:i + seq_length]\n",
    "\tseq_out = alphabet[i + seq_length]\n",
    "\tdataX.append([char_to_int[char] for char in seq_in])\n",
    "\tdataY.append(char_to_int[seq_out])\n",
    "\tprint(seq_in, '->', seq_out)  # print out the sequence data"
   ]
  },
  {
   "cell_type": "code",
   "execution_count": 4,
   "id": "equal-ghost",
   "metadata": {},
   "outputs": [],
   "source": [
    "# reshape X to be [samples, time steps, features]\n",
    "X = np.reshape(dataX, (len(dataX), seq_length, 1))\n",
    "\n",
    "# normalize\n",
    "X = X / float(len(alphabet))\n",
    "\n",
    "# one-hot encode the output data\n",
    "y = np_utils.to_categorical(dataY)"
   ]
  },
  {
   "cell_type": "code",
   "execution_count": 5,
   "id": "theoretical-music",
   "metadata": {},
   "outputs": [
    {
     "name": "stdout",
     "output_type": "stream",
     "text": [
      "Model: \"sequential\"\n",
      "_________________________________________________________________\n",
      "Layer (type)                 Output Shape              Param #   \n",
      "=================================================================\n",
      "lstm (LSTM)                  (None, 32)                4352      \n",
      "_________________________________________________________________\n",
      "dense (Dense)                (None, 26)                858       \n",
      "=================================================================\n",
      "Total params: 5,210\n",
      "Trainable params: 5,210\n",
      "Non-trainable params: 0\n",
      "_________________________________________________________________\n",
      "None\n"
     ]
    }
   ],
   "source": [
    "# instantiate the LSTM model\n",
    "model = Sequential()\n",
    "\n",
    "# define the model architecture\n",
    "model.add(LSTM(32, input_shape=(X.shape[1], X.shape[2])))\n",
    "model.add(Dense(y.shape[1], activation='softmax'))\n",
    "\n",
    "# define loss, optimizer, metrics\n",
    "model.compile(loss='categorical_crossentropy', optimizer='adam', metrics=['accuracy'])\n",
    "print (model.summary())\n",
    "\n",
    "# train the model\n",
    "history = model.fit(X, y, epochs=1000, batch_size=len(dataX), verbose=0, shuffle=False)"
   ]
  },
  {
   "cell_type": "code",
   "execution_count": 6,
   "id": "continuing-sixth",
   "metadata": {},
   "outputs": [
    {
     "data": {
      "text/plain": [
       "<matplotlib.legend.Legend at 0x28c66cacd88>"
      ]
     },
     "execution_count": 6,
     "metadata": {},
     "output_type": "execute_result"
    },
    {
     "data": {
      "image/png": "[encoded data removed]",
      "text/plain": [
       "<Figure size 432x288 with 1 Axes>"
      ]
     },
     "metadata": {
      "needs_background": "light"
     },
     "output_type": "display_data"
    }
   ],
   "source": [
    "# plot the loss and accuracy curves\n",
    "plt.plot(history.history['accuracy'], label='Accuracy', color='red')\n",
    "plt.plot(history.history[\"loss\"], label=\"Loss\",  color='green')\n",
    "plt.legend()"
   ]
  },
  {
   "cell_type": "code",
   "execution_count": 7,
   "id": "younger-seven",
   "metadata": {},
   "outputs": [
    {
     "name": "stdout",
     "output_type": "stream",
     "text": [
      "Model Accuracy: 100.00% \n",
      "\n",
      "['A', 'B'] -> C\n",
      "['B', 'C'] -> D\n",
      "['C', 'D'] -> E\n",
      "['D', 'E'] -> F\n",
      "['E', 'F'] -> G\n",
      "['F', 'G'] -> H\n",
      "['G', 'H'] -> I\n",
      "['H', 'I'] -> J\n",
      "['I', 'J'] -> K\n",
      "['J', 'K'] -> L\n",
      "['K', 'L'] -> M\n",
      "['L', 'M'] -> N\n",
      "['M', 'N'] -> O\n",
      "['N', 'O'] -> P\n",
      "['O', 'P'] -> Q\n",
      "['P', 'Q'] -> R\n",
      "['Q', 'R'] -> S\n",
      "['R', 'S'] -> T\n",
      "['S', 'T'] -> U\n",
      "['T', 'U'] -> V\n",
      "['U', 'V'] -> W\n",
      "['V', 'W'] -> X\n",
      "['W', 'X'] -> Y\n",
      "['X', 'Y'] -> Z\n"
     ]
    }
   ],
   "source": [
    "# summarize performance of the model\n",
    "scores = model.evaluate(X, y, verbose=0)\n",
    "print(\"Model Accuracy: %.2f%% \\n\" % (scores[1]*100) )\n",
    "\n",
    "# demonstrate some model predictions\n",
    "for pattern in dataX:\n",
    "    x = np.reshape(pattern, (1, len(pattern), 1))\n",
    "    x = x / float(len(alphabet))\n",
    "    prediction = model.predict(x, verbose=0)\n",
    "    index = np.argmax(prediction)\n",
    "    seq_out = int_to_char[index]\n",
    "    seq_in = [int_to_char[value] for value in pattern]\n",
    "    print(seq_in, \"->\", seq_out)"
   ]
  },
  {
   "cell_type": "code",
   "execution_count": 8,
   "id": "distinguished-federal",
   "metadata": {},
   "outputs": [
    {
     "name": "stdout",
     "output_type": "stream",
     "text": [
      "Test a Random Pattern:\n",
      "['E', 'F'] -> G\n",
      "['U', 'V'] -> W\n",
      "['N', 'O'] -> P\n"
     ]
    }
   ],
   "source": [
    "# demonstrate predicting random patterns\n",
    "\n",
    "test_number = 3   #number of random patterns to demonstrate\n",
    "\n",
    "print(\"Test a Random Pattern:\")\n",
    "for i in range(0, test_number):\n",
    "    pattern_index = np.random.randint(len(dataX))\n",
    "    pattern = dataX[pattern_index]\n",
    "    x = np.reshape(pattern, (1, len(pattern), 1))\n",
    "    x = x / float(len(alphabet))\n",
    "    prediction = model.predict(x, verbose=0)\n",
    "    index = np.argmax(prediction)\n",
    "    result = int_to_char[index]\n",
    "    seq_in = [int_to_char[value] for value in pattern]\n",
    "    print(seq_in, \"->\", result)"
   ]
  }
 ],
 "metadata": {
  "kernelspec": {
   "display_name": "Python 3",
   "language": "python",
   "name": "python3"
  },
  "language_info": {
   "codemirror_mode": {
    "name": "ipython",
    "version": 3
   },
   "file_extension": ".py",
   "mimetype": "text/x-python",
   "name": "python",
   "nbconvert_exporter": "python",
   "pygments_lexer": "ipython3",
   "version": "3.7.11"
  }
 },
 "nbformat": 4,
 "nbformat_minor": 5
}
