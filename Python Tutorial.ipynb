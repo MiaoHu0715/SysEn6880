{
 "cells": [
  {
   "cell_type": "code",
   "execution_count": 21,
   "metadata": {},
   "outputs": [
    {
     "data": {
      "text/html": [
       "\n",
       "<style>\n",
       ".output_png {\n",
       "    display: table-cell;\n",
       "    text-align: center;\n",
       "    vertical-align: middle;\n",
       "}\n",
       "</style>\n"
      ],
      "text/plain": [
       "<IPython.core.display.HTML object>"
      ]
     },
     "execution_count": 21,
     "metadata": {},
     "output_type": "execute_result"
    }
   ],
   "source": [
    "from IPython.display import display\n",
    "from IPython.core.display import HTML\n",
    "HTML(\"\"\"\n",
    "<style>\n",
    ".output_png {\n",
    "    display: table-cell;\n",
    "    text-align: center;\n",
    "    vertical-align: middle;\n",
    "}\n",
    "</style>\n",
    "\"\"\")"
   ]
  },
  {
   "cell_type": "markdown",
   "metadata": {
    "toc": true
   },
   "source": [
    "<h1>Table of Contents<span class=\"tocSkip\"></span></h1>\n",
    "<div class=\"toc\"><ul class=\"toc-item\"><li><span><a href=\"#Introduction-\" data-toc-modified-id=\"Introduction--1\"><span class=\"toc-item-num\">1&nbsp;&nbsp;</span>Introduction <a class=\"anchor\" id=\"intro\" rel=\"nofollow\"></a></a></span></li><li><span><a href=\"#Python-\" data-toc-modified-id=\"Python--2\"><span class=\"toc-item-num\">2&nbsp;&nbsp;</span>Python <a class=\"anchor\" id=\"pythonprimer\" rel=\"nofollow\"></a></a></span><ul class=\"toc-item\"><li><span><a href=\"#Containers\" data-toc-modified-id=\"Containers-2.1\"><span class=\"toc-item-num\">2.1&nbsp;&nbsp;</span>Containers</a></span></li><li><span><a href=\"#List-comprehension\" data-toc-modified-id=\"List-comprehension-2.2\"><span class=\"toc-item-num\">2.2&nbsp;&nbsp;</span>List comprehension</a></span></li><li><span><a href=\"#Indexing\" data-toc-modified-id=\"Indexing-2.3\"><span class=\"toc-item-num\">2.3&nbsp;&nbsp;</span>Indexing</a></span></li><li><span><a href=\"#Printing\" data-toc-modified-id=\"Printing-2.4\"><span class=\"toc-item-num\">2.4&nbsp;&nbsp;</span>Printing</a></span></li></ul></li><li><span><a href=\"#NumPy-\" data-toc-modified-id=\"NumPy--3\"><span class=\"toc-item-num\">3&nbsp;&nbsp;</span>NumPy <a class=\"anchor\" id=\"numpy\" rel=\"nofollow\"></a></a></span><ul class=\"toc-item\"><li><span><a href=\"#Array-Creation\" data-toc-modified-id=\"Array-Creation-3.1\"><span class=\"toc-item-num\">3.1&nbsp;&nbsp;</span>Array Creation</a></span></li><li><span><a href=\"#In-place-operations\" data-toc-modified-id=\"In-place-operations-3.2\"><span class=\"toc-item-num\">3.2&nbsp;&nbsp;</span>In-place operations</a></span></li><li><span><a href=\"#Broadcasting-(IMPORTANT!)\" data-toc-modified-id=\"Broadcasting-(IMPORTANT!)-3.3\"><span class=\"toc-item-num\">3.3&nbsp;&nbsp;</span>Broadcasting <strong>(IMPORTANT!)</strong></a></span></li><li><span><a href=\"#Indexing-and-Slicing\" data-toc-modified-id=\"Indexing-and-Slicing-3.4\"><span class=\"toc-item-num\">3.4&nbsp;&nbsp;</span>Indexing and Slicing</a></span></li><li><span><a href=\"#Stacking-and-Concatenation\" data-toc-modified-id=\"Stacking-and-Concatenation-3.5\"><span class=\"toc-item-num\">3.5&nbsp;&nbsp;</span>Stacking and Concatenation</a></span></li><li><span><a href=\"#Logic-operations\" data-toc-modified-id=\"Logic-operations-3.6\"><span class=\"toc-item-num\">3.6&nbsp;&nbsp;</span>Logic operations</a></span></li><li><span><a href=\"#np.array-vs.-np.matrix---whats-the-difference?\" data-toc-modified-id=\"np.array-vs.-np.matrix---whats-the-difference?-3.7\"><span class=\"toc-item-num\">3.7&nbsp;&nbsp;</span>np.array vs. np.matrix - whats the difference?</a></span></li><li><span><a href=\"#Views\" data-toc-modified-id=\"Views-3.8\"><span class=\"toc-item-num\">3.8&nbsp;&nbsp;</span>Views</a></span></li><li><span><a href=\"#Other-manipulations\" data-toc-modified-id=\"Other-manipulations-3.9\"><span class=\"toc-item-num\">3.9&nbsp;&nbsp;</span>Other manipulations</a></span></li><li><span><a href=\"#Aggregations\" data-toc-modified-id=\"Aggregations-3.10\"><span class=\"toc-item-num\">3.10&nbsp;&nbsp;</span>Aggregations</a></span></li><li><span><a href=\"#Basic-Mathematical-Operations\" data-toc-modified-id=\"Basic-Mathematical-Operations-3.11\"><span class=\"toc-item-num\">3.11&nbsp;&nbsp;</span>Basic Mathematical Operations</a></span><ul class=\"toc-item\"><li><span><a href=\"#np.dot,-np.multiply,-np.matmul\" data-toc-modified-id=\"np.dot,-np.multiply,-np.matmul-3.11.1\"><span class=\"toc-item-num\">3.11.1&nbsp;&nbsp;</span>np.dot, np.multiply, np.matmul</a></span></li><li><span><a href=\"#Linear-algebra\" data-toc-modified-id=\"Linear-algebra-3.11.2\"><span class=\"toc-item-num\">3.11.2&nbsp;&nbsp;</span>Linear algebra</a></span></li></ul></li><li><span><a href=\"#Filtering\" data-toc-modified-id=\"Filtering-3.12\"><span class=\"toc-item-num\">3.12&nbsp;&nbsp;</span>Filtering</a></span></li><li><span><a href=\"#Sampling\" data-toc-modified-id=\"Sampling-3.13\"><span class=\"toc-item-num\">3.13&nbsp;&nbsp;</span>Sampling</a></span></li><li><span><a href=\"#ufuncs\" data-toc-modified-id=\"ufuncs-3.14\"><span class=\"toc-item-num\">3.14&nbsp;&nbsp;</span>ufuncs</a></span></li><li><span><a href=\"#Accessing-array-attributes\" data-toc-modified-id=\"Accessing-array-attributes-3.15\"><span class=\"toc-item-num\">3.15&nbsp;&nbsp;</span>Accessing array attributes</a></span></li><li><span><a href=\"#Good-practices\" data-toc-modified-id=\"Good-practices-3.16\"><span class=\"toc-item-num\">3.16&nbsp;&nbsp;</span>Good practices</a></span></li></ul></li><li><span><a href=\"#Matplotlib\" data-toc-modified-id=\"Matplotlib-4\"><span class=\"toc-item-num\">4&nbsp;&nbsp;</span>Matplotlib</a></span><ul class=\"toc-item\"><li><span><a href=\"#Creating-a-plot\" data-toc-modified-id=\"Creating-a-plot-4.1\"><span class=\"toc-item-num\">4.1&nbsp;&nbsp;</span>Creating a plot</a></span></li><li><span><a href=\"#Styling-a-plot\" data-toc-modified-id=\"Styling-a-plot-4.2\"><span class=\"toc-item-num\">4.2&nbsp;&nbsp;</span>Styling a plot</a></span><ul class=\"toc-item\"><li><span><a href=\"#Subplots\" data-toc-modified-id=\"Subplots-4.2.1\"><span class=\"toc-item-num\">4.2.1&nbsp;&nbsp;</span>Subplots</a></span></li></ul></li><li><span><a href=\"#Built-in-stylesheets\" data-toc-modified-id=\"Built-in-stylesheets-4.3\"><span class=\"toc-item-num\">4.3&nbsp;&nbsp;</span>Built in stylesheets</a></span></li></ul></li><li><span><a href=\"#SciPy\" data-toc-modified-id=\"SciPy-5\"><span class=\"toc-item-num\">5&nbsp;&nbsp;</span>SciPy</a></span><ul class=\"toc-item\"><li><span><a href=\"#scipy.stats\" data-toc-modified-id=\"scipy.stats-5.1\"><span class=\"toc-item-num\">5.1&nbsp;&nbsp;</span>scipy.stats</a></span></li><li><span><a href=\"#scipy.fft\" data-toc-modified-id=\"scipy.fft-5.2\"><span class=\"toc-item-num\">5.2&nbsp;&nbsp;</span>scipy.fft</a></span></li><li><span><a href=\"#scipy.linalg\" data-toc-modified-id=\"scipy.linalg-5.3\"><span class=\"toc-item-num\">5.3&nbsp;&nbsp;</span>scipy.linalg</a></span></li><li><span><a href=\"#scipy.special\" data-toc-modified-id=\"scipy.special-5.4\"><span class=\"toc-item-num\">5.4&nbsp;&nbsp;</span>scipy.special</a></span></li></ul></li><li><span><a href=\"#Other-Native-Python-Libraries\" data-toc-modified-id=\"Other-Native-Python-Libraries-6\"><span class=\"toc-item-num\">6&nbsp;&nbsp;</span>Other Native Python Libraries</a></span></li><li><span><a href=\"#3rd-party-libraries\" data-toc-modified-id=\"3rd-party-libraries-7\"><span class=\"toc-item-num\">7&nbsp;&nbsp;</span>3rd-party libraries</a></span></li><li><span><a href=\"#Optimizations\" data-toc-modified-id=\"Optimizations-8\"><span class=\"toc-item-num\">8&nbsp;&nbsp;</span>Optimizations</a></span><ul class=\"toc-item\"><li><span><a href=\"#JAX\" data-toc-modified-id=\"JAX-8.1\"><span class=\"toc-item-num\">8.1&nbsp;&nbsp;</span>JAX</a></span></li></ul></li><li><span><a href=\"#Exercises\" data-toc-modified-id=\"Exercises-9\"><span class=\"toc-item-num\">9&nbsp;&nbsp;</span>Exercises</a></span></li></ul></div>"
   ]
  },
  {
   "cell_type": "markdown",
   "metadata": {},
   "source": [
    "# Introduction <a class=\"anchor\" id=\"intro\"></a>"
   ]
  },
  {
   "cell_type": "markdown",
   "metadata": {},
   "source": [
    "\n",
    "\n",
    "This notebook is intended to give a crash course on how to effectively use common python packages for data science, scientific computing, and visualization. Good practices are too often neglected and lead to inefficient, slow-to-update and code chock full of bugs.\n",
    "\n",
    "We will first go over some fundamentals of Python as a refresher, as a prerequisite to some of the more efficient routines in NumPy. Next, we will go over the basics of the main data structures and manipulations in NumPy. We will then look at using Matplotlib for visualization, and finish off with some common functions and methods in SciPy as well as a couple of brief practical examples. At the end there is a optional section for those interested that covers some additional tips, tricks and good practices, with links to suggested reading material."
   ]
  },
  {
   "cell_type": "markdown",
   "metadata": {},
   "source": [
    "# Python <a class=\"anchor\" id=\"pythonprimer\"></a>"
   ]
  },
  {
   "cell_type": "markdown",
   "metadata": {},
   "source": [
    "https://docs.python.org/3/"
   ]
  },
  {
   "cell_type": "markdown",
   "metadata": {},
   "source": [
    "## Containers\n"
   ]
  },
  {
   "cell_type": "markdown",
   "metadata": {},
   "source": [
    "This section will quickly go over the most commonly used Python data structures."
   ]
  },
  {
   "cell_type": "code",
   "execution_count": 22,
   "metadata": {},
   "outputs": [
    {
     "name": "stdout",
     "output_type": "stream",
     "text": [
      "Empty list using []:  []\n",
      "Empty list using list()  []\n",
      "Homogeneous list:  [3, 4, 1, 2]\n",
      "Heterogeneous list:  [3, 4, 1, 2]\n",
      "List of range of values:  [0, 1, 2, 3, 4]\n"
     ]
    }
   ],
   "source": [
    "# empty list\n",
    "a = []\n",
    "print('Empty list using []: ', a)\n",
    "a = list()\n",
    "print('Empty list using list() ', a)\n",
    "\n",
    "# list with homogeneous types\n",
    "a = [3, 4, 1, 2]\n",
    "print('Homogeneous list: ', a)\n",
    "\n",
    "# list with heterogeneous types\n",
    "b = [\"apple\", 3, True, \"meaning of life is 42\"]\n",
    "print('Heterogeneous list: ', a)\n",
    "\n",
    "# range of values\n",
    "a = list(range(5))\n",
    "print('List of range of values: ', a)\n",
    "\n"
   ]
  },
  {
   "cell_type": "code",
   "execution_count": 23,
   "metadata": {},
   "outputs": [
    {
     "name": "stdout",
     "output_type": "stream",
     "text": [
      "Empty dict using dict():  {}\n",
      "Empty dict using  {}:  {}\n",
      "{'hello': 3, 'foo': 'bar'}\n",
      "{'tree': {'subtree': {'leaf': 5}}}\n"
     ]
    }
   ],
   "source": [
    "empty_dict1 = dict()\n",
    "empty_dict2 = {}\n",
    "dict_1 = {'hello': 3, 'foo': 'bar'}\n",
    "dict_2 = {'tree':{'subtree':{'leaf':5}}}\n",
    "print('Empty dict using dict(): ', empty_dict1)\n",
    "print('Empty dict using  {}: ', empty_dict2)\n",
    "print(dict_1)\n",
    "print(dict_2)\n"
   ]
  },
  {
   "cell_type": "code",
   "execution_count": 24,
   "metadata": {},
   "outputs": [
    {
     "name": "stdout",
     "output_type": "stream",
     "text": [
      "Third element of the tuple:  apple\n",
      "First element of the tuple:  3\n",
      "Second element of the tuple:  2\n"
     ]
    }
   ],
   "source": [
    "# Underscores signal that you don't care about the assignment of the corresponding elements\n",
    "x = (3,2,\"apple\")\n",
    "_, _, c = x\n",
    "\n",
    "print('Third element of the tuple: ', c)\n",
    "a, b, _ = x\n",
    "print('First element of the tuple: ', a)\n",
    "print('Second element of the tuple: ', b)"
   ]
  },
  {
   "cell_type": "markdown",
   "metadata": {},
   "source": [
    "## List comprehension"
   ]
  },
  {
   "cell_type": "markdown",
   "metadata": {},
   "source": [
    "Rather than spreading nests of for loops over many lines, you can use list comprehension to simplify the readability of your code."
   ]
  },
  {
   "cell_type": "code",
   "execution_count": 25,
   "metadata": {},
   "outputs": [
    {
     "name": "stdout",
     "output_type": "stream",
     "text": [
      "Using for loops:\n",
      "  [2, 4, 10, 24, 10]\n",
      "Using list comprehension:\n",
      "  [2, 4, 10, 24, 10]\n",
      "Using for loops:\n",
      "  [(1, 2, 3), (1, 2, 3), (1, 2, 3), (1, 2, 3), (1, 2, 3), (1, 2, 3), (1, 2, 3), (1, 2, 3), (1, 2, 3), (1, 2, 3), (1, 2, 3), (1, 2, 3), (1, 2, 3), (1, 2, 3), (1, 2, 3), (1, 2, 3), (1, 2, 3), (1, 2, 3), (1, 2, 3), (1, 2, 3), (1, 2, 3), (1, 2, 3), (1, 2, 3), (1, 2, 3), (1, 2, 3), (1, 2, 3), (1, 2, 3)]\n",
      "Using list comprehension:\n",
      "  [(1, 2, 3), (1, 2, 3), (1, 2, 3), (1, 2, 3), (1, 2, 3), (1, 2, 3), (1, 2, 3), (1, 2, 3), (1, 2, 3), (1, 2, 3), (1, 2, 3), (1, 2, 3), (1, 2, 3), (1, 2, 3), (1, 2, 3), (1, 2, 3), (1, 2, 3), (1, 2, 3), (1, 2, 3), (1, 2, 3), (1, 2, 3), (1, 2, 3), (1, 2, 3), (1, 2, 3), (1, 2, 3), (1, 2, 3), (1, 2, 3)]\n"
     ]
    }
   ],
   "source": [
    "# Single for-loop\n",
    "a1 = [1,2,5,12,5]\n",
    "comb = []\n",
    "for i in a1:\n",
    "  comb.append(2*i)\n",
    "\n",
    "print('Using for loops:\\n ', comb)\n",
    "\n",
    "# list comprehension equivalent\n",
    "comb_lc = [2*i for i in a1]\n",
    "print('Using list comprehension:\\n ', comb_lc)\n",
    "\n",
    "# Nested for-loops\n",
    "b1 = [1,1,1]\n",
    "b2 = [2,2,2]\n",
    "b3 = [3,3,3]\n",
    "combined = []\n",
    "\n",
    "for i in b1:\n",
    "  for j in b2:\n",
    "    for k in b3:\n",
    "      combined.append((i, j, k))\n",
    "print('Using for loops:\\n ', combined)\n",
    "\n",
    "# list comprehension equivalent\n",
    "combined_lc = [(i,j,k) for i in b1 for j  in b2 for k in b3]\n",
    "print('Using list comprehension:\\n ', combined_lc)"
   ]
  },
  {
   "cell_type": "markdown",
   "metadata": {},
   "source": [
    "## Indexing\n",
    "\n",
    "Indexing is generally exclusive (half-open interval, `[start, stop)`). Be careful of one off errors.\n",
    "\n",
    "You can index in a collection with positive indices (which correspond directly to the element index), or negative indices (which denotes the position relative to the end of the collection).\n",
    "\n"
   ]
  },
  {
   "cell_type": "code",
   "execution_count": 26,
   "metadata": {},
   "outputs": [
    {
     "name": "stdout",
     "output_type": "stream",
     "text": [
      "Positive indexing:  3\n",
      "Negative indexing:  6\n"
     ]
    }
   ],
   "source": [
    "a = [1,2,3,4,5,6,7]\n",
    "print('Positive indexing: ', a[2])\n",
    "print('Negative indexing: ', a[-2])"
   ]
  },
  {
   "cell_type": "markdown",
   "metadata": {},
   "source": [
    "## Printing"
   ]
  },
  {
   "cell_type": "markdown",
   "metadata": {},
   "source": [
    "You can choose to format standard output in many different ways. Below are three of the most commonly used:\n",
    "1. Printing multiple strings by passing as separate arguments\n",
    "2. Using the `%` operator\n",
    "3. Using `.format()`\n",
    "4. f-strings\n",
    "\n",
    "The code below illustrates each with an example."
   ]
  },
  {
   "cell_type": "code",
   "execution_count": 27,
   "metadata": {},
   "outputs": [
    {
     "name": "stdout",
     "output_type": "stream",
     "text": [
      "This string was printed using different arguments\n",
      "Number 1 is 31 while number 2 is 23\n",
      "Mean of x is 3.85 and pi is 3.1400 \n",
      "My response is foo bar.\n"
     ]
    }
   ],
   "source": [
    "print('This string was', 'printed using', 'different arguments')\n",
    "print('Number 1 is %d while number 2 is %d' % (31, 23))\n",
    "print('{0} is {1:.2f} and pi is {2:.4f} '.format(\"Mean of x\", (3.5 + 4.2)/2, 3.14))\n",
    "\n",
    "x = \"foo\"\n",
    "\n",
    "print(f\"My response is {x} bar.\")"
   ]
  },
  {
   "cell_type": "markdown",
   "metadata": {},
   "source": [
    "You can also ignore escape characters by using r-strings (raw):"
   ]
  },
  {
   "cell_type": "code",
   "execution_count": 28,
   "metadata": {},
   "outputs": [
    {
     "name": "stdout",
     "output_type": "stream",
     "text": [
      "Characters not escaped \\n \\r \\t \\b\n"
     ]
    }
   ],
   "source": [
    "print(r'Characters not escaped \\n \\r \\t \\b')"
   ]
  },
  {
   "cell_type": "markdown",
   "metadata": {},
   "source": [
    "This is useful especially when you want to format LaTeX in matplotlib charts later on, as we'll see in a later section."
   ]
  },
  {
   "cell_type": "markdown",
   "metadata": {},
   "source": [
    "The standard printing has a lot to be desired in terms of ease of formatting and customizability. We can often use the `pprint` module to make our lives easier."
   ]
  },
  {
   "cell_type": "code",
   "execution_count": 29,
   "metadata": {},
   "outputs": [
    {
     "name": "stdout",
     "output_type": "stream",
     "text": [
      "List of lists printed using print: \n",
      " [[[['mac n cheese'], 'one,', 'two', 'three']], [['mac n cheese'], 'one,', 'two', 'three']]\n",
      "List of lists printed using pprint: \n",
      " [[[['mac n cheese'], 'one,', 'two', 'three']], [['mac n cheese'], 'one,', 'two', 'three']]\n",
      "[  [[['mac n cheese'], 'one,', 'two', 'three']],\n",
      "   [['mac n cheese'], 'one,', 'two', 'three']]\n"
     ]
    }
   ],
   "source": [
    "import pprint\n",
    "\n",
    "a = [[['mac n cheese'], 'one,', 'two', 'three', ]]\n",
    "a.insert(0,a[:])\n",
    "\n",
    "# standard print\n",
    "print('List of lists printed using print: \\n', a)\n",
    "\n",
    "# pprint output\n",
    "print('List of lists printed using pprint: \\n', a)\n",
    "pp = pprint.PrettyPrinter(indent=3)\n",
    "pp.pprint(a)"
   ]
  },
  {
   "cell_type": "markdown",
   "metadata": {},
   "source": [
    "# NumPy <a class=\"anchor\" id=\"numpy\"></a>"
   ]
  },
  {
   "cell_type": "markdown",
   "metadata": {},
   "source": [
    "https://numpy.org/doc/stable/reference/index.html"
   ]
  },
  {
   "cell_type": "code",
   "execution_count": 30,
   "metadata": {},
   "outputs": [],
   "source": [
    "import numpy as np"
   ]
  },
  {
   "cell_type": "markdown",
   "metadata": {},
   "source": [
    "NumPy has become the de-facto Python package for scientific computing. It enables fast and efficient computation and is broadly useful in machine learning and statistical methods. All manipulations are done on an essential data structure called an `NDArray`, which is a representation of a (multi)-dimensional array or matrix."
   ]
  },
  {
   "cell_type": "markdown",
   "metadata": {},
   "source": [
    "## Array Creation"
   ]
  },
  {
   "cell_type": "markdown",
   "metadata": {},
   "source": [
    "The most common way to create a numpy array is to instantiate one with `np.zeros`. It takes as an argument the desired shape of the output array."
   ]
  },
  {
   "cell_type": "code",
   "execution_count": 31,
   "metadata": {},
   "outputs": [
    {
     "name": "stdout",
     "output_type": "stream",
     "text": [
      "[0. 0.]\n",
      "[[0. 0. 0. 0. 0.]\n",
      " [0. 0. 0. 0. 0.]\n",
      " [0. 0. 0. 0. 0.]]\n"
     ]
    }
   ],
   "source": [
    "print(np.zeros((2,)))\n",
    "print(np.zeros((3,5)))"
   ]
  },
  {
   "cell_type": "markdown",
   "metadata": {},
   "source": [
    "If you want to initialize your array with all ones, or with any other number, you can use either `np.ones` or `np.full`, respectively:"
   ]
  },
  {
   "cell_type": "code",
   "execution_count": 32,
   "metadata": {},
   "outputs": [
    {
     "name": "stdout",
     "output_type": "stream",
     "text": [
      "[1. 1. 1. 1. 1. 1. 1. 1. 1. 1.]\n",
      "[[3.7 3.7 3.7 3.7]\n",
      " [3.7 3.7 3.7 3.7]\n",
      " [3.7 3.7 3.7 3.7]\n",
      " [3.7 3.7 3.7 3.7]\n",
      " [3.7 3.7 3.7 3.7]]\n"
     ]
    }
   ],
   "source": [
    "print(np.ones((10,)))\n",
    "print(np.full((5,4), 3.7))"
   ]
  },
  {
   "cell_type": "markdown",
   "metadata": {},
   "source": [
    "Arrays can also be created from existing Pythonic data structures like lists:"
   ]
  },
  {
   "cell_type": "code",
   "execution_count": 33,
   "metadata": {},
   "outputs": [
    {
     "name": "stdout",
     "output_type": "stream",
     "text": [
      "This is a python list:  [[3, 5], [2, 4], [8, 6]]\n",
      "Converted to a NumPy array:\n",
      "  [[3 5]\n",
      " [2 4]\n",
      " [8 6]] \n",
      "\n",
      "This is a python dictionary:  {'foo': 3, 'bar': 8, 'apple': 2, 'orange': 4}\n",
      "Converted to a NumPy array:\n",
      "  [['foo' '3']\n",
      " ['bar' '8']\n",
      " ['apple' '2']\n",
      " ['orange' '4']]\n",
      "[['foo' '3']\n",
      " ['bar' '8']\n",
      " ['apple' '2']\n",
      " ['orange' '4']]\n"
     ]
    }
   ],
   "source": [
    "python_list = [[3,5],[2,4],[8,6]]\n",
    "print('This is a python list: ', python_list)\n",
    "arr = np.array(python_list)\n",
    "print('Converted to a NumPy array:\\n ', arr, '\\n')\n",
    "\n",
    "python_dict = {'foo': 3, 'bar': 8, 'apple': 2, 'orange': 4}\n",
    "print('This is a python dictionary: ', python_dict)\n",
    "arr = np.array(list(python_dict.items()))\n",
    "\n",
    "print('Converted to a NumPy array:\\n ', arr)\n",
    "\n",
    "\n",
    "print(arr)"
   ]
  },
  {
   "cell_type": "markdown",
   "metadata": {},
   "source": [
    "To create a grid of coordinates, `np.meshgrid` or `np.mgrid` come in handy. Both have the same functionality but slightly different syntax, and the syntax itself can be confusing. \n",
    "\n",
    "With `np.meshgrid`, the arguments are 1D arrays representing the desired ranges along each coordinate axes. \n",
    "\n",
    "With `np.mgrid`, you use indexing notation (see the Indexing section). Complex valued step lengths indicate the number of points to generate between the start and stop indices, rather than the step size."
   ]
  },
  {
   "cell_type": "code",
   "execution_count": 34,
   "metadata": {},
   "outputs": [
    {
     "name": "stdout",
     "output_type": "stream",
     "text": [
      "[array([[2, 3, 4, 5],\n",
      "       [2, 3, 4, 5],\n",
      "       [2, 3, 4, 5],\n",
      "       [2, 3, 4, 5],\n",
      "       [2, 3, 4, 5]]), array([[0, 0, 0, 0],\n",
      "       [1, 1, 1, 1],\n",
      "       [2, 2, 2, 2],\n",
      "       [3, 3, 3, 3],\n",
      "       [4, 4, 4, 4]])]\n"
     ]
    }
   ],
   "source": [
    "# Using np.meshgrid\n",
    "x = np.arange(2,6)\n",
    "y = np.arange(5)\n",
    "print(np.meshgrid(x, y))\n",
    "\n"
   ]
  },
  {
   "cell_type": "code",
   "execution_count": 35,
   "metadata": {},
   "outputs": [
    {
     "name": "stdout",
     "output_type": "stream",
     "text": [
      "[[[2 2 2 2]\n",
      "  [3 3 3 3]\n",
      "  [4 4 4 4]\n",
      "  [5 5 5 5]]\n",
      "\n",
      " [[0 1 2 3]\n",
      "  [0 1 2 3]\n",
      "  [0 1 2 3]\n",
      "  [0 1 2 3]]]\n",
      "\n",
      "\n",
      "[[[1.  1.  1.  1.  1.  1. ]\n",
      "  [2.  2.  2.  2.  2.  2. ]]\n",
      "\n",
      " [[0.  0.8 1.6 2.4 3.2 4. ]\n",
      "  [0.  0.8 1.6 2.4 3.2 4. ]]]\n"
     ]
    }
   ],
   "source": [
    "# Using np.mgrid\n",
    "print(np.mgrid[2:6,0:4])\n",
    "print('\\n')\n",
    "\n",
    "# Using np.mgrid, complex-valued step size\n",
    "print(np.mgrid[1:3,0:4:6j])"
   ]
  },
  {
   "cell_type": "markdown",
   "metadata": {},
   "source": [
    "To create an array of evenly spaced values between a range, we can use either `np.arange` or `np.linspace` functions. **These are not the same!** `np.arange` outputs values over a half open interval, from [start, end); values from `np.linspace`, on the other hand, are returned over a completely closed interval [start, end]. In addition, `np.arange` asks for a  *step size*, while np.linspace asks for a *number of steps*.\n",
    "\n",
    "Both functions take the arguments (start, stop, step).  Some of these are optional; you can refer to the documentation for more information. You can use integers as well as floating points values."
   ]
  },
  {
   "cell_type": "code",
   "execution_count": 36,
   "metadata": {},
   "outputs": [
    {
     "name": "stdout",
     "output_type": "stream",
     "text": [
      "np.arange output:\n",
      "  [0 1 2 3 4 5 6 7 8 9]\n",
      "np.linspace output:\n",
      "  [ 0.          0.52631579  1.05263158  1.57894737  2.10526316  2.63157895\n",
      "  3.15789474  3.68421053  4.21052632  4.73684211  5.26315789  5.78947368\n",
      "  6.31578947  6.84210526  7.36842105  7.89473684  8.42105263  8.94736842\n",
      "  9.47368421 10.        ]\n"
     ]
    }
   ],
   "source": [
    "x = np.arange(0,10,1)\n",
    "x2 = np.linspace(0,10,20)\n",
    "\n",
    "print('np.arange output:\\n ', x)\n",
    "print('np.linspace output:\\n ', x2)"
   ]
  },
  {
   "cell_type": "markdown",
   "metadata": {},
   "source": [
    "Often times if you are working over a large dataset, you may want to creating the same large array over and over in memory, especially if you only need to modify one instance of it at a time. NumPy allows you to perform operations *in place* rather than needing to create a modified version of an array all the time."
   ]
  },
  {
   "cell_type": "markdown",
   "metadata": {},
   "source": [
    "## In-place operations"
   ]
  },
  {
   "cell_type": "code",
   "execution_count": 37,
   "metadata": {},
   "outputs": [
    {
     "name": "stdout",
     "output_type": "stream",
     "text": [
      "x is unmodified using np.sort: [2 3 5 1]\n",
      "y contains the new modified, sorted array [2 3 5 1]\n",
      "x is directly sorted using a.sort(): [1 2 3 5]\n"
     ]
    }
   ],
   "source": [
    "x = np.array([2,3,5,1])\n",
    "y = np.sort(x)\n",
    "print('x is unmodified using np.sort:', x)\n",
    "print('y contains the new modified, sorted array', x)\n",
    "\n",
    "x.sort()\n",
    "print('x is directly sorted using a.sort():', x)"
   ]
  },
  {
   "cell_type": "markdown",
   "metadata": {},
   "source": [
    "Pythonic infix operators already modify variables in-place, and the extended functionality NumPy provides on arrays is no different."
   ]
  },
  {
   "cell_type": "code",
   "execution_count": 38,
   "metadata": {},
   "outputs": [
    {
     "name": "stdout",
     "output_type": "stream",
     "text": [
      "Addition:\n",
      "  [[2. 1. 1. 1. 1.]\n",
      " [1. 2. 1. 1. 1.]\n",
      " [1. 1. 2. 1. 1.]\n",
      " [1. 1. 1. 2. 1.]\n",
      " [1. 1. 1. 1. 2.]]\n",
      "Division:\n",
      "  [[5.  2.5 2.5 2.5 2.5]\n",
      " [2.5 5.  2.5 2.5 2.5]\n",
      " [2.5 2.5 5.  2.5 2.5]\n",
      " [2.5 2.5 2.5 5.  2.5]\n",
      " [2.5 2.5 2.5 2.5 5. ]]\n",
      "Multiplication:\n",
      "  [[30. 15. 15. 15. 15.]\n",
      " [15. 30. 15. 15. 15.]\n",
      " [15. 15. 30. 15. 15.]\n",
      " [15. 15. 15. 30. 15.]\n",
      " [15. 15. 15. 15. 30.]]\n",
      "Exponentiation:\n",
      "  [[900. 225. 225. 225. 225.]\n",
      " [225. 900. 225. 225. 225.]\n",
      " [225. 225. 900. 225. 225.]\n",
      " [225. 225. 225. 900. 225.]\n",
      " [225. 225. 225. 225. 900.]]\n"
     ]
    }
   ],
   "source": [
    "a = np.ones((5,5))\n",
    "b = np.eye(5)\n",
    "\n",
    "a += b\n",
    "print('Addition:\\n ', a)\n",
    "\n",
    "a /= .4\n",
    "print('Division:\\n ', a)\n",
    "\n",
    "a *= 6\n",
    "print('Multiplication:\\n ', a)\n",
    "\n",
    "a **= 2\n",
    "print('Exponentiation:\\n ', a)"
   ]
  },
  {
   "cell_type": "markdown",
   "metadata": {},
   "source": [
    "In most cases, a library-level call corresponds to creation of a modified copy of an array, while the method-level call modifies in-place."
   ]
  },
  {
   "cell_type": "markdown",
   "metadata": {},
   "source": [
    "## Broadcasting **(IMPORTANT!)**"
   ]
  },
  {
   "cell_type": "markdown",
   "metadata": {},
   "source": [
    "Broadcasting is by far one of the simplest yet most easily misunderstood rules in NumPy. It is *imperative* you understand how this works. NumPy has this functionality implemented to make your life easier, not harder, and knowing these rules by heart will help you avoid pesky shape errors.\n",
    "\n",
    "What is broadcasting? Let's say you had an array of shape `(1,2)` and another one of shape `(6,2)`, and you wanted to multiply the values in the second by the two values in the first."
   ]
  },
  {
   "cell_type": "code",
   "execution_count": 39,
   "metadata": {},
   "outputs": [
    {
     "name": "stdout",
     "output_type": "stream",
     "text": [
      "Shape of arr1 is (1, 2), Shape of arr2 is (6, 2)\n",
      "[[1 2]] \n",
      "\n",
      "[[3 4]\n",
      " [8 2]\n",
      " [5 5]\n",
      " [3 1]\n",
      " [1 2]\n",
      " [1 2]]\n"
     ]
    }
   ],
   "source": [
    "arr1 = np.array([[1,2]])\n",
    "arr2 = np.array([[3,4],[8,2],[5,5],[3,1],[1,2],[1,2]])\n",
    "\n",
    "print('Shape of arr1 is {}, Shape of arr2 is {}'.format(arr1.shape, arr2.shape))\n",
    "\n",
    "print(arr1, '\\n')\n",
    "print(arr2)"
   ]
  },
  {
   "cell_type": "markdown",
   "metadata": {},
   "source": [
    "Though the two arrays are of different shapes, NumPy has the ability to infer that this computation is exactly what you want to do. Broadcasting is a way to way to implicitly reshape and stretch arrays to make operations performed on two different shapes consistent.\n",
    "\n",
    "The three things to keep in mind:\n",
    "  1. Dimensions are considered from right to left and compared one by one.\n",
    "  2. Between a pair of dimensions, if one is of size 1 then the operation is allowed.\n",
    "  3. Between a pair of dimensions, if both are the same size then the operation is allowed.\n",
    "\n",
    "\n",
    "So if we have an array of shape `(1,2,3,1,5)` and another of shape `(2,3,1`), broadcasting does *not work*; if on the other hand due to the first point; if on the other hand, the second shape was `(2,3,1,5)`, broadcasting would be allowed."
   ]
  },
  {
   "cell_type": "markdown",
   "metadata": {},
   "source": [
    "Examples of how NOT understanding broadcasting will make your life harder:"
   ]
  },
  {
   "cell_type": "code",
   "execution_count": 40,
   "metadata": {},
   "outputs": [
    {
     "ename": "ValueError",
     "evalue": "operands could not be broadcast together with shapes (2,2,2,2,3) (2,2,2,2) ",
     "output_type": "error",
     "traceback": [
      "\u001b[1;31m---------------------------------------------------------------------------\u001b[0m",
      "\u001b[1;31mValueError\u001b[0m                                Traceback (most recent call last)",
      "\u001b[1;32m<ipython-input-40-7e44364fb9a8>\u001b[0m in \u001b[0;36m<module>\u001b[1;34m\u001b[0m\n\u001b[0;32m      2\u001b[0m \u001b[0my\u001b[0m \u001b[1;33m=\u001b[0m \u001b[0mnp\u001b[0m\u001b[1;33m.\u001b[0m\u001b[0mones\u001b[0m\u001b[1;33m(\u001b[0m\u001b[1;33m(\u001b[0m\u001b[1;36m2\u001b[0m\u001b[1;33m,\u001b[0m\u001b[1;36m2\u001b[0m\u001b[1;33m,\u001b[0m\u001b[1;36m2\u001b[0m\u001b[1;33m,\u001b[0m\u001b[1;36m2\u001b[0m\u001b[1;33m)\u001b[0m\u001b[1;33m)\u001b[0m\u001b[1;33m\u001b[0m\u001b[1;33m\u001b[0m\u001b[0m\n\u001b[0;32m      3\u001b[0m \u001b[1;33m\u001b[0m\u001b[0m\n\u001b[1;32m----> 4\u001b[1;33m \u001b[0mx\u001b[0m \u001b[1;33m+\u001b[0m \u001b[0my\u001b[0m\u001b[1;33m\u001b[0m\u001b[1;33m\u001b[0m\u001b[0m\n\u001b[0m",
      "\u001b[1;31mValueError\u001b[0m: operands could not be broadcast together with shapes (2,2,2,2,3) (2,2,2,2) "
     ]
    }
   ],
   "source": [
    "x = np.full((2,2,2,2,3), 2)\n",
    "y = np.ones((2,2,2,2))\n",
    "\n",
    "x + y"
   ]
  },
  {
   "cell_type": "code",
   "execution_count": null,
   "metadata": {},
   "outputs": [
    {
     "ename": "ValueError",
     "evalue": "operands could not be broadcast together with shapes (4,3) (4,) ",
     "output_type": "error",
     "traceback": [
      "\u001b[1;31m---------------------------------------------------------------------------\u001b[0m",
      "\u001b[1;31mValueError\u001b[0m                                Traceback (most recent call last)",
      "\u001b[1;32m~\\AppData\\Local\\Temp/ipykernel_28344/2813331315.py\u001b[0m in \u001b[0;36m<module>\u001b[1;34m\u001b[0m\n\u001b[0;32m      6\u001b[0m \u001b[0mb\u001b[0m \u001b[1;33m=\u001b[0m \u001b[0mnp\u001b[0m\u001b[1;33m.\u001b[0m\u001b[0marray\u001b[0m\u001b[1;33m(\u001b[0m\u001b[1;33m[\u001b[0m\u001b[1;36m1.0\u001b[0m\u001b[1;33m,\u001b[0m \u001b[1;36m2.0\u001b[0m\u001b[1;33m,\u001b[0m \u001b[1;36m3.0\u001b[0m\u001b[1;33m,\u001b[0m \u001b[1;36m4.0\u001b[0m\u001b[1;33m]\u001b[0m\u001b[1;33m)\u001b[0m\u001b[1;33m\u001b[0m\u001b[1;33m\u001b[0m\u001b[0m\n\u001b[0;32m      7\u001b[0m \u001b[1;33m\u001b[0m\u001b[0m\n\u001b[1;32m----> 8\u001b[1;33m \u001b[0mprint\u001b[0m\u001b[1;33m(\u001b[0m\u001b[0ma\u001b[0m \u001b[1;33m+\u001b[0m \u001b[0mb\u001b[0m\u001b[1;33m)\u001b[0m\u001b[1;33m\u001b[0m\u001b[1;33m\u001b[0m\u001b[0m\n\u001b[0m",
      "\u001b[1;31mValueError\u001b[0m: operands could not be broadcast together with shapes (4,3) (4,) "
     ]
    }
   ],
   "source": [
    "a = np.array([[ 1.0,  2.0,  3.0],\n",
    "           [5.0, 2.0, 4.0],\n",
    "           [1.0, 6.0, 5.0],\n",
    "           [3.0, 6.0, 3.0]])\n",
    "\n",
    "b = np.array([1.0, 2.0, 3.0, 4.0])\n",
    "\n",
    "print(a + b)"
   ]
  },
  {
   "cell_type": "markdown",
   "metadata": {},
   "source": [
    "## Indexing and Slicing"
   ]
  },
  {
   "cell_type": "code",
   "execution_count": null,
   "metadata": {},
   "outputs": [
    {
     "name": "stdout",
     "output_type": "stream",
     "text": [
      "(array([0, 1, 2, 3, 4]), array([0, 1, 2, 3, 4]))\n",
      "[0 1 2 3 4 5 6 7 8 9]\n",
      "[1 3 5 7 9]\n"
     ]
    }
   ],
   "source": [
    "# Extract the indices of the diagonal of a square matrix\n",
    "print(np.diag_indices(5))\n",
    "\n",
    "# Every 2nd element from index 1 to 10\n",
    "a = np.arange(10)\n",
    "print(a)\n",
    "print(a[1:10:2])\n"
   ]
  },
  {
   "cell_type": "markdown",
   "metadata": {},
   "source": [
    "Not all of these options need to be specified. You can tell NumPy to index from a start value and end implicitly at the end of the array, or start implicitly at the beginning of the array and end at a desired indeex."
   ]
  },
  {
   "cell_type": "code",
   "execution_count": null,
   "metadata": {},
   "outputs": [
    {
     "name": "stdout",
     "output_type": "stream",
     "text": [
      "[0 1]\n",
      "[3 4 5 6 7 8 9]\n"
     ]
    }
   ],
   "source": [
    "# from beginning up to index 2\n",
    "print(a[:2])\n",
    "\n",
    "# from index 3 up to end of array\n",
    "print(a[3:])"
   ]
  },
  {
   "cell_type": "markdown",
   "metadata": {},
   "source": [
    "You can also index relative to the *end* of the array -- just use negative indices."
   ]
  },
  {
   "cell_type": "code",
   "execution_count": null,
   "metadata": {},
   "outputs": [
    {
     "name": "stdout",
     "output_type": "stream",
     "text": [
      "[0. 0. 0. 0. 0. 0. 0. 0. 0. 0.]\n",
      "[6 8]\n"
     ]
    }
   ],
   "source": [
    "# Last column of array\n",
    "a = np.column_stack((np.eye(10), np.zeros(10)))\n",
    "print(a[:, -1])\n",
    "\n",
    "a = np.arange(10)\n",
    "# Every 2nd element from 4th to last index to 10\n",
    "print(a[-4:10:2])"
   ]
  },
  {
   "cell_type": "code",
   "execution_count": null,
   "metadata": {},
   "outputs": [
    {
     "name": "stdout",
     "output_type": "stream",
     "text": [
      "[7 5 3 1]\n"
     ]
    }
   ],
   "source": [
    "# start from 3rd element from the end and count backwards by 2\n",
    "a = np.arange(10)\n",
    "print(a[-3::-2])"
   ]
  },
  {
   "cell_type": "markdown",
   "metadata": {},
   "source": [
    "To index in a matrix across dimensions, use `:` for each axis that you are \"ignoring\":"
   ]
  },
  {
   "cell_type": "code",
   "execution_count": null,
   "metadata": {},
   "outputs": [
    {
     "name": "stdout",
     "output_type": "stream",
     "text": [
      "[[[-0.13217796 -1.4992006 ]\n",
      "  [ 1.51180475 -0.08302459]\n",
      "  [ 1.06665064  1.78287524]]\n",
      "\n",
      " [[ 0.67966369  1.424192  ]\n",
      "  [ 0.73777     1.20346446]\n",
      "  [ 0.68110987  0.35752176]]\n",
      "\n",
      " [[-0.07503073 -0.11775053]\n",
      "  [-0.1204558   0.30488683]\n",
      "  [ 1.57130886  0.17487111]]]\n",
      "[[-1.4992006  -0.08302459  1.78287524]\n",
      " [ 1.424192    1.20346446  0.35752176]\n",
      " [-0.11775053  0.30488683  0.17487111]]\n"
     ]
    }
   ],
   "source": [
    "x = np.random.randn(3,3,2)\n",
    "print(x)\n",
    "\n",
    "# get all elements with index 1 in the third dimension\n",
    "print(x[:, :, 1])\n"
   ]
  },
  {
   "cell_type": "markdown",
   "metadata": {},
   "source": [
    "We can also access specific elements by passing an array of indices to an array. This is called fancy indexing."
   ]
  },
  {
   "cell_type": "code",
   "execution_count": null,
   "metadata": {},
   "outputs": [
    {
     "name": "stdout",
     "output_type": "stream",
     "text": [
      "[[3 2 3]\n",
      " [5 4 5]\n",
      " [8 1 2]]\n",
      "Elements at (0,0) and (2,1):  [3 1]\n"
     ]
    }
   ],
   "source": [
    "data = np.array([[3,2,3],[5,4,5],[8,1,2]])\n",
    "print(data)\n",
    "\n",
    "row = np.array([0,2])\n",
    "col = np.array([0,1])\n",
    "\n",
    "print('Elements at (0,0) and (2,1): ', data[row, col])"
   ]
  },
  {
   "cell_type": "markdown",
   "metadata": {},
   "source": [
    "## Stacking and Concatenation"
   ]
  },
  {
   "cell_type": "markdown",
   "metadata": {},
   "source": [
    "What if you want to join existing arrays together, or join a newly created array to one that already exists?\n",
    "Several functions come in handy: \n",
    "\n",
    "To stack one array on top of another, use `np.vstack`:\n"
   ]
  },
  {
   "cell_type": "code",
   "execution_count": null,
   "metadata": {},
   "outputs": [
    {
     "name": "stdout",
     "output_type": "stream",
     "text": [
      "[[1. 0. 0. 0.]\n",
      " [0. 1. 0. 0.]\n",
      " [0. 0. 1. 0.]\n",
      " [0. 0. 0. 1.]\n",
      " [1. 1. 1. 1.]]\n",
      "[[1. 0. 0. 0.]\n",
      " [0. 1. 0. 0.]\n",
      " [0. 0. 1. 0.]\n",
      " [0. 0. 0. 1.]\n",
      " [1. 1. 1. 1.]]\n"
     ]
    }
   ],
   "source": [
    "a = np.eye(4)\n",
    "b = np.ones((1,4))\n",
    "stacked = np.vstack((a, b))\n",
    "\n",
    "print(stacked)\n",
    "\n",
    "# alternatively, use shorthand\n",
    "print(np.r_[a,b])"
   ]
  },
  {
   "cell_type": "markdown",
   "metadata": {},
   "source": [
    "To stack them horizontally, you can similarly call `np.hstack`:"
   ]
  },
  {
   "cell_type": "code",
   "execution_count": null,
   "metadata": {},
   "outputs": [
    {
     "name": "stdout",
     "output_type": "stream",
     "text": [
      "[[1. 0. 0. 3. 3.]\n",
      " [0. 1. 0. 3. 3.]\n",
      " [0. 0. 1. 3. 3.]]\n",
      "[[1. 0. 0. 3. 3.]\n",
      " [0. 1. 0. 3. 3.]\n",
      " [0. 0. 1. 3. 3.]]\n"
     ]
    }
   ],
   "source": [
    "a = np.eye(3)\n",
    "b = np.full((3,2),3)\n",
    "stacked = np.hstack((a, b))\n",
    "\n",
    "print(stacked)\n",
    "\n",
    "# alternatively, use shorthand\n",
    "print(np.c_[a,b])"
   ]
  },
  {
   "cell_type": "markdown",
   "metadata": {},
   "source": [
    "These can be useful to call if you're incrementally appending to an array over a loop, especially if the number of iterations is not known beforehand."
   ]
  },
  {
   "cell_type": "code",
   "execution_count": null,
   "metadata": {},
   "outputs": [
    {
     "name": "stdout",
     "output_type": "stream",
     "text": [
      "range(0, 5)\n",
      "[[3. 3. 3.]\n",
      " [3. 3. 3.]\n",
      " [3. 3. 3.]\n",
      " [3. 3. 3.]\n",
      " [3. 3. 3.]]\n"
     ]
    }
   ],
   "source": [
    "iter = int(np.round(np.random.uniform(0,1,1) * 10))\n",
    "\n",
    "arr = np.empty((0,3))\n",
    "row = np.full((1,3),3)\n",
    "print(range(iter))\n",
    "for c in list(range(int(iter))):\n",
    "  arr = np.vstack((arr, row))\n",
    "\n",
    "print(arr)"
   ]
  },
  {
   "cell_type": "markdown",
   "metadata": {},
   "source": [
    "One caveat to keep in mind is stacking 1d arrays onto higher dimensional arrays. This is a failure case if np.hstack is applied naively:"
   ]
  },
  {
   "cell_type": "code",
   "execution_count": null,
   "metadata": {},
   "outputs": [
    {
     "ename": "ValueError",
     "evalue": "all the input arrays must have same number of dimensions, but the array at index 0 has 2 dimension(s) and the array at index 1 has 1 dimension(s)",
     "output_type": "error",
     "traceback": [
      "\u001b[1;31m---------------------------------------------------------------------------\u001b[0m",
      "\u001b[1;31mValueError\u001b[0m                                Traceback (most recent call last)",
      "\u001b[1;32m~\\AppData\\Local\\Temp/ipykernel_49856/1003724156.py\u001b[0m in \u001b[0;36m<module>\u001b[1;34m\u001b[0m\n\u001b[0;32m      2\u001b[0m \u001b[0my\u001b[0m \u001b[1;33m=\u001b[0m \u001b[0mnp\u001b[0m\u001b[1;33m.\u001b[0m\u001b[0meye\u001b[0m\u001b[1;33m(\u001b[0m\u001b[1;36m5\u001b[0m\u001b[1;33m)\u001b[0m\u001b[1;33m\u001b[0m\u001b[1;33m\u001b[0m\u001b[0m\n\u001b[0;32m      3\u001b[0m \u001b[1;33m\u001b[0m\u001b[0m\n\u001b[1;32m----> 4\u001b[1;33m \u001b[0mprint\u001b[0m\u001b[1;33m(\u001b[0m\u001b[0mnp\u001b[0m\u001b[1;33m.\u001b[0m\u001b[0mhstack\u001b[0m\u001b[1;33m(\u001b[0m\u001b[1;33m(\u001b[0m\u001b[0my\u001b[0m\u001b[1;33m,\u001b[0m\u001b[0mx\u001b[0m\u001b[1;33m)\u001b[0m\u001b[1;33m)\u001b[0m\u001b[1;33m)\u001b[0m\u001b[1;33m\u001b[0m\u001b[1;33m\u001b[0m\u001b[0m\n\u001b[0m",
      "\u001b[1;32m<__array_function__ internals>\u001b[0m in \u001b[0;36mhstack\u001b[1;34m(*args, **kwargs)\u001b[0m\n",
      "\u001b[1;32m~\\AppData\\Roaming\\Python\\Python39\\site-packages\\numpy\\core\\shape_base.py\u001b[0m in \u001b[0;36mhstack\u001b[1;34m(tup)\u001b[0m\n\u001b[0;32m    344\u001b[0m         \u001b[1;32mreturn\u001b[0m \u001b[0m_nx\u001b[0m\u001b[1;33m.\u001b[0m\u001b[0mconcatenate\u001b[0m\u001b[1;33m(\u001b[0m\u001b[0marrs\u001b[0m\u001b[1;33m,\u001b[0m \u001b[1;36m0\u001b[0m\u001b[1;33m)\u001b[0m\u001b[1;33m\u001b[0m\u001b[1;33m\u001b[0m\u001b[0m\n\u001b[0;32m    345\u001b[0m     \u001b[1;32melse\u001b[0m\u001b[1;33m:\u001b[0m\u001b[1;33m\u001b[0m\u001b[1;33m\u001b[0m\u001b[0m\n\u001b[1;32m--> 346\u001b[1;33m         \u001b[1;32mreturn\u001b[0m \u001b[0m_nx\u001b[0m\u001b[1;33m.\u001b[0m\u001b[0mconcatenate\u001b[0m\u001b[1;33m(\u001b[0m\u001b[0marrs\u001b[0m\u001b[1;33m,\u001b[0m \u001b[1;36m1\u001b[0m\u001b[1;33m)\u001b[0m\u001b[1;33m\u001b[0m\u001b[1;33m\u001b[0m\u001b[0m\n\u001b[0m\u001b[0;32m    347\u001b[0m \u001b[1;33m\u001b[0m\u001b[0m\n\u001b[0;32m    348\u001b[0m \u001b[1;33m\u001b[0m\u001b[0m\n",
      "\u001b[1;32m<__array_function__ internals>\u001b[0m in \u001b[0;36mconcatenate\u001b[1;34m(*args, **kwargs)\u001b[0m\n",
      "\u001b[1;31mValueError\u001b[0m: all the input arrays must have same number of dimensions, but the array at index 0 has 2 dimension(s) and the array at index 1 has 1 dimension(s)"
     ]
    }
   ],
   "source": [
    "x = np.array([1,2,3,4,5])\n",
    "y = np.eye(5)\n",
    "\n",
    "print(np.hstack((y,x)))"
   ]
  },
  {
   "cell_type": "markdown",
   "metadata": {},
   "source": [
    "You have to take care to either explicitly keep the number of dimensions consistent if sticking with `np.hstack`, or use the convenience function `np.column_stack` instead."
   ]
  },
  {
   "cell_type": "code",
   "execution_count": null,
   "metadata": {},
   "outputs": [
    {
     "name": "stdout",
     "output_type": "stream",
     "text": [
      "Reshaping and using np.stack:\n",
      "  [[1. 0. 0. 0. 3.]\n",
      " [0. 1. 0. 0. 2.]\n",
      " [0. 0. 1. 0. 1.]\n",
      " [0. 0. 0. 1. 5.]]\n",
      "Using convenience function np.column_stack:\n",
      "  [[1. 0. 0. 0. 3.]\n",
      " [0. 1. 0. 0. 2.]\n",
      " [0. 0. 1. 0. 1.]\n",
      " [0. 0. 0. 1. 5.]]\n"
     ]
    }
   ],
   "source": [
    "x = np.array([3,2,1,5])\n",
    "y = np.eye(4)\n",
    "\n",
    "# Keeping number of dimensions consistent\n",
    "print('Reshaping and using np.stack:\\n ', np.hstack((y, x[:, None])))\n",
    "\n",
    "# using convenience functions\n",
    "print('Using convenience function np.column_stack:\\n ', np.column_stack((y,x)))"
   ]
  },
  {
   "cell_type": "markdown",
   "metadata": {},
   "source": [
    "## Logic operations"
   ]
  },
  {
   "cell_type": "code",
   "execution_count": null,
   "metadata": {},
   "outputs": [
    {
     "name": "stdout",
     "output_type": "stream",
     "text": [
      "Result of [100 OR 10, 010 OR 001]:  [6 3]\n",
      "Result of [100 OR 10, 010 OR 001]:  [6 3]\n"
     ]
    },
    {
     "data": {
      "text/plain": [
       "array([ True,  True])"
      ]
     },
     "execution_count": 169,
     "metadata": {},
     "output_type": "execute_result"
    }
   ],
   "source": [
    "# BITWISE\n",
    "x = np.array([4,2])\n",
    "y = np.array([2,1])\n",
    "\n",
    "# result is 110 in binary (6)\n",
    "print('Result of [100 OR 10, 010 OR 001]: ', x | y)\n",
    "print('Result of [100 OR 10, 010 OR 001]: ', x | y)\n",
    "\n",
    "# LOGICAL\n",
    "# # elementwise boolean comparisons\n",
    "\n",
    "np.logical_and(x, y)\n",
    "np.logical_not(x, y)\n",
    "np.logical_xor(x, y)\n",
    "np.logical_or(x, y)"
   ]
  },
  {
   "cell_type": "markdown",
   "metadata": {},
   "source": [
    "Exercise caution when performing boolean operations using infix operators on numeric numpy arrays:"
   ]
  },
  {
   "cell_type": "code",
   "execution_count": null,
   "metadata": {},
   "outputs": [
    {
     "ename": "ValueError",
     "evalue": "The truth value of an array with more than one element is ambiguous. Use a.any() or a.all()",
     "output_type": "error",
     "traceback": [
      "\u001b[1;31m---------------------------------------------------------------------------\u001b[0m",
      "\u001b[1;31mValueError\u001b[0m                                Traceback (most recent call last)",
      "\u001b[1;32m~\\AppData\\Local\\Temp/ipykernel_49856/1889443628.py\u001b[0m in \u001b[0;36m<module>\u001b[1;34m\u001b[0m\n\u001b[0;32m      1\u001b[0m \u001b[0mx\u001b[0m \u001b[1;33m=\u001b[0m \u001b[0mnp\u001b[0m\u001b[1;33m.\u001b[0m\u001b[0mzeros\u001b[0m\u001b[1;33m(\u001b[0m\u001b[1;33m(\u001b[0m\u001b[1;36m4\u001b[0m\u001b[1;33m,\u001b[0m\u001b[1;36m2\u001b[0m\u001b[1;33m)\u001b[0m\u001b[1;33m)\u001b[0m\u001b[1;33m\u001b[0m\u001b[1;33m\u001b[0m\u001b[0m\n\u001b[0;32m      2\u001b[0m \u001b[0my\u001b[0m \u001b[1;33m=\u001b[0m \u001b[0mnp\u001b[0m\u001b[1;33m.\u001b[0m\u001b[0marray\u001b[0m\u001b[1;33m(\u001b[0m\u001b[1;33m[\u001b[0m\u001b[1;33m[\u001b[0m\u001b[1;36m1\u001b[0m\u001b[1;33m,\u001b[0m\u001b[1;36m1\u001b[0m\u001b[1;33m]\u001b[0m\u001b[1;33m,\u001b[0m\u001b[1;33m[\u001b[0m\u001b[1;36m1\u001b[0m\u001b[1;33m,\u001b[0m\u001b[1;36m0\u001b[0m\u001b[1;33m]\u001b[0m\u001b[1;33m,\u001b[0m\u001b[1;33m[\u001b[0m\u001b[1;36m0\u001b[0m\u001b[1;33m,\u001b[0m\u001b[1;36m0\u001b[0m\u001b[1;33m]\u001b[0m\u001b[1;33m,\u001b[0m\u001b[1;33m[\u001b[0m\u001b[1;36m0\u001b[0m\u001b[1;33m,\u001b[0m\u001b[1;36m1\u001b[0m\u001b[1;33m]\u001b[0m\u001b[1;33m]\u001b[0m\u001b[1;33m)\u001b[0m\u001b[1;33m\u001b[0m\u001b[1;33m\u001b[0m\u001b[0m\n\u001b[1;32m----> 3\u001b[1;33m \u001b[0mprint\u001b[0m\u001b[1;33m(\u001b[0m\u001b[0mx\u001b[0m \u001b[1;32mor\u001b[0m \u001b[0my\u001b[0m\u001b[1;33m)\u001b[0m\u001b[1;33m\u001b[0m\u001b[1;33m\u001b[0m\u001b[0m\n\u001b[0m",
      "\u001b[1;31mValueError\u001b[0m: The truth value of an array with more than one element is ambiguous. Use a.any() or a.all()"
     ]
    }
   ],
   "source": [
    "x = np.zeros((4,2))\n",
    "y = np.array([[1,1],[1,0],[0,0],[0,1]])\n",
    "print(x or y)"
   ]
  },
  {
   "cell_type": "markdown",
   "metadata": {},
   "source": [
    "Notice that the same type of call is, however, fine for a boolean array:"
   ]
  },
  {
   "cell_type": "code",
   "execution_count": null,
   "metadata": {},
   "outputs": [
    {
     "name": "stdout",
     "output_type": "stream",
     "text": [
      "[ True False  True  True  True]\n"
     ]
    }
   ],
   "source": [
    "x = np.array([True, False, False, True, True])\n",
    "y = np.array([False, False, True, True, True])\n",
    "print(x | y)"
   ]
  },
  {
   "cell_type": "markdown",
   "metadata": {},
   "source": [
    "## np.array vs. np.matrix - whats the difference?"
   ]
  },
  {
   "cell_type": "markdown",
   "metadata": {},
   "source": [
    "You might encounter code that uses `np.matrix` instead of `np.array`, often in older codebases. Though you can perform a lot of the same manipulations on either, these are not equivalent. \n",
    "\n",
    "`np.matrix` provides some convenience methods for linear algebraic operations that have succint syntax."
   ]
  },
  {
   "cell_type": "code",
   "execution_count": null,
   "metadata": {},
   "outputs": [
    {
     "name": "stdout",
     "output_type": "stream",
     "text": [
      "Converting matrix to ndarray:\n",
      " [[3 2 1]\n",
      " [8 2 4]\n",
      " [2 1 2]]\n",
      "Taking the inverse of a matrix:\n",
      " [[ 2.77555756e-17  2.50000000e-01 -5.00000000e-01]\n",
      " [ 6.66666667e-01 -3.33333333e-01  3.33333333e-01]\n",
      " [-3.33333333e-01 -8.33333333e-02  8.33333333e-01]]\n",
      "Taking the conjugate transpose of a matrix:\n",
      " [[3 8 2]\n",
      " [2 2 1]\n",
      " [1 4 2]]\n"
     ]
    }
   ],
   "source": [
    "# convert ndarray to matrix\n",
    "x = np.array([[3,2,1],[8,2,4],[2,1,2]])\n",
    "x_mat = np.asmatrix(x)\n",
    "\n",
    "# convert matrix to ndarray\n",
    "print('Converting matrix to ndarray:\\n', x_mat.A)\n",
    "\n",
    "#inverse\n",
    "print('Taking the inverse of a matrix:\\n', x_mat.I)\n",
    "\n",
    "#conjugate\n",
    "print('Taking the conjugate transpose of a matrix:\\n', x_mat.H)\n"
   ]
  },
  {
   "cell_type": "markdown",
   "metadata": {},
   "source": [
    "Keep in mind that while convenient, this functionality is soon to be deprecated and is not recommended by the developers."
   ]
  },
  {
   "cell_type": "markdown",
   "metadata": {},
   "source": [
    "## Views"
   ]
  },
  {
   "cell_type": "markdown",
   "metadata": {},
   "source": [
    "There are many convenience functions and methods in NumPy for accessing different views of the same data, aside from using slicing."
   ]
  },
  {
   "cell_type": "markdown",
   "metadata": {},
   "source": [
    "`atleast_1d`, `atleast_2d` and `atleast_3d` are useful for taking a higher dimensional view of data."
   ]
  },
  {
   "cell_type": "code",
   "execution_count": null,
   "metadata": {},
   "outputs": [
    {
     "name": "stdout",
     "output_type": "stream",
     "text": [
      "1D view of scalar:  [3]\n",
      "2D view of 1D array:\n",
      " [2 3]\n",
      "3D view of 2D array:\n",
      " [[[2]\n",
      "  [3]\n",
      "  [6]]\n",
      "\n",
      " [[5]\n",
      "  [2]\n",
      "  [1]]]\n"
     ]
    }
   ],
   "source": [
    "scalar_to_1d = np.atleast_1d(3)\n",
    "print('1D view of scalar: ', scalar_to_1d)\n",
    "\n",
    "to_2d = np.atleast_1d([2,3])\n",
    "print('2D view of 1D array:\\n', to_2d)\n",
    "\n",
    "to_3d = np.atleast_3d([[2,3,6],[5,2,1]])\n",
    "print('3D view of 2D array:\\n', to_3d)"
   ]
  },
  {
   "cell_type": "markdown",
   "metadata": {},
   "source": [
    "For more control over the desired shape of your output, you can also reshape it explicitly to a compatible shape (i.e., same number of elements)"
   ]
  },
  {
   "cell_type": "code",
   "execution_count": null,
   "metadata": {},
   "outputs": [
    {
     "name": "stdout",
     "output_type": "stream",
     "text": [
      "[[-1.51554864  0.97920968  1.13369491 -1.20841794]\n",
      " [ 0.05588986 -0.85682848  0.05641216  1.02201355]\n",
      " [ 2.0585612  -0.06168255 -1.63309948  1.29429777]\n",
      " [-0.58304522 -0.52133003 -0.18223653 -0.30994011]] \n",
      "\n",
      "[[-1.51554864  0.97920968]\n",
      " [ 1.13369491 -1.20841794]\n",
      " [ 0.05588986 -0.85682848]\n",
      " [ 0.05641216  1.02201355]\n",
      " [ 2.0585612  -0.06168255]\n",
      " [-1.63309948  1.29429777]\n",
      " [-0.58304522 -0.52133003]\n",
      " [-0.18223653 -0.30994011]] \n",
      "\n",
      "[[-0.35600938 -0.59387011]\n",
      " [ 0.86311487  0.94756519]] \n",
      "\n",
      "[[[[[[-0.35600938]]]]]\n",
      "\n",
      "\n",
      "\n",
      "\n",
      " [[[[[-0.59387011]]]]]\n",
      "\n",
      "\n",
      "\n",
      "\n",
      " [[[[[ 0.86311487]]]]]\n",
      "\n",
      "\n",
      "\n",
      "\n",
      " [[[[[ 0.94756519]]]]]]\n"
     ]
    }
   ],
   "source": [
    "a = np.random.randn(4,4)\n",
    "print(a, '\\n')\n",
    "\n",
    "# same number of elements\n",
    "print(np.reshape(a, (8,2)), '\\n')\n",
    "\n",
    "# 2D to 4D\n",
    "a = np.random.randn(2,2)\n",
    "print(a, '\\n')\n",
    "print(a.reshape(4,1,1,1,1,1))"
   ]
  },
  {
   "cell_type": "markdown",
   "metadata": {},
   "source": [
    "## Other manipulations"
   ]
  },
  {
   "cell_type": "markdown",
   "metadata": {},
   "source": [
    "Sometimes you may want to represent all the elements of an array as a 1d list. We can do this in two ways -- `ravel` or `flatten`.\n",
    "While they both have the same functionality, their behavior is different. Furthermore, `ravel` is a library level function and can take 'array-like' structures as input, while `flatten` is a method that can *only be used on ndarrays*."
   ]
  },
  {
   "cell_type": "markdown",
   "metadata": {},
   "source": [
    "`np.ravel` returns a flattened *view* of the input array whenever possible. That means if you decide to modify its output in-place later down the line, you may inadvertantly mutate your original input."
   ]
  },
  {
   "cell_type": "code",
   "execution_count": null,
   "metadata": {},
   "outputs": [
    {
     "name": "stdout",
     "output_type": "stream",
     "text": [
      "Transformed output using input  [3 1 2 3 5 7 2 5 1]\n",
      " Representation in memory: \n",
      " [[[3 1 2]\n",
      "  [3 5 7]\n",
      "  [2 5 1]]]\n",
      "Transformed output using input list of lists:  \n",
      "[3 1 2 3 5 7 2 5 1]\n"
     ]
    }
   ],
   "source": [
    "# ravel numpy array\n",
    "x = np.array([[[3,1,2],[3,5,7],[2,5,1]]])\n",
    "y = np.ravel(x)\n",
    "print('Transformed output using input  {}\\n Representation in memory: \\n {}'.format(y, y.base))\n",
    "\n",
    "# ravel list of lists\n",
    "x = [[[3,1,2],[3,5,7],[2,5,1]]]\n",
    "y = np.ravel(x)\n",
    "print('Transformed output using input list of lists:  \\n{}'.format(y, y.base))\n"
   ]
  },
  {
   "cell_type": "markdown",
   "metadata": {},
   "source": [
    "`np.flatten` *always* returns a flattened copy of the original input."
   ]
  },
  {
   "cell_type": "code",
   "execution_count": null,
   "metadata": {},
   "outputs": [
    {
     "name": "stdout",
     "output_type": "stream",
     "text": [
      "Transformed output using input: [3 1 2 3 5 7 2 5 1]\n",
      "Representation in memory: None\n"
     ]
    }
   ],
   "source": [
    "# ravel numpy array\n",
    "x = np.array([[[3,1,2],[3,5,7],[2,5,1]]])\n",
    "y = x.flatten()\n",
    "print('Transformed output using input: {}\\nRepresentation in memory: {}'.format(y, y.base))"
   ]
  },
  {
   "cell_type": "markdown",
   "metadata": {},
   "source": [
    "`np.insert` and `np.delete` can be used to add or remove rows/columns in an array:"
   ]
  },
  {
   "cell_type": "code",
   "execution_count": null,
   "metadata": {},
   "outputs": [
    {
     "name": "stdout",
     "output_type": "stream",
     "text": [
      "Original array:\n",
      " [[1 1 1]\n",
      " [1 1 1]]\n",
      "Insert column of 2s at index 1:\n",
      "  [[1 2 1 1]\n",
      " [1 2 1 1]]\n",
      "Original array:\n",
      " [[1 1 1 1]\n",
      " [1 1 1 1]\n",
      " [1 1 1 1]\n",
      " [1 1 1 1]]\n",
      "Delete a column:\n",
      "  [[1 1 1]\n",
      " [1 1 1]\n",
      " [1 1 1]\n",
      " [1 1 1]]\n"
     ]
    }
   ],
   "source": [
    "a = np.full((2,3), 1)\n",
    "print('Original array:\\n', a)\n",
    "print('Insert column of 2s at index 1:\\n ', np.insert(a, 1, 2, axis=1))\n",
    "\n",
    "a = np.full((4,4), 1)\n",
    "print('Original array:\\n', a)\n",
    "print('Delete a column:\\n ', np.delete(a, 1, axis=1))\n"
   ]
  },
  {
   "cell_type": "markdown",
   "metadata": {},
   "source": [
    "If you have redundant dimensions of size 1, you can use `np.squeeze` to get rid of them:"
   ]
  },
  {
   "cell_type": "code",
   "execution_count": null,
   "metadata": {},
   "outputs": [
    {
     "name": "stdout",
     "output_type": "stream",
     "text": [
      "x has shape (1, 1, 7) and is [[[3 1 2 3 4 5 6]]]\n",
      "x has shape (7,) and is [3 1 2 3 4 5 6]\n"
     ]
    }
   ],
   "source": [
    "x = np.array([[[3,1,2,3,4,5,6]]])\n",
    "print('x has shape {} and is {}'.format(x.shape, x))\n",
    "\n",
    "x_squoze = np.squeeze(x)\n",
    "print('x has shape {} and is {}'.format(x_squoze.shape, x_squoze))"
   ]
  },
  {
   "cell_type": "markdown",
   "metadata": {},
   "source": [
    "`np.unique` can be used to return a sorted *list* of the unique elements of an array, the *indices* of unique elements in an array, or the *count of each* unique element."
   ]
  },
  {
   "cell_type": "code",
   "execution_count": null,
   "metadata": {},
   "outputs": [
    {
     "name": "stdout",
     "output_type": "stream",
     "text": [
      "Unique elements:  [1 2 3]\n",
      "Tuple of unique elements and indices:  (array([1, 2, 3]), array([0, 1, 2], dtype=int64))\n",
      "Tuple of unique elements and counts:  (array([1, 2, 3]), array([1, 3, 5], dtype=int64))\n"
     ]
    }
   ],
   "source": [
    "x = np.array([[1,2,3],[3,3,2],[3,2,3]])\n",
    "\n",
    "# return unique elements\n",
    "print('Unique elements: ', np.unique(x))\n",
    "\n",
    "# additionally return indices of first occurences of unique elements\n",
    "print('Tuple of unique elements and indices: ', np.unique(x, return_index=True))\n",
    "\n",
    "# additionally return count of unique elements\n",
    "print('Tuple of unique elements and counts: ', np.unique(x, return_counts=True))"
   ]
  },
  {
   "cell_type": "markdown",
   "metadata": {},
   "source": [
    "## Aggregations"
   ]
  },
  {
   "cell_type": "code",
   "execution_count": null,
   "metadata": {},
   "outputs": [
    {
     "name": "stdout",
     "output_type": "stream",
     "text": [
      "Original array:\n",
      "  [[[3. 2. 5.]\n",
      "  [5. 4. 2.]\n",
      "  [5. 5. 5.]]\n",
      "\n",
      " [[3. 2. 5.]\n",
      "  [5. 4. 2.]\n",
      "  [5. 5. 5.]]]\n",
      "Total sum:  72.0\n",
      "Sum along axis 2:\n",
      "  [[10. 11. 15.]\n",
      " [10. 11. 15.]]\n",
      "Sum along axis 0:\n",
      "  [[ 6.  4. 10.]\n",
      " [10.  8.  4.]\n",
      " [10. 10. 10.]]\n",
      "Sum along axes 0 and 1:\n",
      "  [26. 22. 24.]\n"
     ]
    }
   ],
   "source": [
    "x = np.zeros((2,3,3)) + np.array([[[3,2,5],[5,4,2],[5,5,5]]])\n",
    "print('Original array:\\n ', x)\n",
    "\n",
    "# sum over all elements\n",
    "print('Total sum: ', np.sum(x))\n",
    "# sum along axis\n",
    "print('Sum along axis 2:\\n ', np.sum(x, axis=2))\n",
    "print('Sum along axis 0:\\n ', np.sum(x, axis=0))\n",
    "print('Sum along axes 0 and 1:\\n ', np.sum(x, axis=(0,1)))"
   ]
  },
  {
   "cell_type": "markdown",
   "metadata": {},
   "source": [
    "One of the most common causes of confusion is the direction the operation is taken on when setting the axis argument. Operations are executed in the direction that the axis *increments*, not in the direction the axis spans. For example, the 0th axis increments by row, so adding along the 0th axis would add down a column, NOT across a row."
   ]
  },
  {
   "cell_type": "code",
   "execution_count": null,
   "metadata": {},
   "outputs": [
    {
     "name": "stdout",
     "output_type": "stream",
     "text": [
      "[[1. 1. 1. 1. 1. 1. 1. 1. 1. 1.]\n",
      " [1. 1. 1. 1. 1. 1. 1. 1. 1. 1.]\n",
      " [1. 1. 1. 1. 1. 1. 1. 1. 1. 1.]]\n",
      "Sum along the 0th axis: \n",
      " [3. 3. 3. 3. 3. 3. 3. 3. 3. 3.]\n"
     ]
    }
   ],
   "source": [
    "x = np.ones((3,10))\n",
    "print(x)\n",
    "\n",
    "print('Sum along the 0th axis: \\n', np.sum(x, axis=0))"
   ]
  },
  {
   "cell_type": "markdown",
   "metadata": {},
   "source": [
    "Many other aggegation operations are supported."
   ]
  },
  {
   "cell_type": "code",
   "execution_count": null,
   "metadata": {},
   "outputs": [
    {
     "name": "stdout",
     "output_type": "stream",
     "text": [
      "Mean:  3.111111111111111\n",
      "Standard Deviation  1.594744454934147\n",
      "Variance 2.5432098765432096\n",
      "Product 36000000.0\n",
      "Argmin/Argmax: 3, 2\n",
      "Min/Max: 1.0, 5.0\n"
     ]
    }
   ],
   "source": [
    "x = np.zeros((2,3,3)) + np.array([[[3,2,5],[1,4,2],[1,5,5]]])\n",
    "\n",
    "# sum over all elements\n",
    "print('Mean: ', np.mean(x))\n",
    "print('Standard Deviation ', np.std(x))\n",
    "print('Variance', np.var(x))\n",
    "print('Product', np.prod(x))\n",
    "print('Argmin/Argmax: {}, {}'.format(np.argmin(x), np.argmax(x)))\n",
    "print('Min/Max: {}, {}'.format(np.min(x), np.max(x)))"
   ]
  },
  {
   "cell_type": "markdown",
   "metadata": {},
   "source": [
    "## Basic Mathematical Operations"
   ]
  },
  {
   "cell_type": "markdown",
   "metadata": {},
   "source": [
    "The standard pythonic infix operators work between two NumPy arrays as you would expect."
   ]
  },
  {
   "cell_type": "code",
   "execution_count": null,
   "metadata": {},
   "outputs": [
    {
     "name": "stdout",
     "output_type": "stream",
     "text": [
      "[[3. 2. 2.]\n",
      " [2. 3. 2.]\n",
      " [2. 2. 3.]]\n",
      "[[2. 0. 0.]\n",
      " [0. 2. 0.]\n",
      " [0. 0. 2.]]\n",
      "[[0.5 0.  0. ]\n",
      " [0.  0.5 0. ]\n",
      " [0.  0.  0.5]]\n",
      "[[-1. -2. -2.]\n",
      " [-2. -1. -2.]\n",
      " [-2. -2. -1.]]\n"
     ]
    }
   ],
   "source": [
    "a = np.eye(3, 3)\n",
    "b = np.full((3,3), 2)\n",
    "\n",
    "print(a + b)\n",
    "print(a * b)\n",
    "print(a / b)\n",
    "print(a - b)"
   ]
  },
  {
   "cell_type": "markdown",
   "metadata": {},
   "source": [
    "### np.dot, np.multiply, np.matmul"
   ]
  },
  {
   "cell_type": "markdown",
   "metadata": {},
   "source": [
    "A common source of confusion is the difference among each of these functions. In some situations they compute exactly the same thing, while in others they give completely different results.\n",
    "\n",
    "\n",
    "- `np.multiply` is for *elementwise* multiplication between two arrays. \n",
    "- `np.dot` computes the standard dot product between two N-dimensional vectors.\n",
    "- `np.matmul` computes standard matrix multiplication. Remember to use the infix operator '@' for readability.\n",
    "\n",
    "\n",
    "`np.multiply` and `np.dot` yield the same result when the arguments are two 2D arrays. For ***all other combinations*** of arguments, where one input is N-dimensional (with N>2), the calculations are as defined above.\n",
    "\n",
    "Furthermore, broadcasting works slightly diffrent between the two, and you cannot use a scalar argument with `np.multiply`, whereas scalars are accepted for `np.dot`. "
   ]
  },
  {
   "cell_type": "code",
   "execution_count": null,
   "metadata": {},
   "outputs": [
    {
     "name": "stdout",
     "output_type": "stream",
     "text": [
      "[[[ 6  6  6]\n",
      "  [ 8  8 12]\n",
      "  [ 2  2  2]]\n",
      "\n",
      " [[ 6  4  6]\n",
      "  [ 8 10 12]\n",
      "  [ 2  2  2]]\n",
      "\n",
      " [[ 2  8 14]\n",
      "  [ 8  4 12]\n",
      "  [ 2  2  2]]]\n",
      "Dot product:  [[[[18 18 18]\n",
      "   [18 18 18]\n",
      "   [18 18 18]]\n",
      "\n",
      "  [[28 28 28]\n",
      "   [28 28 28]\n",
      "   [28 28 28]]\n",
      "\n",
      "  [[ 6  6  6]\n",
      "   [ 6  6  6]\n",
      "   [ 6  6  6]]]\n",
      "\n",
      "\n",
      " [[[16 16 16]\n",
      "   [16 16 16]\n",
      "   [16 16 16]]\n",
      "\n",
      "  [[30 30 30]\n",
      "   [30 30 30]\n",
      "   [30 30 30]]\n",
      "\n",
      "  [[ 6  6  6]\n",
      "   [ 6  6  6]\n",
      "   [ 6  6  6]]]\n",
      "\n",
      "\n",
      " [[[24 24 24]\n",
      "   [24 24 24]\n",
      "   [24 24 24]]\n",
      "\n",
      "  [[24 24 24]\n",
      "   [24 24 24]\n",
      "   [24 24 24]]\n",
      "\n",
      "  [[ 6  6  6]\n",
      "   [ 6  6  6]\n",
      "   [ 6  6  6]]]]\n",
      "Matrix multiply:  [[[18 18 18]\n",
      "  [28 28 28]\n",
      "  [ 6  6  6]]\n",
      "\n",
      " [[16 16 16]\n",
      "  [30 30 30]\n",
      "  [ 6  6  6]]\n",
      "\n",
      " [[24 24 24]\n",
      "  [24 24 24]\n",
      "  [ 6  6  6]]]\n"
     ]
    }
   ],
   "source": [
    "a = np.array([[[3,3,3],\n",
    "            [4,4,6],\n",
    "            [1,1,1]],\n",
    "            [[3,2,3],\n",
    "            [4,5,6],\n",
    "            [1,1,1]],\n",
    "            [[1,4,7],\n",
    "            [4,2,6],\n",
    "            [1,1,1]]])\n",
    "b = np.full((3,3,3), 2)\n",
    "\n",
    "# elementwise multiply\n",
    "print(a * b)\n",
    "\n",
    "# dot product\n",
    "print('Dot product: ', np.dot(a, b))\n",
    "\n",
    "# matrix multiply\n",
    "print('Matrix multiply: ', a @ b)"
   ]
  },
  {
   "cell_type": "markdown",
   "metadata": {},
   "source": [
    "### Linear algebra"
   ]
  },
  {
   "cell_type": "markdown",
   "metadata": {},
   "source": [
    "Many standard unary operations on matrices are all supported.\n"
   ]
  },
  {
   "cell_type": "code",
   "execution_count": null,
   "metadata": {},
   "outputs": [
    {
     "name": "stdout",
     "output_type": "stream",
     "text": [
      "Transpose: \n",
      " [[1 3]\n",
      " [2 4]]\n",
      "Inverse: \n",
      " [[-2.   1. ]\n",
      " [ 1.5 -0.5]]\n",
      "Determinant:  -2.0000000000000004\n",
      "Dot product:  60\n",
      "Dot product:  60\n"
     ]
    }
   ],
   "source": [
    "x = np.array([[1,2],[3,4]])\n",
    "\n",
    "\n",
    "\n",
    "# transpose\n",
    "print('Transpose: \\n', x.T)\n",
    "\n",
    "# inverse\n",
    "print('Inverse: \\n', np.linalg.inv(x))\n",
    "\n",
    "# determinant\n",
    "print('Determinant: ', np.linalg.det(x))\n",
    "\n",
    "# dot product\n",
    "x = np.array([3,5])\n",
    "y = np.array([5,9])\n",
    "\n",
    "print('Dot product: ', np.dot(x, y))\n",
    "print('Dot product: ', x.dot(y))\n"
   ]
  },
  {
   "cell_type": "markdown",
   "metadata": {},
   "source": [
    "To get the eigenvectors and/or eigenvalues of a matrix, use the function `np.linalg.eig`. This will return a tuple of the form `(eigenvalues, eigenvectors)`."
   ]
  },
  {
   "cell_type": "code",
   "execution_count": null,
   "metadata": {},
   "outputs": [
    {
     "name": "stdout",
     "output_type": "stream",
     "text": [
      "Get eigenvectors of a matrix: \n",
      " [[-0.82456484 -0.41597356]\n",
      " [ 0.56576746 -0.90937671]]\n",
      "Get eigenvalues of a matrix: \n",
      " [-0.37228132  5.37228132]\n"
     ]
    }
   ],
   "source": [
    "x = np.array([[1,2],[3,4]])\n",
    "\n",
    "val, vec = np.linalg.eig(x)\n",
    "# eigenvectors\n",
    "print('Get eigenvectors of a matrix: \\n', vec)\n",
    "\n",
    "# eigenvalues\n",
    "print('Get eigenvalues of a matrix: \\n', val)"
   ]
  },
  {
   "cell_type": "markdown",
   "metadata": {},
   "source": [
    "To take an Lp norm, use `np.linalg.norm`. If p is not specified, the default is 2 if you are taking the norm of a vector (Euclidean distance). Norms on matrices are not defined the same way as for vectors! Refer to the documentation for specifics."
   ]
  },
  {
   "cell_type": "code",
   "execution_count": null,
   "metadata": {},
   "outputs": [
    {
     "name": "stdout",
     "output_type": "stream",
     "text": [
      "L1 norm:  11.0\n",
      "L1 norm:  6.244997998398398\n",
      "L3 norm:  5.4401218254147965\n",
      "L4 norm:  5.185427592735\n",
      "\n",
      "\n",
      "2-norm 6.723711277716526\n",
      "Frobenius norm:  6.855654600401044\n"
     ]
    }
   ],
   "source": [
    "# Vector norms\n",
    "x = np.array([3,5,1,2])\n",
    "print('L1 norm: ', np.linalg.norm(x, ord=1))\n",
    "print('L1 norm: ', np.linalg.norm(x))\n",
    "print('L3 norm: ', np.linalg.norm(x, ord=3))\n",
    "print('L4 norm: ', np.linalg.norm(x, ord=4))\n",
    "\n",
    "print('\\n')\n",
    "  \n",
    "# Matrix norms\n",
    "x = np.array([[3,5],[3,2]])\n",
    "print('2-norm', np.linalg.norm(x, ord=2))\n",
    "print('Frobenius norm: ', np.linalg.norm(x))"
   ]
  },
  {
   "cell_type": "markdown",
   "metadata": {},
   "source": [
    "LU, Cholesky, and QR decompositions are all supported:"
   ]
  },
  {
   "cell_type": "code",
   "execution_count": null,
   "metadata": {},
   "outputs": [
    {
     "name": "stdout",
     "output_type": "stream",
     "text": [
      "LU Decomposition: \n",
      "\n",
      "(array([[-2.79182316e-01,  8.08895055e-01,  9.69348229e-02,\n",
      "         5.08281088e-01],\n",
      "       [-8.10078065e-01,  8.50435017e-02, -8.89473370e-04,\n",
      "        -5.80120970e-01],\n",
      "       [-1.34332727e-01, -2.53385991e-01,  9.46336978e-01,\n",
      "         1.48985172e-01],\n",
      "       [ 4.97780554e-01,  5.23690684e-01,  3.08300458e-01,\n",
      "        -6.18799979e-01]]),\n",
      " array([11.65767451,  8.92348545,  3.57084552,  0.84799452]),\n",
      " array([[-2.79182316e-01, -8.10078065e-01, -1.34332727e-01,\n",
      "         4.97780554e-01],\n",
      "       [ 8.08895055e-01,  8.50435017e-02, -2.53385991e-01,\n",
      "         5.23690684e-01],\n",
      "       [ 9.69348229e-02, -8.89473370e-04,  9.46336978e-01,\n",
      "         3.08300458e-01],\n",
      "       [ 5.08281088e-01, -5.80120970e-01,  1.48985172e-01,\n",
      "        -6.18799979e-01]]))\n"
     ]
    }
   ],
   "source": [
    "import pprint\n",
    "x = np.array([[7, 3, -1, 2],\n",
    "           [3, 8, 1, -4],\n",
    "            [-1, 1, 4, -1],\n",
    "             [2, -4, -1, 6]])\n",
    "print('LU Decomposition: \\n')\n",
    "pprint.pprint(np.linalg.lu(x))\n",
    "\n",
    "# print('Cholesky Decomposition: \\n')\n",
    "# pprint.pprint(np.linalg.cholesky(x))\n",
    "\n",
    "# print('SVD: \\n')\n",
    "# pprint.pprint(np.linalg.svd(x))"
   ]
  },
  {
   "cell_type": "markdown",
   "metadata": {},
   "source": [
    "## Filtering"
   ]
  },
  {
   "cell_type": "markdown",
   "metadata": {},
   "source": [
    "There are many ways you can filter values out or from existing arrays, based on conditions that do not relate to ranges over indices.\n",
    "\n",
    "One is a *boolean mask*:"
   ]
  },
  {
   "cell_type": "code",
   "execution_count": null,
   "metadata": {},
   "outputs": [
    {
     "name": "stdout",
     "output_type": "stream",
     "text": [
      "Mask out all values less than or equal to 9: \n",
      " [[False False False]\n",
      " [False False False]\n",
      " [ True  True False]]\n",
      "Filtered values: \n",
      " [ 10 100] \n",
      "\n",
      "Mask out all elements x that are not equal to x - 1 * 2: \n",
      " [[ True  True False]\n",
      " [False  True False]\n",
      " [False False  True]]\n",
      "Filtered values: \n",
      " [2 2 2 2] \n",
      "\n"
     ]
    }
   ],
   "source": [
    "x = np.array([[2,2,8],[9,2,1],[10,100,2]])\n",
    "mask = x > 9\n",
    "print('Mask out all values less than or equal to 9: \\n', mask)\n",
    "print('Filtered values: \\n' , x[mask], '\\n')\n",
    "\n",
    "mask = (x - 1) * 2 == x\n",
    "print('Mask out all elements x that are not equal to x - 1 * 2: \\n', mask)\n",
    "print('Filtered values: \\n' , x[mask], '\\n')"
   ]
  },
  {
   "cell_type": "markdown",
   "metadata": {},
   "source": [
    "You can also use `np.where` to get either the indices of an array that satisfy a condition, or a modified version of the array that extracts elements from two different arrays based on a condition."
   ]
  },
  {
   "cell_type": "code",
   "execution_count": null,
   "metadata": {},
   "outputs": [
    {
     "name": "stdout",
     "output_type": "stream",
     "text": [
      "[[3 3 3]\n",
      " [2 3 1]\n",
      " [3 9 2]]\n",
      "Indices that satisfy a condition:\n",
      "  (array([1, 1, 2, 2], dtype=int64), array([0, 2, 1, 2], dtype=int64))\n",
      "Element values that satisfy a condition:\n",
      "  [2 1 9 2]\n",
      "Array modified based on condition:\n",
      "  [[0. 0. 0.]\n",
      " [1. 0. 1.]\n",
      " [0. 1. 1.]]\n"
     ]
    }
   ],
   "source": [
    "# get indices of elements that satisfy condition, and slice using those indices\n",
    "x = np.array([[3,3,3],[2,3,1],[3,9,2]])\n",
    "print(x)\n",
    "print('Indices that satisfy a condition:\\n ', np.where(x != 3))\n",
    "print('Element values that satisfy a condition:\\n ', x[np.where(x != 3)])\n",
    "\n",
    "# returned copy of array, modified based on condition\n",
    "pos = np.ones((3,3))\n",
    "neg = np.zeros((3,3))\n",
    "\n",
    "print('Array modified based on condition:\\n ', np.where(x != 3,pos,neg))"
   ]
  },
  {
   "cell_type": "markdown",
   "metadata": {},
   "source": [
    "Notice that the indices returned by `np.where` are formatted as a tuple of arrays. Each array in the ith tuple element corresponds to a matrix index along the ith axis. So in the example above, the indices returned are `(1,0), (1,2), (2,1), and (2,2)`."
   ]
  },
  {
   "cell_type": "markdown",
   "metadata": {},
   "source": [
    "## Sampling"
   ]
  },
  {
   "cell_type": "markdown",
   "metadata": {},
   "source": [
    "What if you want to randomly generate new data points? Some common use-cases would be the generation of synthetic data, testing whether some point transformation function works, or just trying to model a distribution."
   ]
  },
  {
   "cell_type": "markdown",
   "metadata": {},
   "source": [
    "Sampling from a multivariate Gaussian distribution:"
   ]
  },
  {
   "cell_type": "code",
   "execution_count": null,
   "metadata": {},
   "outputs": [
    {
     "name": "stdout",
     "output_type": "stream",
     "text": [
      "An array of shape (4, 2, 5), with values from a multivariate Gaussian:\n",
      "[[[-0.60143227 -2.6137123   1.75978469 -0.3747837  -0.208937  ]\n",
      "  [ 0.84830705  0.31005252 -0.23223041  1.07410926  0.1211707 ]]\n",
      "\n",
      " [[ 1.04649546  0.04280614 -0.0968234  -0.51818672  0.67387909]\n",
      "  [ 0.68297098 -1.14339678 -0.43194097  1.20284071 -0.50435208]]\n",
      "\n",
      " [[ 0.10352752  2.09221188  0.84059257  0.95882453 -1.05070489]\n",
      "  [ 0.8561377  -0.05123853  0.25801183  1.92347036  1.07524303]]\n",
      "\n",
      " [[-0.55080133  0.45353134  0.10567007 -0.09577899  2.12731078]\n",
      "  [ 0.23649591  0.82009635  1.17463516 -1.24304543 -0.44394244]]]\n"
     ]
    }
   ],
   "source": [
    "sampled_points = np.random.randn(4,2,5)\n",
    "print('An array of shape {}, with values from a multivariate Gaussian:\\n{}'.format(sampled_points.shape, sampled_points))"
   ]
  },
  {
   "cell_type": "markdown",
   "metadata": {},
   "source": [
    "Choosing elements randomly from a discrete set, with a chosen pmf:"
   ]
  },
  {
   "cell_type": "code",
   "execution_count": null,
   "metadata": {},
   "outputs": [
    {
     "name": "stdout",
     "output_type": "stream",
     "text": [
      "[82 91 82]\n"
     ]
    }
   ],
   "source": [
    "sampled_elements = np.random.choice([82,46,64,91], size=3, p=[0.5, 0.15, 0.05, 0.3])\n",
    "print(sampled_elements)"
   ]
  },
  {
   "cell_type": "markdown",
   "metadata": {},
   "source": [
    "Sampling from a uniform distribution:"
   ]
  },
  {
   "cell_type": "code",
   "execution_count": null,
   "metadata": {},
   "outputs": [
    {
     "name": "stdout",
     "output_type": "stream",
     "text": [
      "An array of shape (10,), with values from a uniform distribution between 0 and 5\n",
      "[1.06140995 3.12063989 2.58304995 3.34417705 4.07561498 1.24413537\n",
      " 2.09634393 0.50876819 1.56925548 0.87190493]\n"
     ]
    }
   ],
   "source": [
    "sampled_points = np.random.uniform(0,5,10)\n",
    "print('An array of shape {}, with values from a uniform distribution between 0 and 5\\n{}'.format(sampled_points.shape, sampled_points))"
   ]
  },
  {
   "cell_type": "markdown",
   "metadata": {},
   "source": [
    "## ufuncs"
   ]
  },
  {
   "cell_type": "markdown",
   "metadata": {},
   "source": [
    "ufuncs, or universal functions, are vectorized operations that can be performed elementwise and can be broadcast over arrays. Some useful built-in ufuncs are demonstrated below."
   ]
  },
  {
   "cell_type": "code",
   "execution_count": null,
   "metadata": {},
   "outputs": [
    {
     "name": "stdout",
     "output_type": "stream",
     "text": [
      "5x5 ndrray with values added at matrix indices (0,0) and (4,3): \n",
      " [[2. 0. 0. 0. 0.]\n",
      " [0. 1. 0. 0. 0.]\n",
      " [0. 0. 1. 0. 0.]\n",
      " [0. 0. 0. 1. 0.]\n",
      " [0. 0. 0. 1. 1.]]\n",
      "1D array with values added at indices 0,2,3: \n",
      " [-3 -5  1  2 -4]\n",
      "Accumulate multiplications:  [ 2  6 30]\n",
      "Accumulate additions:  [ 6  7 20]\n"
     ]
    }
   ],
   "source": [
    "# add to specific elements\n",
    "x = np.eye(5)\n",
    "np.add.at(x, ((0,4),(0,3)), 1)\n",
    "print('5x5 ndrray with values added at matrix indices (0,0) and (4,3): \\n {}'.format(x))\n",
    "\n",
    "# set specific elements negative\n",
    "x = np.array([3,5,1,2,4])\n",
    "idx = (x, [0,2,3])\n",
    "np.negative.at(x, [0,1,4])\n",
    "print('1D array with values added at indices 0,2,3: \\n {}'.format(x))\n",
    "\n",
    "# outer product\n",
    "np.outer(1j*np.linspace(2, -2, 5), np.ones((5,)))\n",
    "\n",
    "# accumulate np.accumulate\n",
    "print('Accumulate multiplications: ', np.multiply.accumulate([2, 3, 5]))\n",
    "print('Accumulate additions: ', np.add.accumulate([6,1,13]))"
   ]
  },
  {
   "cell_type": "markdown",
   "metadata": {},
   "source": [
    "NumPy has support for user-defined, custom ufuncs. However, this requires some knowledge of Cython or C++ as well, which is out of scope. Refer to the following link for more information:\n",
    "\n",
    "https://numpy.org/doc/stable/user/c-info.ufunc-tutorial.html"
   ]
  },
  {
   "cell_type": "markdown",
   "metadata": {},
   "source": [
    "## Accessing array attributes"
   ]
  },
  {
   "cell_type": "markdown",
   "metadata": {},
   "source": [
    "Sometimes you may want to get meta information about a NumPy array -- its shape, size, dimension, or whether it is a view or a copy. You can easily access this information directly through the array's attributes."
   ]
  },
  {
   "cell_type": "code",
   "execution_count": null,
   "metadata": {},
   "outputs": [
    {
     "name": "stdout",
     "output_type": "stream",
     "text": [
      "Shape of x:  (3, 4)\n",
      "Data type:  int32\n",
      "Number of dimensions:  2\n",
      "Total number of elements:  12\n",
      "Representation in memory:  None\n"
     ]
    }
   ],
   "source": [
    "# shape and dimension info\n",
    "x = np.array([[3,5,4,4],[5,8,1,2],[3,2,3,5]])\n",
    "print('Shape of x: ', x.shape)\n",
    "print('Data type: ', x.dtype)\n",
    "print('Number of dimensions: ', x.ndim)\n",
    "print('Total number of elements: ', x.size)\n",
    "\n",
    "# check if copy/view. None if copy, view otherwise\n",
    "print('Representation in memory: ', x.base)"
   ]
  },
  {
   "cell_type": "markdown",
   "metadata": {},
   "source": [
    "## Good practices"
   ]
  },
  {
   "cell_type": "markdown",
   "metadata": {},
   "source": [
    "Several good practices to keep in mind:\n",
    "1. **Don't use for-loops if you can use a vectorized operation instead.** This completely defeats the purpose of using NumPy for fast calculation.\n",
    "2. **Make sure to consider if you are modifying a view or a copy.** You don't want to be changing data that has no business being changed, or not changing any data at all.\n",
    "3. **Preallocate when possible.** It is usually more efficient to instantiate a fixed-size array, rather than to incrementally change its size while stacking rows or columns onto it over a loop.\n",
    "4. **Opt for using infix operators.** These keep your code readable and pain-free to debug."
   ]
  },
  {
   "cell_type": "markdown",
   "metadata": {},
   "source": [
    "# Matplotlib"
   ]
  },
  {
   "cell_type": "markdown",
   "metadata": {},
   "source": [
    "https://matplotlib.org/stable/api/index"
   ]
  },
  {
   "cell_type": "code",
   "execution_count": null,
   "metadata": {},
   "outputs": [],
   "source": [
    "import numpy as np\n",
    "import matplotlib.pyplot as plt"
   ]
  },
  {
   "cell_type": "markdown",
   "metadata": {},
   "source": [
    "## Creating a plot"
   ]
  },
  {
   "cell_type": "code",
   "execution_count": null,
   "metadata": {},
   "outputs": [
    {
     "data": {
      "image/png": "[encoded data removed]",
      "text/plain": [
       "<Figure size 432x288 with 1 Axes>"
      ]
     },
     "metadata": {
      "needs_background": "light"
     },
     "output_type": "display_data"
    }
   ],
   "source": [
    "fig, ax = plt.subplots()\n",
    "\n",
    "plt.style.use('default')\n",
    "\n",
    "# Sample 100 xy points from normal distribution\n",
    "x= np.linspace(-3,3, 100)\n",
    "y = np.cos(2*x) + 3.2\n",
    "\n",
    "ax.plot(x, y);"
   ]
  },
  {
   "cell_type": "markdown",
   "metadata": {},
   "source": [
    "Alternatively, you can create plots by calling analogous functions from the pyplot module directly, without creating an `Axes` object:"
   ]
  },
  {
   "cell_type": "code",
   "execution_count": null,
   "metadata": {},
   "outputs": [
    {
     "data": {
      "image/png": "[encoded data removed]",
      "text/plain": [
       "<Figure size 432x288 with 1 Axes>"
      ]
     },
     "metadata": {
      "needs_background": "light"
     },
     "output_type": "display_data"
    }
   ],
   "source": [
    "plt.plot(x, y);"
   ]
  },
  {
   "cell_type": "markdown",
   "metadata": {},
   "source": [
    "|Plot Type | Function|\n",
    "|---|----|\n",
    "|Line plot|`plot`|\n",
    "|Scatter plot|`scatter`|\n",
    "|Bar chart|`bar`|\n",
    "|Step|`step`|\n",
    "|Pie chart|`pie`|\n",
    "|Histogram|`hist`|\n",
    "|Fill|`fill_between`|\n",
    "|Scatter plot with error bars|`errorbar`|\n"
   ]
  },
  {
   "cell_type": "markdown",
   "metadata": {},
   "source": [
    "Plotting multiple data series on the same plot is easy -- simply call the plotting function again with different input data. We can also clarify which series is which by adding a legend and setting the labels of the data:"
   ]
  },
  {
   "cell_type": "code",
   "execution_count": null,
   "metadata": {},
   "outputs": [
    {
     "data": {
      "text/plain": [
       "<matplotlib.legend.Legend at 0x22bc98a0790>"
      ]
     },
     "execution_count": 43,
     "metadata": {},
     "output_type": "execute_result"
    },
    {
     "data": {
      "image/png": "[encoded data removed]",
      "text/plain": [
       "<Figure size 432x288 with 1 Axes>"
      ]
     },
     "metadata": {
      "needs_background": "light"
     },
     "output_type": "display_data"
    }
   ],
   "source": [
    "x= np.random.randn(100,100)\n",
    "x2 = (np.linspace(-2,2,100), np.full((100,), 1.5))\n",
    "\n",
    "fig, ax = plt.subplots()\n",
    "ax.plot(x[0], x[1], label='Series 1');\n",
    "ax.scatter(x2[0], x2[1], label='Series 2');\n",
    "ax.legend()"
   ]
  },
  {
   "cell_type": "markdown",
   "metadata": {},
   "source": [
    "## Styling a plot"
   ]
  },
  {
   "cell_type": "markdown",
   "metadata": {},
   "source": [
    "You can customize the style of plot elements in several ways:\n",
    "  1. Directly through the `Axes` object\n",
    "  2. Through the `rcParams` attribute of matplotlib\n",
    "  3. Using keyword arguments passed to the plotting function\n",
    "  4. Within the `fmt` string.\n",
    "  5. Through `matplotlib.pyplot`"
   ]
  },
  {
   "cell_type": "code",
   "execution_count": null,
   "metadata": {},
   "outputs": [
    {
     "data": {
      "image/png": "[encoded data removed]",
      "text/plain": [
       "<Figure size 432x288 with 3 Axes>"
      ]
     },
     "metadata": {
      "needs_background": "light"
     },
     "output_type": "display_data"
    }
   ],
   "source": [
    "import matplotlib as mpl\n",
    "\n",
    "fig, ax = plt.subplots(1,3)\n",
    "\n",
    "#rcParams\n",
    "mpl.rcParams['figure.figsize'] = (8,4)\n",
    "\n",
    "# pyplot style\n",
    "plt.setp(ax, xlim=[-1,0], ylim=[0,1], xlabel='Time')\n",
    "plt.suptitle('Example plots')\n",
    "\n",
    "# OO style\n",
    "ax[0].set_title('Line')\n",
    "ax[1].set_title('Scatter')\n",
    "ax[2].set_title('Step')\n",
    "ax[0].set_ylabel('Position')\n",
    "\n",
    "# kwarg\n",
    "ax[0].plot(x[0], x[1], linestyle='--');\n",
    "ax[1].scatter(x[0], x[1], color='g');\n",
    "\n",
    "# fmt string\n",
    "ax[2].step(x[0], x[1], '+-.c');"
   ]
  },
  {
   "cell_type": "markdown",
   "metadata": {},
   "source": [
    "|Property|kwarg|\n",
    "|---|---|\n",
    "|Line color|`color`|\n",
    "|Line style|`linestyle`|\n",
    "|Linewidth|`linewidth`|\n",
    "|Marker type|`marker`|\n",
    "|Marker size|`markersize`|\n"
   ]
  },
  {
   "cell_type": "markdown",
   "metadata": {},
   "source": [
    "|Symbol|Plot Element|Value|\n",
    "|---|---|---|\n",
    "|x|Marker|X|\n",
    "|+|Marker|Plus|\n",
    "|o|Marker|Circle|\n",
    "|p|Marker|Pentagon|\n",
    "|*|Marker|Star|\n",
    "|s|Marker|Square|\n",
    "|D|Marker|Diamond|\n",
    "|^|Marker|Triangle|\n",
    "|r|Color|Red|\n",
    "|g|Color|Green|\n",
    "|b|Color|Blue|\n",
    "|m|Color|Magenta|\n",
    "|c|Color|Cyan|\n",
    "|y|Color|Yellow|\n",
    "|--|Line|Dashed| \n",
    "|-.|Line|Dash-dot|\n",
    "|:|Line|Dotted|"
   ]
  },
  {
   "cell_type": "markdown",
   "metadata": {},
   "source": [
    "### Subplots"
   ]
  },
  {
   "cell_type": "markdown",
   "metadata": {},
   "source": [
    "To include more than one plot in a single figure, you can pass the number of rows and columns as arguments to `plt.subplot`"
   ]
  },
  {
   "cell_type": "code",
   "execution_count": null,
   "metadata": {},
   "outputs": [
    {
     "data": {
      "image/png": "[encoded data removed]",
      "text/plain": [
       "<Figure size 576x288 with 4 Axes>"
      ]
     },
     "metadata": {
      "needs_background": "light"
     },
     "output_type": "display_data"
    }
   ],
   "source": [
    "# nrows is the first argument, ncols is the second\n",
    "fig, ax = plt.subplots(2,2)\n",
    "x = np.arange(0,5,0.1)\n",
    "y = np.sin(x)\n",
    "ax[0, 0].plot(x, y);\n",
    "ax[0, 1].plot(x + 3,y);\n",
    "ax[1, 0].plot(x,y*2);\n",
    "ax[1, 1].plot(x +3 ,y + 3);\n"
   ]
  },
  {
   "cell_type": "markdown",
   "metadata": {},
   "source": [
    "## Built in stylesheets"
   ]
  },
  {
   "cell_type": "markdown",
   "metadata": {},
   "source": [
    "Matplotlib's default visuals may feel outdated, especially to those of you used to data visualization in R (ggplot!). Matplotlib has several stylesheets with a more \"modern\" look:"
   ]
  },
  {
   "cell_type": "code",
   "execution_count": null,
   "metadata": {},
   "outputs": [
    {
     "data": {
      "image/png": "[encoded data removed]",
      "text/plain": [
       "<Figure size 648x216 with 3 Axes>"
      ]
     },
     "metadata": {
      "needs_background": "light"
     },
     "output_type": "display_data"
    },
    {
     "data": {
      "image/png": "[encoded data removed]",
      "text/plain": [
       "<Figure size 900x300 with 3 Axes>"
      ]
     },
     "metadata": {},
     "output_type": "display_data"
    },
    {
     "data": {
      "image/png": "[encoded data removed]",
      "text/plain": [
       "<Figure size 900x300 with 3 Axes>"
      ]
     },
     "metadata": {},
     "output_type": "display_data"
    }
   ],
   "source": [
    "st = ['default', 'ggplot', 'seaborn']\n",
    "\n",
    "x = np.linspace(0,4)\n",
    "y = x**2 - 2.5\n",
    "for s in st:\n",
    "    fig,[ax1,ax2,ax3] = plt.subplots(1,3, figsize=(9,3))\n",
    "    plt.style.use(s)\n",
    "    plt.suptitle('Example plot using {}'.format(s))\n",
    "    ax1.step(x,y)\n",
    "    ax2.scatter(x,y)\n",
    "    ax3.hist(x,y)\n",
    "      \n",
    "plt.show()"
   ]
  },
  {
   "cell_type": "markdown",
   "metadata": {},
   "source": [
    "# SciPy"
   ]
  },
  {
   "cell_type": "code",
   "execution_count": null,
   "metadata": {},
   "outputs": [],
   "source": [
    "import numpy as np\n",
    "import scipy"
   ]
  },
  {
   "cell_type": "markdown",
   "metadata": {},
   "source": [
    "## scipy.stats"
   ]
  },
  {
   "cell_type": "markdown",
   "metadata": {},
   "source": [
    "This package includes a lot of useful statistical functions -- probability distributions, statistical tests, summary statistics, and other functionality. There is support for modeling of both continuous and discrete random variables."
   ]
  },
  {
   "cell_type": "markdown",
   "metadata": {},
   "source": [
    "For a distribution over a continuous random variable, you create a range of input values and call the `pdf` function."
   ]
  },
  {
   "cell_type": "markdown",
   "metadata": {},
   "source": [
    "Multivariate Gaussian distribution:"
   ]
  },
  {
   "cell_type": "code",
   "execution_count": null,
   "metadata": {},
   "outputs": [
    {
     "data": {
      "image/png": "[encoded data removed]",
      "text/plain": [
       "<Figure size 800x550 with 1 Axes>"
      ]
     },
     "metadata": {},
     "output_type": "display_data"
    }
   ],
   "source": [
    "from scipy.stats import multivariate_normal\n",
    "\n",
    "fig, ax = plt.subplots()\n",
    "\n",
    "x = np.linspace(-10, 10, 100)\n",
    "ax.plot(x, multivariate_normal.pdf(x),\n",
    "       'r-', lw=2, label='norm pdf');"
   ]
  },
  {
   "cell_type": "markdown",
   "metadata": {},
   "source": [
    "Distributions over discrete RVs have slightly different syntax, where you call `ppf` to create your inputs and `pmf` to get the outputs."
   ]
  },
  {
   "cell_type": "markdown",
   "metadata": {},
   "source": [
    "Binomial distribution:"
   ]
  },
  {
   "cell_type": "code",
   "execution_count": null,
   "metadata": {},
   "outputs": [
    {
     "data": {
      "text/plain": [
       "<matplotlib.collections.LineCollection at 0x24778421640>"
      ]
     },
     "execution_count": 201,
     "metadata": {},
     "output_type": "execute_result"
    },
    {
     "data": {
      "image/png": "[encoded data removed]",
      "text/plain": [
       "<Figure size 800x550 with 1 Axes>"
      ]
     },
     "metadata": {},
     "output_type": "display_data"
    }
   ],
   "source": [
    "from scipy.stats import binom\n",
    "\n",
    "fig, ax = plt.subplots()\n",
    "n, p = 5, 0.4\n",
    "x = np.arange(binom.ppf(0.01, n, p), binom.ppf(0.99, n, p))\n",
    "ax.plot(x, binom.pmf(x, n, p), 'bo', ms=8);\n",
    "ax.vlines(x, 0, binom.pmf(x, n, p), colors='b', lw=5, alpha=0.5)"
   ]
  },
  {
   "cell_type": "markdown",
   "metadata": {},
   "source": [
    "Other common distributions that are included:\n",
    "\n",
    "\n",
    "1. `scipy.stats.poisson`: Poisson distribution \n",
    "2. `scipy.stats.norm`: 1-D Gaussian distribution\n",
    "3. `scipy.stats.beta`: Beta distribution \n",
    "4. `scipy.stats.dirichlet`: Dirichlet distribution \n",
    "5. `scipy.stats.weibull_min`: Weibull distribution "
   ]
  },
  {
   "cell_type": "markdown",
   "metadata": {},
   "source": [
    "## scipy.fft"
   ]
  },
  {
   "cell_type": "code",
   "execution_count": null,
   "metadata": {},
   "outputs": [
    {
     "name": "stdout",
     "output_type": "stream",
     "text": [
      "[1.+2.41421356j 1.-2.41421356j 1.-0.41421356j 1.+0.41421356j]\n",
      "[15.+0.j  2.+7.j -7.+0.j]\n"
     ]
    }
   ],
   "source": [
    "from scipy.fft import fft, rfft, irfft\n",
    "\n",
    "# Fast fourier transform\n",
    "arr = np.exp(2j * np.pi * np.arange(4) / 8)\n",
    "print(fft(arr))\n",
    "\n",
    "# 1D discrete real fast fourier transform\n",
    "arr = [3,2,1,9]\n",
    "print(rfft(arr))"
   ]
  },
  {
   "cell_type": "markdown",
   "metadata": {},
   "source": [
    "## scipy.linalg"
   ]
  },
  {
   "cell_type": "markdown",
   "metadata": {},
   "source": [
    "Mostly analogous to np.linalg, although implementations of some operations may differ. See the relevant NumPy section above."
   ]
  },
  {
   "cell_type": "markdown",
   "metadata": {},
   "source": [
    "## scipy.special"
   ]
  },
  {
   "cell_type": "markdown",
   "metadata": {},
   "source": [
    "This module includes several functions commonly used in machine learning implementations."
   ]
  },
  {
   "cell_type": "markdown",
   "metadata": {},
   "source": [
    "`scipy.special.softmax`\n",
    "\n",
    "`scipy.special.log_softmax`\n",
    "\n",
    "Normalizing logits in the output of an RNN:"
   ]
  },
  {
   "cell_type": "code",
   "execution_count": null,
   "metadata": {},
   "outputs": [
    {
     "name": "stdout",
     "output_type": "stream",
     "text": [
      "Distribution:\n",
      "  [0.02604922 0.03600327 0.01388308 0.11734198 0.02559839 0.2211749\n",
      " 0.02548176 0.04654198 0.05915248 0.42877294]\n",
      "[-3.64776758 -3.3241455  -4.27708419 -2.14266268 -3.66522582 -1.50880148\n",
      " -3.66979254 -3.06740061 -2.82763681 -0.84682777]\n"
     ]
    }
   ],
   "source": [
    "from scipy.special import softmax, log_softmax\n",
    "\n",
    "data = np.random.randn(10)\n",
    "print('Distribution:\\n ', softmax(data))\n",
    "print(log_softmax(data))"
   ]
  },
  {
   "cell_type": "markdown",
   "metadata": {},
   "source": [
    "`scipy.special.logsumexp`\n",
    "\n",
    "To help perform computation in a numerically stable way (the \"logsumexp\" trick)"
   ]
  },
  {
   "cell_type": "code",
   "execution_count": null,
   "metadata": {},
   "outputs": [
    {
     "name": "stdout",
     "output_type": "stream",
     "text": [
      "Calculation prone to instability\n",
      " inf\n",
      "Calculation with logsumexp\n",
      " 1001.0986122886682\n"
     ]
    },
    {
     "name": "stderr",
     "output_type": "stream",
     "text": [
      "C:\\Users\\Bryan\\AppData\\Local\\Temp/ipykernel_49856/1068758318.py:5: RuntimeWarning: overflow encountered in exp\n",
      "  print('Calculation prone to instability\\n', (np.log(np.sum(np.exp(data)))))\n"
     ]
    }
   ],
   "source": [
    "from scipy.special import logsumexp\n",
    "import math\n",
    "\n",
    "data = np.array([1000, 1000, 1000])\n",
    "print('Calculation prone to instability\\n', (np.log(np.sum(np.exp(data)))))\n",
    "print('Calculation with logsumexp\\n', logsumexp(data))"
   ]
  },
  {
   "cell_type": "markdown",
   "metadata": {},
   "source": [
    "`scipy.special.gamma`\n",
    "\n",
    "Calculating mean wind speed for a wind turbine using a weibull distribution:"
   ]
  },
  {
   "cell_type": "code",
   "execution_count": null,
   "metadata": {},
   "outputs": [
    {
     "name": "stdout",
     "output_type": "stream",
     "text": [
      "Mean winspeed is 9.47618493681721\n"
     ]
    }
   ],
   "source": [
    "from scipy.special import gamma\n",
    "c, k = 10.7, 2.2\n",
    "U_bar =  c * gamma(1 + 1/k)\n",
    "print(\"Mean winspeed is {}\".format(U_bar))"
   ]
  },
  {
   "cell_type": "markdown",
   "metadata": {},
   "source": [
    "`scipy.special.xlogy`\n",
    "\n",
    "Calculating entropy:"
   ]
  },
  {
   "cell_type": "code",
   "execution_count": null,
   "metadata": {},
   "outputs": [
    {
     "name": "stdout",
     "output_type": "stream",
     "text": [
      "Entropy: -0.3579322767129623\n"
     ]
    }
   ],
   "source": [
    "from scipy.special import xlogy\n",
    "\n",
    "# hot dogs are equal to 2\n",
    "possible_hot_dogs = np.array([1,5,2,24,39,1,2])\n",
    "\n",
    "p = np.count_nonzero(possible_hot_dogs == 2)\n",
    "n = possible_hot_dogs.shape[0] - p\n",
    "H = xlogy(p / (p+n), p/(p+n))\n",
    "\n",
    "print('Entropy: {}'.format(H))"
   ]
  },
  {
   "cell_type": "markdown",
   "metadata": {},
   "source": [
    "# Other Native Python Libraries"
   ]
  },
  {
   "cell_type": "markdown",
   "metadata": {},
   "source": [
    "This section lists some other useful Python standard libraries. Example codes are forthcoming."
   ]
  },
  {
   "cell_type": "markdown",
   "metadata": {},
   "source": [
    "- [argparse](https://docs.python.org/3/library/argparse.html): Enables parsing of command line arguments at runtime.\n",
    "- [itertools](https://docs.python.org/3/library/itertools.html): Common functions for combinatorics.\n",
    "- [os](https://docs.python.org/3/library/os.html),[pathlib](https://docs.python.org/3/library/pathlib.html): Libraries for creating relative and absolute path strings to reference files.\n",
    "- [pickle](https://docs.python.org/3/library/pickle.html): Useful for saving and serializing data.\n",
    "- [math](https://docs.python.org/3/library/math.html): Math library.\n",
    "- [timeit](https://docs.python.org/3/library/timeit.html): Easily track the runtime of your code.\n"
   ]
  },
  {
   "cell_type": "markdown",
   "metadata": {},
   "source": [
    "# 3rd-party libraries"
   ]
  },
  {
   "cell_type": "markdown",
   "metadata": {},
   "source": [
    "- [tqdm](https://github.com/tqdm/tqdm): display informative progress bars.\n",
    "- [rich](https://github.com/Textualize/rich): `pprint` on steroids. Useful for the poweruser that wants to print detailed, structured, visually appealing output.\n",
    "- [numba](https://numba.pydata.org/) Python JIT compilation.\n",
    "- [pytest](https://docs.pytest.org/en/7.1.x/) generate robust unit tests."
   ]
  },
  {
   "cell_type": "markdown",
   "metadata": {},
   "source": [
    "# Optimizations"
   ]
  },
  {
   "cell_type": "markdown",
   "metadata": {},
   "source": [
    "## JAX\n",
    "\n",
    "https://github.com/google/jax\n",
    "\n",
    "JAX is a library that allows for accelerated NumPy-like computations. While NumPy is fast, it only allows computations on CPU.\n",
    "JAX allows you to perform NumPy-like computations on accelerators like GPUs and TPUs. It leverages just-in-time compilation and can often be used as a drop-in replacement for NumPy.\n",
    "\n",
    "**NOTE:** You need a UNIX system to run this out-of-the box. If you're on Windows, you can use WSL2, or you need to compile the binary yourself."
   ]
  },
  {
   "cell_type": "markdown",
   "metadata": {},
   "source": [
    "# Exercises"
   ]
  },
  {
   "cell_type": "markdown",
   "metadata": {},
   "source": [
    "1. Repeat a 2x1 array of values sampled from a 1D normal, across a matrix of shape `(200,100)`.\n",
    "2. Create an ndarray of shape `(5,2,4)` filled with the number 9. Add 1 to the elements at position `(0,1,1)`, `(2,0,3)`, and `(1,2,2)`. Then create a flattened view of it without making a copy.\n",
    "3. Create a positive semidefinite matrix and check its eigenvalues. Then sum the values in each row.\n",
    "4. Implement maximum likelihood estimation over a dataset without any for loops.\n",
    "5. Create a 5x5 matrix with the number 8 along the diagonal.\n",
    "6. Sample 50 points from a Poisson distribution in one line.\n",
    "7. Convert the nested list `[[3,2,-1],[1,6,3],[2,-4,0]]` to a NumPy array, then take its inverse.\n",
    "8. Given the array `np.array([[3,4,5,1],[5,4,2,1],[5,2,4,8],[9,1,2,0]])`, filter all unique elements that have a count of greater than 2.\n",
    "9. Create three plots in the same figure, each with different plotted data, but with the same limits. The first should be y=sin(3x), the second y=3x^2 + 4, and the third a 3D surface plot of your choosing.\n",
    "10. Add 3 to every 3rd element in a 5x5 matrix filled with values drawn from a Bernoulli distribution (p=0.25)."
   ]
  }
 ],
 "metadata": {
  "interpreter": {
   "hash": "63fd5069d213b44bf678585dea6b12cceca9941eaf7f819626cde1f2670de90d"
  },
  "kernelspec": {
   "display_name": "Python 3 (ipykernel)",
   "language": "python",
   "name": "python3"
  },
  "language_info": {
   "codemirror_mode": {
    "name": "ipython",
    "version": 3
   },
   "file_extension": ".py",
   "mimetype": "text/x-python",
   "name": "python",
   "nbconvert_exporter": "python",
   "pygments_lexer": "ipython3",
   "version": "3.9.7"
  },
  "toc": {
   "base_numbering": 1,
   "nav_menu": {
    "height": "392px",
    "width": "465.6px"
   },
   "number_sections": true,
   "sideBar": true,
   "skip_h1_title": false,
   "title_cell": "Table of Contents",
   "title_sidebar": "Contents",
   "toc_cell": true,
   "toc_position": {
    "height": "calc(100% - 180px)",
    "left": "10px",
    "top": "150px",
    "width": "368.95px"
   },
   "toc_section_display": true,
   "toc_window_display": true
  }
 },
 "nbformat": 4,
 "nbformat_minor": 2
}
